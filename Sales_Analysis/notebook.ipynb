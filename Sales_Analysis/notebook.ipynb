{
 "cells": [
  {
   "cell_type": "markdown",
   "source": "# Sales Analysis",
   "metadata": {
    "cell_id": "658d71c2281c4a629902897ff6d7eca9",
    "tags": [],
    "is_collapsed": false,
    "deepnote_cell_type": "text-cell-h1"
   }
  },
  {
   "cell_type": "code",
   "metadata": {
    "cell_id": "e51a855e0f514e1f899aa9e94d1de04d",
    "tags": [],
    "deepnote_to_be_reexecuted": false,
    "source_hash": "ca95b7f9",
    "execution_start": 1651232908672,
    "execution_millis": 185802,
    "deepnote_cell_type": "code",
    "deepnote_cell_height": 99
   },
   "source": "import pandas as pd\nimport os",
   "execution_count": null,
   "outputs": []
  },
  {
   "cell_type": "markdown",
   "source": "### Task 1: Merging 12 months of sales data into a single file ",
   "metadata": {
    "cell_id": "14da3dfdf3fd43abbb5a12406b9e97ca",
    "tags": [],
    "is_collapsed": false,
    "deepnote_cell_type": "text-cell-h3"
   }
  },
  {
   "cell_type": "code",
   "metadata": {
    "cell_id": "7f3315e7dfcd4a4a90eb2eeeda10673a",
    "tags": [],
    "deepnote_to_be_reexecuted": false,
    "source_hash": "7a2c01cb",
    "execution_start": 1651232908673,
    "execution_millis": 121,
    "deepnote_cell_type": "code",
    "deepnote_cell_height": 430
   },
   "source": " df = pd.read_csv('./Sales_Data/Sales_April_2019.csv')\n df.head()",
   "execution_count": null,
   "outputs": [
    {
     "output_type": "execute_result",
     "execution_count": 2,
     "data": {
      "application/vnd.deepnote.dataframe.v3+json": {
       "column_count": 6,
       "row_count": 5,
       "columns": [
        {
         "name": "Order ID",
         "dtype": "object",
         "stats": {
          "unique_count": 3,
          "nan_count": 1,
          "categories": [
           {
            "name": "176560",
            "count": 2
           },
           {
            "name": "2 others",
            "count": 2
           },
           {
            "name": "Missing",
            "count": 1
           }
          ]
         }
        },
        {
         "name": "Product",
         "dtype": "object",
         "stats": {
          "unique_count": 4,
          "nan_count": 1,
          "categories": [
           {
            "name": "USB-C Charging Cable",
            "count": 1
           },
           {
            "name": "3 others",
            "count": 3
           },
           {
            "name": "Missing",
            "count": 1
           }
          ]
         }
        },
        {
         "name": "Quantity Ordered",
         "dtype": "object",
         "stats": {
          "unique_count": 2,
          "nan_count": 1,
          "categories": [
           {
            "name": "1",
            "count": 3
           },
           {
            "name": "2",
            "count": 1
           },
           {
            "name": "Missing",
            "count": 1
           }
          ]
         }
        },
        {
         "name": "Price Each",
         "dtype": "object",
         "stats": {
          "unique_count": 4,
          "nan_count": 1,
          "categories": [
           {
            "name": "11.95",
            "count": 1
           },
           {
            "name": "3 others",
            "count": 3
           },
           {
            "name": "Missing",
            "count": 1
           }
          ]
         }
        },
        {
         "name": "Order Date",
         "dtype": "object",
         "stats": {
          "unique_count": 3,
          "nan_count": 1,
          "categories": [
           {
            "name": "04/12/19 14:38",
            "count": 2
           },
           {
            "name": "2 others",
            "count": 2
           },
           {
            "name": "Missing",
            "count": 1
           }
          ]
         }
        },
        {
         "name": "Purchase Address",
         "dtype": "object",
         "stats": {
          "unique_count": 3,
          "nan_count": 1,
          "categories": [
           {
            "name": "669 Spruce St, Los Angeles, CA 90001",
            "count": 2
           },
           {
            "name": "2 others",
            "count": 2
           },
           {
            "name": "Missing",
            "count": 1
           }
          ]
         }
        },
        {
         "name": "_deepnote_index_column",
         "dtype": "int64"
        }
       ],
       "rows": [
        {
         "Order ID": "176558",
         "Product": "USB-C Charging Cable",
         "Quantity Ordered": "2",
         "Price Each": "11.95",
         "Order Date": "04/19/19 08:46",
         "Purchase Address": "917 1st St, Dallas, TX 75001",
         "_deepnote_index_column": 0
        },
        {
         "Order ID": "nan",
         "Product": "nan",
         "Quantity Ordered": "nan",
         "Price Each": "nan",
         "Order Date": "nan",
         "Purchase Address": "nan",
         "_deepnote_index_column": 1
        },
        {
         "Order ID": "176559",
         "Product": "Bose SoundSport Headphones",
         "Quantity Ordered": "1",
         "Price Each": "99.99",
         "Order Date": "04/07/19 22:30",
         "Purchase Address": "682 Chestnut St, Boston, MA 02215",
         "_deepnote_index_column": 2
        },
        {
         "Order ID": "176560",
         "Product": "Google Phone",
         "Quantity Ordered": "1",
         "Price Each": "600",
         "Order Date": "04/12/19 14:38",
         "Purchase Address": "669 Spruce St, Los Angeles, CA 90001",
         "_deepnote_index_column": 3
        },
        {
         "Order ID": "176560",
         "Product": "Wired Headphones",
         "Quantity Ordered": "1",
         "Price Each": "11.99",
         "Order Date": "04/12/19 14:38",
         "Purchase Address": "669 Spruce St, Los Angeles, CA 90001",
         "_deepnote_index_column": 4
        }
       ]
      },
      "text/plain": "  Order ID                     Product Quantity Ordered Price Each  \\\n0   176558        USB-C Charging Cable                2      11.95   \n1      NaN                         NaN              NaN        NaN   \n2   176559  Bose SoundSport Headphones                1      99.99   \n3   176560                Google Phone                1        600   \n4   176560            Wired Headphones                1      11.99   \n\n       Order Date                      Purchase Address  \n0  04/19/19 08:46          917 1st St, Dallas, TX 75001  \n1             NaN                                   NaN  \n2  04/07/19 22:30     682 Chestnut St, Boston, MA 02215  \n3  04/12/19 14:38  669 Spruce St, Los Angeles, CA 90001  \n4  04/12/19 14:38  669 Spruce St, Los Angeles, CA 90001  ",
      "text/html": "<div>\n<style scoped>\n    .dataframe tbody tr th:only-of-type {\n        vertical-align: middle;\n    }\n\n    .dataframe tbody tr th {\n        vertical-align: top;\n    }\n\n    .dataframe thead th {\n        text-align: right;\n    }\n</style>\n<table border=\"1\" class=\"dataframe\">\n  <thead>\n    <tr style=\"text-align: right;\">\n      <th></th>\n      <th>Order ID</th>\n      <th>Product</th>\n      <th>Quantity Ordered</th>\n      <th>Price Each</th>\n      <th>Order Date</th>\n      <th>Purchase Address</th>\n    </tr>\n  </thead>\n  <tbody>\n    <tr>\n      <th>0</th>\n      <td>176558</td>\n      <td>USB-C Charging Cable</td>\n      <td>2</td>\n      <td>11.95</td>\n      <td>04/19/19 08:46</td>\n      <td>917 1st St, Dallas, TX 75001</td>\n    </tr>\n    <tr>\n      <th>1</th>\n      <td>NaN</td>\n      <td>NaN</td>\n      <td>NaN</td>\n      <td>NaN</td>\n      <td>NaN</td>\n      <td>NaN</td>\n    </tr>\n    <tr>\n      <th>2</th>\n      <td>176559</td>\n      <td>Bose SoundSport Headphones</td>\n      <td>1</td>\n      <td>99.99</td>\n      <td>04/07/19 22:30</td>\n      <td>682 Chestnut St, Boston, MA 02215</td>\n    </tr>\n    <tr>\n      <th>3</th>\n      <td>176560</td>\n      <td>Google Phone</td>\n      <td>1</td>\n      <td>600</td>\n      <td>04/12/19 14:38</td>\n      <td>669 Spruce St, Los Angeles, CA 90001</td>\n    </tr>\n    <tr>\n      <th>4</th>\n      <td>176560</td>\n      <td>Wired Headphones</td>\n      <td>1</td>\n      <td>11.99</td>\n      <td>04/12/19 14:38</td>\n      <td>669 Spruce St, Los Angeles, CA 90001</td>\n    </tr>\n  </tbody>\n</table>\n</div>"
     },
     "metadata": {}
    }
   ]
  },
  {
   "cell_type": "code",
   "metadata": {
    "cell_id": "203db16abbe94555854d5d223c03dd8c",
    "tags": [],
    "deepnote_to_be_reexecuted": false,
    "source_hash": "d6f247da",
    "execution_start": 1651232908792,
    "execution_millis": 3,
    "deepnote_cell_type": "code",
    "deepnote_cell_height": 388.25
   },
   "source": "files = [file for file in os.listdir('./Sales_Data')]\n\nfor file in files:\n    print(file)",
   "execution_count": null,
   "outputs": [
    {
     "name": "stdout",
     "text": "Sales_September_2019.csv\nSales_November_2019.csv\nSales_February_2019.csv\nSales_April_2019.csv\nSales_August_2019.csv\nSales_June_2019.csv\nSales_March_2019.csv\nSales_December_2019.csv\nSales_July_2019.csv\nSales_May_2019.csv\nSales_January_2019.csv\nSales_October_2019.csv\n",
     "output_type": "stream"
    }
   ]
  },
  {
   "cell_type": "code",
   "metadata": {
    "cell_id": "632fdc1c27984d6184a9184780ff2ccf",
    "tags": [],
    "deepnote_to_be_reexecuted": false,
    "source_hash": "293885af",
    "execution_start": 1651232908793,
    "execution_millis": 963,
    "deepnote_table_state": {
     "pageSize": 10,
     "pageIndex": 1,
     "filters": [],
     "sortBy": []
    },
    "deepnote_table_loading": false,
    "deepnote_cell_type": "code",
    "deepnote_cell_height": 538
   },
   "source": "#concatenate dataFrame\nall_months_data = pd.DataFrame()\n\nfor file in files:\n    df = pd.read_csv('./Sales_Data/'+file)\n    all_months_data = pd.concat([all_months_data, df])\n\nall_months_data.head()",
   "execution_count": null,
   "outputs": [
    {
     "output_type": "execute_result",
     "execution_count": 4,
     "data": {
      "application/vnd.deepnote.dataframe.v3+json": {
       "column_count": 6,
       "row_count": 5,
       "columns": [
        {
         "name": "Order ID",
         "dtype": "object",
         "stats": {
          "unique_count": 5,
          "nan_count": 0,
          "categories": [
           {
            "name": "248151",
            "count": 1
           },
           {
            "name": "248152",
            "count": 1
           },
           {
            "name": "3 others",
            "count": 3
           }
          ]
         }
        },
        {
         "name": "Product",
         "dtype": "object",
         "stats": {
          "unique_count": 3,
          "nan_count": 0,
          "categories": [
           {
            "name": "USB-C Charging Cable",
            "count": 3
           },
           {
            "name": "AA Batteries (4-pack)",
            "count": 1
           },
           {
            "name": "27in FHD Monitor",
            "count": 1
           }
          ]
         }
        },
        {
         "name": "Quantity Ordered",
         "dtype": "object",
         "stats": {
          "unique_count": 3,
          "nan_count": 0,
          "categories": [
           {
            "name": "1",
            "count": 3
           },
           {
            "name": "4",
            "count": 1
           },
           {
            "name": "2",
            "count": 1
           }
          ]
         }
        },
        {
         "name": "Price Each",
         "dtype": "object",
         "stats": {
          "unique_count": 3,
          "nan_count": 0,
          "categories": [
           {
            "name": "11.95",
            "count": 3
           },
           {
            "name": "3.84",
            "count": 1
           },
           {
            "name": "149.99",
            "count": 1
           }
          ]
         }
        },
        {
         "name": "Order Date",
         "dtype": "object",
         "stats": {
          "unique_count": 5,
          "nan_count": 0,
          "categories": [
           {
            "name": "09/17/19 14:44",
            "count": 1
           },
           {
            "name": "09/29/19 10:19",
            "count": 1
           },
           {
            "name": "3 others",
            "count": 3
           }
          ]
         }
        },
        {
         "name": "Purchase Address",
         "dtype": "object",
         "stats": {
          "unique_count": 5,
          "nan_count": 0,
          "categories": [
           {
            "name": "380 North St, Los Angeles, CA 90001",
            "count": 1
           },
           {
            "name": "511 8th St, Austin, TX 73301",
            "count": 1
           },
           {
            "name": "3 others",
            "count": 3
           }
          ]
         }
        },
        {
         "name": "_deepnote_index_column",
         "dtype": "int64"
        }
       ],
       "rows": [
        {
         "Order ID": "248151",
         "Product": "AA Batteries (4-pack)",
         "Quantity Ordered": "4",
         "Price Each": "3.84",
         "Order Date": "09/17/19 14:44",
         "Purchase Address": "380 North St, Los Angeles, CA 90001",
         "_deepnote_index_column": 0
        },
        {
         "Order ID": "248152",
         "Product": "USB-C Charging Cable",
         "Quantity Ordered": "2",
         "Price Each": "11.95",
         "Order Date": "09/29/19 10:19",
         "Purchase Address": "511 8th St, Austin, TX 73301",
         "_deepnote_index_column": 1
        },
        {
         "Order ID": "248153",
         "Product": "USB-C Charging Cable",
         "Quantity Ordered": "1",
         "Price Each": "11.95",
         "Order Date": "09/16/19 17:48",
         "Purchase Address": "151 Johnson St, Los Angeles, CA 90001",
         "_deepnote_index_column": 2
        },
        {
         "Order ID": "248154",
         "Product": "27in FHD Monitor",
         "Quantity Ordered": "1",
         "Price Each": "149.99",
         "Order Date": "09/27/19 07:52",
         "Purchase Address": "355 Hickory St, Seattle, WA 98101",
         "_deepnote_index_column": 3
        },
        {
         "Order ID": "248155",
         "Product": "USB-C Charging Cable",
         "Quantity Ordered": "1",
         "Price Each": "11.95",
         "Order Date": "09/01/19 19:03",
         "Purchase Address": "125 5th St, Atlanta, GA 30301",
         "_deepnote_index_column": 4
        }
       ]
      },
      "text/plain": "  Order ID                Product Quantity Ordered Price Each      Order Date  \\\n0   248151  AA Batteries (4-pack)                4       3.84  09/17/19 14:44   \n1   248152   USB-C Charging Cable                2      11.95  09/29/19 10:19   \n2   248153   USB-C Charging Cable                1      11.95  09/16/19 17:48   \n3   248154       27in FHD Monitor                1     149.99  09/27/19 07:52   \n4   248155   USB-C Charging Cable                1      11.95  09/01/19 19:03   \n\n                        Purchase Address  \n0    380 North St, Los Angeles, CA 90001  \n1           511 8th St, Austin, TX 73301  \n2  151 Johnson St, Los Angeles, CA 90001  \n3      355 Hickory St, Seattle, WA 98101  \n4          125 5th St, Atlanta, GA 30301  ",
      "text/html": "<div>\n<style scoped>\n    .dataframe tbody tr th:only-of-type {\n        vertical-align: middle;\n    }\n\n    .dataframe tbody tr th {\n        vertical-align: top;\n    }\n\n    .dataframe thead th {\n        text-align: right;\n    }\n</style>\n<table border=\"1\" class=\"dataframe\">\n  <thead>\n    <tr style=\"text-align: right;\">\n      <th></th>\n      <th>Order ID</th>\n      <th>Product</th>\n      <th>Quantity Ordered</th>\n      <th>Price Each</th>\n      <th>Order Date</th>\n      <th>Purchase Address</th>\n    </tr>\n  </thead>\n  <tbody>\n    <tr>\n      <th>0</th>\n      <td>248151</td>\n      <td>AA Batteries (4-pack)</td>\n      <td>4</td>\n      <td>3.84</td>\n      <td>09/17/19 14:44</td>\n      <td>380 North St, Los Angeles, CA 90001</td>\n    </tr>\n    <tr>\n      <th>1</th>\n      <td>248152</td>\n      <td>USB-C Charging Cable</td>\n      <td>2</td>\n      <td>11.95</td>\n      <td>09/29/19 10:19</td>\n      <td>511 8th St, Austin, TX 73301</td>\n    </tr>\n    <tr>\n      <th>2</th>\n      <td>248153</td>\n      <td>USB-C Charging Cable</td>\n      <td>1</td>\n      <td>11.95</td>\n      <td>09/16/19 17:48</td>\n      <td>151 Johnson St, Los Angeles, CA 90001</td>\n    </tr>\n    <tr>\n      <th>3</th>\n      <td>248154</td>\n      <td>27in FHD Monitor</td>\n      <td>1</td>\n      <td>149.99</td>\n      <td>09/27/19 07:52</td>\n      <td>355 Hickory St, Seattle, WA 98101</td>\n    </tr>\n    <tr>\n      <th>4</th>\n      <td>248155</td>\n      <td>USB-C Charging Cable</td>\n      <td>1</td>\n      <td>11.95</td>\n      <td>09/01/19 19:03</td>\n      <td>125 5th St, Atlanta, GA 30301</td>\n    </tr>\n  </tbody>\n</table>\n</div>"
     },
     "metadata": {}
    }
   ]
  },
  {
   "cell_type": "code",
   "metadata": {
    "cell_id": "f6b56f8a3daf4fab9ab6cc3d98415fb6",
    "tags": [],
    "deepnote_to_be_reexecuted": false,
    "source_hash": "f5fb435f",
    "execution_start": 1651232909758,
    "execution_millis": 1080,
    "deepnote_cell_type": "code",
    "deepnote_cell_height": 99
   },
   "source": "#save data\nall_months_data.to_csv('all_data.csv', index=False)",
   "execution_count": null,
   "outputs": []
  },
  {
   "cell_type": "code",
   "metadata": {
    "cell_id": "44fbf0af123d4deab6091cc3c3306981",
    "tags": [],
    "deepnote_to_be_reexecuted": false,
    "source_hash": "5179fe3",
    "execution_start": 1651232910839,
    "execution_millis": 732,
    "deepnote_cell_type": "code",
    "deepnote_cell_height": 448
   },
   "source": "#Read in update DataFrame\nall_data = pd.read_csv('all_data.csv')\nall_data.head()",
   "execution_count": null,
   "outputs": [
    {
     "output_type": "execute_result",
     "execution_count": 6,
     "data": {
      "application/vnd.deepnote.dataframe.v3+json": {
       "column_count": 6,
       "row_count": 5,
       "columns": [
        {
         "name": "Order ID",
         "dtype": "object",
         "stats": {
          "unique_count": 5,
          "nan_count": 0,
          "categories": [
           {
            "name": "248151",
            "count": 1
           },
           {
            "name": "248152",
            "count": 1
           },
           {
            "name": "3 others",
            "count": 3
           }
          ]
         }
        },
        {
         "name": "Product",
         "dtype": "object",
         "stats": {
          "unique_count": 3,
          "nan_count": 0,
          "categories": [
           {
            "name": "USB-C Charging Cable",
            "count": 3
           },
           {
            "name": "AA Batteries (4-pack)",
            "count": 1
           },
           {
            "name": "27in FHD Monitor",
            "count": 1
           }
          ]
         }
        },
        {
         "name": "Quantity Ordered",
         "dtype": "object",
         "stats": {
          "unique_count": 3,
          "nan_count": 0,
          "categories": [
           {
            "name": "1",
            "count": 3
           },
           {
            "name": "4",
            "count": 1
           },
           {
            "name": "2",
            "count": 1
           }
          ]
         }
        },
        {
         "name": "Price Each",
         "dtype": "object",
         "stats": {
          "unique_count": 3,
          "nan_count": 0,
          "categories": [
           {
            "name": "11.95",
            "count": 3
           },
           {
            "name": "3.84",
            "count": 1
           },
           {
            "name": "149.99",
            "count": 1
           }
          ]
         }
        },
        {
         "name": "Order Date",
         "dtype": "object",
         "stats": {
          "unique_count": 5,
          "nan_count": 0,
          "categories": [
           {
            "name": "09/17/19 14:44",
            "count": 1
           },
           {
            "name": "09/29/19 10:19",
            "count": 1
           },
           {
            "name": "3 others",
            "count": 3
           }
          ]
         }
        },
        {
         "name": "Purchase Address",
         "dtype": "object",
         "stats": {
          "unique_count": 5,
          "nan_count": 0,
          "categories": [
           {
            "name": "380 North St, Los Angeles, CA 90001",
            "count": 1
           },
           {
            "name": "511 8th St, Austin, TX 73301",
            "count": 1
           },
           {
            "name": "3 others",
            "count": 3
           }
          ]
         }
        },
        {
         "name": "_deepnote_index_column",
         "dtype": "int64"
        }
       ],
       "rows": [
        {
         "Order ID": "248151",
         "Product": "AA Batteries (4-pack)",
         "Quantity Ordered": "4",
         "Price Each": "3.84",
         "Order Date": "09/17/19 14:44",
         "Purchase Address": "380 North St, Los Angeles, CA 90001",
         "_deepnote_index_column": 0
        },
        {
         "Order ID": "248152",
         "Product": "USB-C Charging Cable",
         "Quantity Ordered": "2",
         "Price Each": "11.95",
         "Order Date": "09/29/19 10:19",
         "Purchase Address": "511 8th St, Austin, TX 73301",
         "_deepnote_index_column": 1
        },
        {
         "Order ID": "248153",
         "Product": "USB-C Charging Cable",
         "Quantity Ordered": "1",
         "Price Each": "11.95",
         "Order Date": "09/16/19 17:48",
         "Purchase Address": "151 Johnson St, Los Angeles, CA 90001",
         "_deepnote_index_column": 2
        },
        {
         "Order ID": "248154",
         "Product": "27in FHD Monitor",
         "Quantity Ordered": "1",
         "Price Each": "149.99",
         "Order Date": "09/27/19 07:52",
         "Purchase Address": "355 Hickory St, Seattle, WA 98101",
         "_deepnote_index_column": 3
        },
        {
         "Order ID": "248155",
         "Product": "USB-C Charging Cable",
         "Quantity Ordered": "1",
         "Price Each": "11.95",
         "Order Date": "09/01/19 19:03",
         "Purchase Address": "125 5th St, Atlanta, GA 30301",
         "_deepnote_index_column": 4
        }
       ]
      },
      "text/plain": "  Order ID                Product Quantity Ordered Price Each      Order Date  \\\n0   248151  AA Batteries (4-pack)                4       3.84  09/17/19 14:44   \n1   248152   USB-C Charging Cable                2      11.95  09/29/19 10:19   \n2   248153   USB-C Charging Cable                1      11.95  09/16/19 17:48   \n3   248154       27in FHD Monitor                1     149.99  09/27/19 07:52   \n4   248155   USB-C Charging Cable                1      11.95  09/01/19 19:03   \n\n                        Purchase Address  \n0    380 North St, Los Angeles, CA 90001  \n1           511 8th St, Austin, TX 73301  \n2  151 Johnson St, Los Angeles, CA 90001  \n3      355 Hickory St, Seattle, WA 98101  \n4          125 5th St, Atlanta, GA 30301  ",
      "text/html": "<div>\n<style scoped>\n    .dataframe tbody tr th:only-of-type {\n        vertical-align: middle;\n    }\n\n    .dataframe tbody tr th {\n        vertical-align: top;\n    }\n\n    .dataframe thead th {\n        text-align: right;\n    }\n</style>\n<table border=\"1\" class=\"dataframe\">\n  <thead>\n    <tr style=\"text-align: right;\">\n      <th></th>\n      <th>Order ID</th>\n      <th>Product</th>\n      <th>Quantity Ordered</th>\n      <th>Price Each</th>\n      <th>Order Date</th>\n      <th>Purchase Address</th>\n    </tr>\n  </thead>\n  <tbody>\n    <tr>\n      <th>0</th>\n      <td>248151</td>\n      <td>AA Batteries (4-pack)</td>\n      <td>4</td>\n      <td>3.84</td>\n      <td>09/17/19 14:44</td>\n      <td>380 North St, Los Angeles, CA 90001</td>\n    </tr>\n    <tr>\n      <th>1</th>\n      <td>248152</td>\n      <td>USB-C Charging Cable</td>\n      <td>2</td>\n      <td>11.95</td>\n      <td>09/29/19 10:19</td>\n      <td>511 8th St, Austin, TX 73301</td>\n    </tr>\n    <tr>\n      <th>2</th>\n      <td>248153</td>\n      <td>USB-C Charging Cable</td>\n      <td>1</td>\n      <td>11.95</td>\n      <td>09/16/19 17:48</td>\n      <td>151 Johnson St, Los Angeles, CA 90001</td>\n    </tr>\n    <tr>\n      <th>3</th>\n      <td>248154</td>\n      <td>27in FHD Monitor</td>\n      <td>1</td>\n      <td>149.99</td>\n      <td>09/27/19 07:52</td>\n      <td>355 Hickory St, Seattle, WA 98101</td>\n    </tr>\n    <tr>\n      <th>4</th>\n      <td>248155</td>\n      <td>USB-C Charging Cable</td>\n      <td>1</td>\n      <td>11.95</td>\n      <td>09/01/19 19:03</td>\n      <td>125 5th St, Atlanta, GA 30301</td>\n    </tr>\n  </tbody>\n</table>\n</div>"
     },
     "metadata": {}
    }
   ]
  },
  {
   "cell_type": "markdown",
   "source": "### Clean up the data",
   "metadata": {
    "cell_id": "83be4038326149f7b2caab4495fa1415",
    "tags": [],
    "is_collapsed": false,
    "deepnote_cell_type": "text-cell-h3"
   }
  },
  {
   "cell_type": "code",
   "metadata": {
    "cell_id": "a12355508e344a7aaf55078fb7e669ff",
    "tags": [],
    "deepnote_to_be_reexecuted": false,
    "source_hash": "55dbd660",
    "execution_start": 1651232911575,
    "execution_millis": 173,
    "deepnote_cell_type": "code",
    "deepnote_cell_height": 448
   },
   "source": " #Drop rows of NAN\n nan_df = all_data[all_data.isna().any(axis=1)]\n nan_df.head()",
   "execution_count": null,
   "outputs": [
    {
     "output_type": "execute_result",
     "execution_count": 7,
     "data": {
      "application/vnd.deepnote.dataframe.v3+json": {
       "column_count": 6,
       "row_count": 5,
       "columns": [
        {
         "name": "Order ID",
         "dtype": "object",
         "stats": {
          "unique_count": 0,
          "nan_count": 5,
          "categories": [
           {
            "name": "Missing",
            "count": 5
           }
          ]
         }
        },
        {
         "name": "Product",
         "dtype": "object",
         "stats": {
          "unique_count": 0,
          "nan_count": 5,
          "categories": [
           {
            "name": "Missing",
            "count": 5
           }
          ]
         }
        },
        {
         "name": "Quantity Ordered",
         "dtype": "object",
         "stats": {
          "unique_count": 0,
          "nan_count": 5,
          "categories": [
           {
            "name": "Missing",
            "count": 5
           }
          ]
         }
        },
        {
         "name": "Price Each",
         "dtype": "object",
         "stats": {
          "unique_count": 0,
          "nan_count": 5,
          "categories": [
           {
            "name": "Missing",
            "count": 5
           }
          ]
         }
        },
        {
         "name": "Order Date",
         "dtype": "object",
         "stats": {
          "unique_count": 0,
          "nan_count": 5,
          "categories": [
           {
            "name": "Missing",
            "count": 5
           }
          ]
         }
        },
        {
         "name": "Purchase Address",
         "dtype": "object",
         "stats": {
          "unique_count": 0,
          "nan_count": 5,
          "categories": [
           {
            "name": "Missing",
            "count": 5
           }
          ]
         }
        },
        {
         "name": "_deepnote_index_column",
         "dtype": "int64"
        }
       ],
       "rows": [
        {
         "Order ID": "nan",
         "Product": "nan",
         "Quantity Ordered": "nan",
         "Price Each": "nan",
         "Order Date": "nan",
         "Purchase Address": "nan",
         "_deepnote_index_column": 198
        },
        {
         "Order ID": "nan",
         "Product": "nan",
         "Quantity Ordered": "nan",
         "Price Each": "nan",
         "Order Date": "nan",
         "Purchase Address": "nan",
         "_deepnote_index_column": 574
        },
        {
         "Order ID": "nan",
         "Product": "nan",
         "Quantity Ordered": "nan",
         "Price Each": "nan",
         "Order Date": "nan",
         "Purchase Address": "nan",
         "_deepnote_index_column": 776
        },
        {
         "Order ID": "nan",
         "Product": "nan",
         "Quantity Ordered": "nan",
         "Price Each": "nan",
         "Order Date": "nan",
         "Purchase Address": "nan",
         "_deepnote_index_column": 1383
        },
        {
         "Order ID": "nan",
         "Product": "nan",
         "Quantity Ordered": "nan",
         "Price Each": "nan",
         "Order Date": "nan",
         "Purchase Address": "nan",
         "_deepnote_index_column": 1436
        }
       ]
      },
      "text/plain": "     Order ID Product Quantity Ordered Price Each Order Date Purchase Address\n198       NaN     NaN              NaN        NaN        NaN              NaN\n574       NaN     NaN              NaN        NaN        NaN              NaN\n776       NaN     NaN              NaN        NaN        NaN              NaN\n1383      NaN     NaN              NaN        NaN        NaN              NaN\n1436      NaN     NaN              NaN        NaN        NaN              NaN",
      "text/html": "<div>\n<style scoped>\n    .dataframe tbody tr th:only-of-type {\n        vertical-align: middle;\n    }\n\n    .dataframe tbody tr th {\n        vertical-align: top;\n    }\n\n    .dataframe thead th {\n        text-align: right;\n    }\n</style>\n<table border=\"1\" class=\"dataframe\">\n  <thead>\n    <tr style=\"text-align: right;\">\n      <th></th>\n      <th>Order ID</th>\n      <th>Product</th>\n      <th>Quantity Ordered</th>\n      <th>Price Each</th>\n      <th>Order Date</th>\n      <th>Purchase Address</th>\n    </tr>\n  </thead>\n  <tbody>\n    <tr>\n      <th>198</th>\n      <td>NaN</td>\n      <td>NaN</td>\n      <td>NaN</td>\n      <td>NaN</td>\n      <td>NaN</td>\n      <td>NaN</td>\n    </tr>\n    <tr>\n      <th>574</th>\n      <td>NaN</td>\n      <td>NaN</td>\n      <td>NaN</td>\n      <td>NaN</td>\n      <td>NaN</td>\n      <td>NaN</td>\n    </tr>\n    <tr>\n      <th>776</th>\n      <td>NaN</td>\n      <td>NaN</td>\n      <td>NaN</td>\n      <td>NaN</td>\n      <td>NaN</td>\n      <td>NaN</td>\n    </tr>\n    <tr>\n      <th>1383</th>\n      <td>NaN</td>\n      <td>NaN</td>\n      <td>NaN</td>\n      <td>NaN</td>\n      <td>NaN</td>\n      <td>NaN</td>\n    </tr>\n    <tr>\n      <th>1436</th>\n      <td>NaN</td>\n      <td>NaN</td>\n      <td>NaN</td>\n      <td>NaN</td>\n      <td>NaN</td>\n      <td>NaN</td>\n    </tr>\n  </tbody>\n</table>\n</div>"
     },
     "metadata": {}
    }
   ]
  },
  {
   "cell_type": "code",
   "metadata": {
    "cell_id": "67e35c31970a4a5db36a4f73a8da8d92",
    "tags": [],
    "deepnote_to_be_reexecuted": false,
    "source_hash": "eb51d3c5",
    "execution_start": 1651232911748,
    "execution_millis": 213,
    "deepnote_cell_type": "code",
    "deepnote_cell_height": 430
   },
   "source": "all_data = all_data.dropna(how='all')\nall_data.head()",
   "execution_count": null,
   "outputs": [
    {
     "output_type": "execute_result",
     "execution_count": 8,
     "data": {
      "application/vnd.deepnote.dataframe.v3+json": {
       "column_count": 6,
       "row_count": 5,
       "columns": [
        {
         "name": "Order ID",
         "dtype": "object",
         "stats": {
          "unique_count": 5,
          "nan_count": 0,
          "categories": [
           {
            "name": "248151",
            "count": 1
           },
           {
            "name": "248152",
            "count": 1
           },
           {
            "name": "3 others",
            "count": 3
           }
          ]
         }
        },
        {
         "name": "Product",
         "dtype": "object",
         "stats": {
          "unique_count": 3,
          "nan_count": 0,
          "categories": [
           {
            "name": "USB-C Charging Cable",
            "count": 3
           },
           {
            "name": "AA Batteries (4-pack)",
            "count": 1
           },
           {
            "name": "27in FHD Monitor",
            "count": 1
           }
          ]
         }
        },
        {
         "name": "Quantity Ordered",
         "dtype": "object",
         "stats": {
          "unique_count": 3,
          "nan_count": 0,
          "categories": [
           {
            "name": "1",
            "count": 3
           },
           {
            "name": "4",
            "count": 1
           },
           {
            "name": "2",
            "count": 1
           }
          ]
         }
        },
        {
         "name": "Price Each",
         "dtype": "object",
         "stats": {
          "unique_count": 3,
          "nan_count": 0,
          "categories": [
           {
            "name": "11.95",
            "count": 3
           },
           {
            "name": "3.84",
            "count": 1
           },
           {
            "name": "149.99",
            "count": 1
           }
          ]
         }
        },
        {
         "name": "Order Date",
         "dtype": "object",
         "stats": {
          "unique_count": 5,
          "nan_count": 0,
          "categories": [
           {
            "name": "09/17/19 14:44",
            "count": 1
           },
           {
            "name": "09/29/19 10:19",
            "count": 1
           },
           {
            "name": "3 others",
            "count": 3
           }
          ]
         }
        },
        {
         "name": "Purchase Address",
         "dtype": "object",
         "stats": {
          "unique_count": 5,
          "nan_count": 0,
          "categories": [
           {
            "name": "380 North St, Los Angeles, CA 90001",
            "count": 1
           },
           {
            "name": "511 8th St, Austin, TX 73301",
            "count": 1
           },
           {
            "name": "3 others",
            "count": 3
           }
          ]
         }
        },
        {
         "name": "_deepnote_index_column",
         "dtype": "int64"
        }
       ],
       "rows": [
        {
         "Order ID": "248151",
         "Product": "AA Batteries (4-pack)",
         "Quantity Ordered": "4",
         "Price Each": "3.84",
         "Order Date": "09/17/19 14:44",
         "Purchase Address": "380 North St, Los Angeles, CA 90001",
         "_deepnote_index_column": 0
        },
        {
         "Order ID": "248152",
         "Product": "USB-C Charging Cable",
         "Quantity Ordered": "2",
         "Price Each": "11.95",
         "Order Date": "09/29/19 10:19",
         "Purchase Address": "511 8th St, Austin, TX 73301",
         "_deepnote_index_column": 1
        },
        {
         "Order ID": "248153",
         "Product": "USB-C Charging Cable",
         "Quantity Ordered": "1",
         "Price Each": "11.95",
         "Order Date": "09/16/19 17:48",
         "Purchase Address": "151 Johnson St, Los Angeles, CA 90001",
         "_deepnote_index_column": 2
        },
        {
         "Order ID": "248154",
         "Product": "27in FHD Monitor",
         "Quantity Ordered": "1",
         "Price Each": "149.99",
         "Order Date": "09/27/19 07:52",
         "Purchase Address": "355 Hickory St, Seattle, WA 98101",
         "_deepnote_index_column": 3
        },
        {
         "Order ID": "248155",
         "Product": "USB-C Charging Cable",
         "Quantity Ordered": "1",
         "Price Each": "11.95",
         "Order Date": "09/01/19 19:03",
         "Purchase Address": "125 5th St, Atlanta, GA 30301",
         "_deepnote_index_column": 4
        }
       ]
      },
      "text/plain": "  Order ID                Product Quantity Ordered Price Each      Order Date  \\\n0   248151  AA Batteries (4-pack)                4       3.84  09/17/19 14:44   \n1   248152   USB-C Charging Cable                2      11.95  09/29/19 10:19   \n2   248153   USB-C Charging Cable                1      11.95  09/16/19 17:48   \n3   248154       27in FHD Monitor                1     149.99  09/27/19 07:52   \n4   248155   USB-C Charging Cable                1      11.95  09/01/19 19:03   \n\n                        Purchase Address  \n0    380 North St, Los Angeles, CA 90001  \n1           511 8th St, Austin, TX 73301  \n2  151 Johnson St, Los Angeles, CA 90001  \n3      355 Hickory St, Seattle, WA 98101  \n4          125 5th St, Atlanta, GA 30301  ",
      "text/html": "<div>\n<style scoped>\n    .dataframe tbody tr th:only-of-type {\n        vertical-align: middle;\n    }\n\n    .dataframe tbody tr th {\n        vertical-align: top;\n    }\n\n    .dataframe thead th {\n        text-align: right;\n    }\n</style>\n<table border=\"1\" class=\"dataframe\">\n  <thead>\n    <tr style=\"text-align: right;\">\n      <th></th>\n      <th>Order ID</th>\n      <th>Product</th>\n      <th>Quantity Ordered</th>\n      <th>Price Each</th>\n      <th>Order Date</th>\n      <th>Purchase Address</th>\n    </tr>\n  </thead>\n  <tbody>\n    <tr>\n      <th>0</th>\n      <td>248151</td>\n      <td>AA Batteries (4-pack)</td>\n      <td>4</td>\n      <td>3.84</td>\n      <td>09/17/19 14:44</td>\n      <td>380 North St, Los Angeles, CA 90001</td>\n    </tr>\n    <tr>\n      <th>1</th>\n      <td>248152</td>\n      <td>USB-C Charging Cable</td>\n      <td>2</td>\n      <td>11.95</td>\n      <td>09/29/19 10:19</td>\n      <td>511 8th St, Austin, TX 73301</td>\n    </tr>\n    <tr>\n      <th>2</th>\n      <td>248153</td>\n      <td>USB-C Charging Cable</td>\n      <td>1</td>\n      <td>11.95</td>\n      <td>09/16/19 17:48</td>\n      <td>151 Johnson St, Los Angeles, CA 90001</td>\n    </tr>\n    <tr>\n      <th>3</th>\n      <td>248154</td>\n      <td>27in FHD Monitor</td>\n      <td>1</td>\n      <td>149.99</td>\n      <td>09/27/19 07:52</td>\n      <td>355 Hickory St, Seattle, WA 98101</td>\n    </tr>\n    <tr>\n      <th>4</th>\n      <td>248155</td>\n      <td>USB-C Charging Cable</td>\n      <td>1</td>\n      <td>11.95</td>\n      <td>09/01/19 19:03</td>\n      <td>125 5th St, Atlanta, GA 30301</td>\n    </tr>\n  </tbody>\n</table>\n</div>"
     },
     "metadata": {}
    }
   ]
  },
  {
   "cell_type": "code",
   "metadata": {
    "cell_id": "7499e46e9f264c3e828177d3b10d088f",
    "tags": [],
    "deepnote_to_be_reexecuted": false,
    "source_hash": "625e4f34",
    "execution_start": 1651232911960,
    "execution_millis": 193,
    "deepnote_cell_type": "code",
    "deepnote_cell_height": 448
   },
   "source": "#Find Or and delete it\ntemp_df = all_data[all_data['Order Date'].str[0:2] == 'Or']\ntemp_df.head()",
   "execution_count": null,
   "outputs": [
    {
     "output_type": "execute_result",
     "execution_count": 9,
     "data": {
      "application/vnd.deepnote.dataframe.v3+json": {
       "column_count": 6,
       "row_count": 5,
       "columns": [
        {
         "name": "Order ID",
         "dtype": "object",
         "stats": {
          "unique_count": 1,
          "nan_count": 0,
          "categories": [
           {
            "name": "Order ID",
            "count": 5
           }
          ]
         }
        },
        {
         "name": "Product",
         "dtype": "object",
         "stats": {
          "unique_count": 1,
          "nan_count": 0,
          "categories": [
           {
            "name": "Product",
            "count": 5
           }
          ]
         }
        },
        {
         "name": "Quantity Ordered",
         "dtype": "object",
         "stats": {
          "unique_count": 1,
          "nan_count": 0,
          "categories": [
           {
            "name": "Quantity Ordered",
            "count": 5
           }
          ]
         }
        },
        {
         "name": "Price Each",
         "dtype": "object",
         "stats": {
          "unique_count": 1,
          "nan_count": 0,
          "categories": [
           {
            "name": "Price Each",
            "count": 5
           }
          ]
         }
        },
        {
         "name": "Order Date",
         "dtype": "object",
         "stats": {
          "unique_count": 1,
          "nan_count": 0,
          "categories": [
           {
            "name": "Order Date",
            "count": 5
           }
          ]
         }
        },
        {
         "name": "Purchase Address",
         "dtype": "object",
         "stats": {
          "unique_count": 1,
          "nan_count": 0,
          "categories": [
           {
            "name": "Purchase Address",
            "count": 5
           }
          ]
         }
        },
        {
         "name": "_deepnote_index_column",
         "dtype": "int64"
        }
       ],
       "rows": [
        {
         "Order ID": "Order ID",
         "Product": "Product",
         "Quantity Ordered": "Quantity Ordered",
         "Price Each": "Price Each",
         "Order Date": "Order Date",
         "Purchase Address": "Purchase Address",
         "_deepnote_index_column": 1679
        },
        {
         "Order ID": "Order ID",
         "Product": "Product",
         "Quantity Ordered": "Quantity Ordered",
         "Price Each": "Price Each",
         "Order Date": "Order Date",
         "Purchase Address": "Purchase Address",
         "_deepnote_index_column": 3732
        },
        {
         "Order ID": "Order ID",
         "Product": "Product",
         "Quantity Ordered": "Quantity Ordered",
         "Price Each": "Price Each",
         "Order Date": "Order Date",
         "Purchase Address": "Purchase Address",
         "_deepnote_index_column": 3790
        },
        {
         "Order ID": "Order ID",
         "Product": "Product",
         "Quantity Ordered": "Quantity Ordered",
         "Price Each": "Price Each",
         "Order Date": "Order Date",
         "Purchase Address": "Purchase Address",
         "_deepnote_index_column": 4323
        },
        {
         "Order ID": "Order ID",
         "Product": "Product",
         "Quantity Ordered": "Quantity Ordered",
         "Price Each": "Price Each",
         "Order Date": "Order Date",
         "Purchase Address": "Purchase Address",
         "_deepnote_index_column": 5579
        }
       ]
      },
      "text/plain": "      Order ID  Product  Quantity Ordered  Price Each  Order Date  \\\n1679  Order ID  Product  Quantity Ordered  Price Each  Order Date   \n3732  Order ID  Product  Quantity Ordered  Price Each  Order Date   \n3790  Order ID  Product  Quantity Ordered  Price Each  Order Date   \n4323  Order ID  Product  Quantity Ordered  Price Each  Order Date   \n5579  Order ID  Product  Quantity Ordered  Price Each  Order Date   \n\n      Purchase Address  \n1679  Purchase Address  \n3732  Purchase Address  \n3790  Purchase Address  \n4323  Purchase Address  \n5579  Purchase Address  ",
      "text/html": "<div>\n<style scoped>\n    .dataframe tbody tr th:only-of-type {\n        vertical-align: middle;\n    }\n\n    .dataframe tbody tr th {\n        vertical-align: top;\n    }\n\n    .dataframe thead th {\n        text-align: right;\n    }\n</style>\n<table border=\"1\" class=\"dataframe\">\n  <thead>\n    <tr style=\"text-align: right;\">\n      <th></th>\n      <th>Order ID</th>\n      <th>Product</th>\n      <th>Quantity Ordered</th>\n      <th>Price Each</th>\n      <th>Order Date</th>\n      <th>Purchase Address</th>\n    </tr>\n  </thead>\n  <tbody>\n    <tr>\n      <th>1679</th>\n      <td>Order ID</td>\n      <td>Product</td>\n      <td>Quantity Ordered</td>\n      <td>Price Each</td>\n      <td>Order Date</td>\n      <td>Purchase Address</td>\n    </tr>\n    <tr>\n      <th>3732</th>\n      <td>Order ID</td>\n      <td>Product</td>\n      <td>Quantity Ordered</td>\n      <td>Price Each</td>\n      <td>Order Date</td>\n      <td>Purchase Address</td>\n    </tr>\n    <tr>\n      <th>3790</th>\n      <td>Order ID</td>\n      <td>Product</td>\n      <td>Quantity Ordered</td>\n      <td>Price Each</td>\n      <td>Order Date</td>\n      <td>Purchase Address</td>\n    </tr>\n    <tr>\n      <th>4323</th>\n      <td>Order ID</td>\n      <td>Product</td>\n      <td>Quantity Ordered</td>\n      <td>Price Each</td>\n      <td>Order Date</td>\n      <td>Purchase Address</td>\n    </tr>\n    <tr>\n      <th>5579</th>\n      <td>Order ID</td>\n      <td>Product</td>\n      <td>Quantity Ordered</td>\n      <td>Price Each</td>\n      <td>Order Date</td>\n      <td>Purchase Address</td>\n    </tr>\n  </tbody>\n</table>\n</div>"
     },
     "metadata": {}
    }
   ]
  },
  {
   "cell_type": "code",
   "metadata": {
    "cell_id": "2fcf8a7819514272994ca4e62d6750c7",
    "tags": [],
    "deepnote_to_be_reexecuted": false,
    "source_hash": "1594d8aa",
    "execution_start": 1651232912190,
    "execution_millis": 238,
    "deepnote_cell_type": "code",
    "deepnote_cell_height": 430
   },
   "source": "all_data = all_data[all_data['Order Date'].str[0:2] != 'Or']\nall_data.head()",
   "execution_count": null,
   "outputs": [
    {
     "output_type": "execute_result",
     "execution_count": 10,
     "data": {
      "application/vnd.deepnote.dataframe.v3+json": {
       "column_count": 6,
       "row_count": 5,
       "columns": [
        {
         "name": "Order ID",
         "dtype": "object",
         "stats": {
          "unique_count": 5,
          "nan_count": 0,
          "categories": [
           {
            "name": "248151",
            "count": 1
           },
           {
            "name": "248152",
            "count": 1
           },
           {
            "name": "3 others",
            "count": 3
           }
          ]
         }
        },
        {
         "name": "Product",
         "dtype": "object",
         "stats": {
          "unique_count": 3,
          "nan_count": 0,
          "categories": [
           {
            "name": "USB-C Charging Cable",
            "count": 3
           },
           {
            "name": "AA Batteries (4-pack)",
            "count": 1
           },
           {
            "name": "27in FHD Monitor",
            "count": 1
           }
          ]
         }
        },
        {
         "name": "Quantity Ordered",
         "dtype": "object",
         "stats": {
          "unique_count": 3,
          "nan_count": 0,
          "categories": [
           {
            "name": "1",
            "count": 3
           },
           {
            "name": "4",
            "count": 1
           },
           {
            "name": "2",
            "count": 1
           }
          ]
         }
        },
        {
         "name": "Price Each",
         "dtype": "object",
         "stats": {
          "unique_count": 3,
          "nan_count": 0,
          "categories": [
           {
            "name": "11.95",
            "count": 3
           },
           {
            "name": "3.84",
            "count": 1
           },
           {
            "name": "149.99",
            "count": 1
           }
          ]
         }
        },
        {
         "name": "Order Date",
         "dtype": "object",
         "stats": {
          "unique_count": 5,
          "nan_count": 0,
          "categories": [
           {
            "name": "09/17/19 14:44",
            "count": 1
           },
           {
            "name": "09/29/19 10:19",
            "count": 1
           },
           {
            "name": "3 others",
            "count": 3
           }
          ]
         }
        },
        {
         "name": "Purchase Address",
         "dtype": "object",
         "stats": {
          "unique_count": 5,
          "nan_count": 0,
          "categories": [
           {
            "name": "380 North St, Los Angeles, CA 90001",
            "count": 1
           },
           {
            "name": "511 8th St, Austin, TX 73301",
            "count": 1
           },
           {
            "name": "3 others",
            "count": 3
           }
          ]
         }
        },
        {
         "name": "_deepnote_index_column",
         "dtype": "int64"
        }
       ],
       "rows": [
        {
         "Order ID": "248151",
         "Product": "AA Batteries (4-pack)",
         "Quantity Ordered": "4",
         "Price Each": "3.84",
         "Order Date": "09/17/19 14:44",
         "Purchase Address": "380 North St, Los Angeles, CA 90001",
         "_deepnote_index_column": 0
        },
        {
         "Order ID": "248152",
         "Product": "USB-C Charging Cable",
         "Quantity Ordered": "2",
         "Price Each": "11.95",
         "Order Date": "09/29/19 10:19",
         "Purchase Address": "511 8th St, Austin, TX 73301",
         "_deepnote_index_column": 1
        },
        {
         "Order ID": "248153",
         "Product": "USB-C Charging Cable",
         "Quantity Ordered": "1",
         "Price Each": "11.95",
         "Order Date": "09/16/19 17:48",
         "Purchase Address": "151 Johnson St, Los Angeles, CA 90001",
         "_deepnote_index_column": 2
        },
        {
         "Order ID": "248154",
         "Product": "27in FHD Monitor",
         "Quantity Ordered": "1",
         "Price Each": "149.99",
         "Order Date": "09/27/19 07:52",
         "Purchase Address": "355 Hickory St, Seattle, WA 98101",
         "_deepnote_index_column": 3
        },
        {
         "Order ID": "248155",
         "Product": "USB-C Charging Cable",
         "Quantity Ordered": "1",
         "Price Each": "11.95",
         "Order Date": "09/01/19 19:03",
         "Purchase Address": "125 5th St, Atlanta, GA 30301",
         "_deepnote_index_column": 4
        }
       ]
      },
      "text/plain": "  Order ID                Product Quantity Ordered Price Each      Order Date  \\\n0   248151  AA Batteries (4-pack)                4       3.84  09/17/19 14:44   \n1   248152   USB-C Charging Cable                2      11.95  09/29/19 10:19   \n2   248153   USB-C Charging Cable                1      11.95  09/16/19 17:48   \n3   248154       27in FHD Monitor                1     149.99  09/27/19 07:52   \n4   248155   USB-C Charging Cable                1      11.95  09/01/19 19:03   \n\n                        Purchase Address  \n0    380 North St, Los Angeles, CA 90001  \n1           511 8th St, Austin, TX 73301  \n2  151 Johnson St, Los Angeles, CA 90001  \n3      355 Hickory St, Seattle, WA 98101  \n4          125 5th St, Atlanta, GA 30301  ",
      "text/html": "<div>\n<style scoped>\n    .dataframe tbody tr th:only-of-type {\n        vertical-align: middle;\n    }\n\n    .dataframe tbody tr th {\n        vertical-align: top;\n    }\n\n    .dataframe thead th {\n        text-align: right;\n    }\n</style>\n<table border=\"1\" class=\"dataframe\">\n  <thead>\n    <tr style=\"text-align: right;\">\n      <th></th>\n      <th>Order ID</th>\n      <th>Product</th>\n      <th>Quantity Ordered</th>\n      <th>Price Each</th>\n      <th>Order Date</th>\n      <th>Purchase Address</th>\n    </tr>\n  </thead>\n  <tbody>\n    <tr>\n      <th>0</th>\n      <td>248151</td>\n      <td>AA Batteries (4-pack)</td>\n      <td>4</td>\n      <td>3.84</td>\n      <td>09/17/19 14:44</td>\n      <td>380 North St, Los Angeles, CA 90001</td>\n    </tr>\n    <tr>\n      <th>1</th>\n      <td>248152</td>\n      <td>USB-C Charging Cable</td>\n      <td>2</td>\n      <td>11.95</td>\n      <td>09/29/19 10:19</td>\n      <td>511 8th St, Austin, TX 73301</td>\n    </tr>\n    <tr>\n      <th>2</th>\n      <td>248153</td>\n      <td>USB-C Charging Cable</td>\n      <td>1</td>\n      <td>11.95</td>\n      <td>09/16/19 17:48</td>\n      <td>151 Johnson St, Los Angeles, CA 90001</td>\n    </tr>\n    <tr>\n      <th>3</th>\n      <td>248154</td>\n      <td>27in FHD Monitor</td>\n      <td>1</td>\n      <td>149.99</td>\n      <td>09/27/19 07:52</td>\n      <td>355 Hickory St, Seattle, WA 98101</td>\n    </tr>\n    <tr>\n      <th>4</th>\n      <td>248155</td>\n      <td>USB-C Charging Cable</td>\n      <td>1</td>\n      <td>11.95</td>\n      <td>09/01/19 19:03</td>\n      <td>125 5th St, Atlanta, GA 30301</td>\n    </tr>\n  </tbody>\n</table>\n</div>"
     },
     "metadata": {}
    }
   ]
  },
  {
   "cell_type": "code",
   "metadata": {
    "cell_id": "257365e36e2f429080592be8c0a079b7",
    "tags": [],
    "deepnote_to_be_reexecuted": false,
    "source_hash": "4f3825d6",
    "execution_start": 1651232912748,
    "execution_millis": 36,
    "deepnote_cell_type": "code",
    "deepnote_cell_height": 117
   },
   "source": "#convert column to the correct type \nall_data['Quantity Ordered'] = pd.to_numeric(all_data['Quantity Ordered']) #make int\nall_data['Price Each'] = pd.to_numeric(all_data['Price Each']) #make float",
   "execution_count": null,
   "outputs": []
  },
  {
   "cell_type": "markdown",
   "source": "### Task 2: Add Month column",
   "metadata": {
    "cell_id": "ff4897e7ffc340a5a5d644e44b623d68",
    "tags": [],
    "is_collapsed": false,
    "deepnote_cell_type": "text-cell-h3"
   }
  },
  {
   "cell_type": "code",
   "metadata": {
    "cell_id": "0b0bdb2691d9407696f1f8393526d40c",
    "tags": [],
    "deepnote_to_be_reexecuted": false,
    "source_hash": "610120d8",
    "execution_start": 1651232912860,
    "execution_millis": 173,
    "deepnote_cell_type": "code",
    "deepnote_cell_height": 466
   },
   "source": "#augument data with additional columns\n#Add month column\nall_data['Month'] = all_data['Order Date'].str[:2]\nall_data.head()",
   "execution_count": null,
   "outputs": [
    {
     "output_type": "execute_result",
     "execution_count": 12,
     "data": {
      "application/vnd.deepnote.dataframe.v3+json": {
       "column_count": 7,
       "row_count": 5,
       "columns": [
        {
         "name": "Order ID",
         "dtype": "object",
         "stats": {
          "unique_count": 5,
          "nan_count": 0,
          "categories": [
           {
            "name": "248151",
            "count": 1
           },
           {
            "name": "248152",
            "count": 1
           },
           {
            "name": "3 others",
            "count": 3
           }
          ]
         }
        },
        {
         "name": "Product",
         "dtype": "object",
         "stats": {
          "unique_count": 3,
          "nan_count": 0,
          "categories": [
           {
            "name": "USB-C Charging Cable",
            "count": 3
           },
           {
            "name": "AA Batteries (4-pack)",
            "count": 1
           },
           {
            "name": "27in FHD Monitor",
            "count": 1
           }
          ]
         }
        },
        {
         "name": "Quantity Ordered",
         "dtype": "int64",
         "stats": {
          "unique_count": 3,
          "nan_count": 0,
          "min": "1",
          "max": "4",
          "histogram": [
           {
            "bin_start": 1,
            "bin_end": 1.3,
            "count": 3
           },
           {
            "bin_start": 1.3,
            "bin_end": 1.6,
            "count": 0
           },
           {
            "bin_start": 1.6,
            "bin_end": 1.9,
            "count": 0
           },
           {
            "bin_start": 1.9,
            "bin_end": 2.2,
            "count": 1
           },
           {
            "bin_start": 2.2,
            "bin_end": 2.5,
            "count": 0
           },
           {
            "bin_start": 2.5,
            "bin_end": 2.8,
            "count": 0
           },
           {
            "bin_start": 2.8,
            "bin_end": 3.1,
            "count": 0
           },
           {
            "bin_start": 3.1,
            "bin_end": 3.4,
            "count": 0
           },
           {
            "bin_start": 3.4,
            "bin_end": 3.6999999999999997,
            "count": 0
           },
           {
            "bin_start": 3.6999999999999997,
            "bin_end": 4,
            "count": 1
           }
          ]
         }
        },
        {
         "name": "Price Each",
         "dtype": "float64",
         "stats": {
          "unique_count": 3,
          "nan_count": 0,
          "min": "3.84",
          "max": "149.99",
          "histogram": [
           {
            "bin_start": 3.84,
            "bin_end": 18.455,
            "count": 4
           },
           {
            "bin_start": 18.455,
            "bin_end": 33.07,
            "count": 0
           },
           {
            "bin_start": 33.07,
            "bin_end": 47.685,
            "count": 0
           },
           {
            "bin_start": 47.685,
            "bin_end": 62.3,
            "count": 0
           },
           {
            "bin_start": 62.3,
            "bin_end": 76.915,
            "count": 0
           },
           {
            "bin_start": 76.915,
            "bin_end": 91.53,
            "count": 0
           },
           {
            "bin_start": 91.53,
            "bin_end": 106.14500000000001,
            "count": 0
           },
           {
            "bin_start": 106.14500000000001,
            "bin_end": 120.76,
            "count": 0
           },
           {
            "bin_start": 120.76,
            "bin_end": 135.375,
            "count": 0
           },
           {
            "bin_start": 135.375,
            "bin_end": 149.99,
            "count": 1
           }
          ]
         }
        },
        {
         "name": "Order Date",
         "dtype": "object",
         "stats": {
          "unique_count": 5,
          "nan_count": 0,
          "categories": [
           {
            "name": "09/17/19 14:44",
            "count": 1
           },
           {
            "name": "09/29/19 10:19",
            "count": 1
           },
           {
            "name": "3 others",
            "count": 3
           }
          ]
         }
        },
        {
         "name": "Purchase Address",
         "dtype": "object",
         "stats": {
          "unique_count": 5,
          "nan_count": 0,
          "categories": [
           {
            "name": "380 North St, Los Angeles, CA 90001",
            "count": 1
           },
           {
            "name": "511 8th St, Austin, TX 73301",
            "count": 1
           },
           {
            "name": "3 others",
            "count": 3
           }
          ]
         }
        },
        {
         "name": "Month",
         "dtype": "object",
         "stats": {
          "unique_count": 1,
          "nan_count": 0,
          "categories": [
           {
            "name": "09",
            "count": 5
           }
          ]
         }
        },
        {
         "name": "_deepnote_index_column",
         "dtype": "int64"
        }
       ],
       "rows": [
        {
         "Order ID": "248151",
         "Product": "AA Batteries (4-pack)",
         "Quantity Ordered": 4,
         "Price Each": 3.84,
         "Order Date": "09/17/19 14:44",
         "Purchase Address": "380 North St, Los Angeles, CA 90001",
         "Month": "09",
         "_deepnote_index_column": 0
        },
        {
         "Order ID": "248152",
         "Product": "USB-C Charging Cable",
         "Quantity Ordered": 2,
         "Price Each": 11.95,
         "Order Date": "09/29/19 10:19",
         "Purchase Address": "511 8th St, Austin, TX 73301",
         "Month": "09",
         "_deepnote_index_column": 1
        },
        {
         "Order ID": "248153",
         "Product": "USB-C Charging Cable",
         "Quantity Ordered": 1,
         "Price Each": 11.95,
         "Order Date": "09/16/19 17:48",
         "Purchase Address": "151 Johnson St, Los Angeles, CA 90001",
         "Month": "09",
         "_deepnote_index_column": 2
        },
        {
         "Order ID": "248154",
         "Product": "27in FHD Monitor",
         "Quantity Ordered": 1,
         "Price Each": 149.99,
         "Order Date": "09/27/19 07:52",
         "Purchase Address": "355 Hickory St, Seattle, WA 98101",
         "Month": "09",
         "_deepnote_index_column": 3
        },
        {
         "Order ID": "248155",
         "Product": "USB-C Charging Cable",
         "Quantity Ordered": 1,
         "Price Each": 11.95,
         "Order Date": "09/01/19 19:03",
         "Purchase Address": "125 5th St, Atlanta, GA 30301",
         "Month": "09",
         "_deepnote_index_column": 4
        }
       ]
      },
      "text/plain": "  Order ID                Product  Quantity Ordered  Price Each  \\\n0   248151  AA Batteries (4-pack)                 4        3.84   \n1   248152   USB-C Charging Cable                 2       11.95   \n2   248153   USB-C Charging Cable                 1       11.95   \n3   248154       27in FHD Monitor                 1      149.99   \n4   248155   USB-C Charging Cable                 1       11.95   \n\n       Order Date                       Purchase Address Month  \n0  09/17/19 14:44    380 North St, Los Angeles, CA 90001    09  \n1  09/29/19 10:19           511 8th St, Austin, TX 73301    09  \n2  09/16/19 17:48  151 Johnson St, Los Angeles, CA 90001    09  \n3  09/27/19 07:52      355 Hickory St, Seattle, WA 98101    09  \n4  09/01/19 19:03          125 5th St, Atlanta, GA 30301    09  ",
      "text/html": "<div>\n<style scoped>\n    .dataframe tbody tr th:only-of-type {\n        vertical-align: middle;\n    }\n\n    .dataframe tbody tr th {\n        vertical-align: top;\n    }\n\n    .dataframe thead th {\n        text-align: right;\n    }\n</style>\n<table border=\"1\" class=\"dataframe\">\n  <thead>\n    <tr style=\"text-align: right;\">\n      <th></th>\n      <th>Order ID</th>\n      <th>Product</th>\n      <th>Quantity Ordered</th>\n      <th>Price Each</th>\n      <th>Order Date</th>\n      <th>Purchase Address</th>\n      <th>Month</th>\n    </tr>\n  </thead>\n  <tbody>\n    <tr>\n      <th>0</th>\n      <td>248151</td>\n      <td>AA Batteries (4-pack)</td>\n      <td>4</td>\n      <td>3.84</td>\n      <td>09/17/19 14:44</td>\n      <td>380 North St, Los Angeles, CA 90001</td>\n      <td>09</td>\n    </tr>\n    <tr>\n      <th>1</th>\n      <td>248152</td>\n      <td>USB-C Charging Cable</td>\n      <td>2</td>\n      <td>11.95</td>\n      <td>09/29/19 10:19</td>\n      <td>511 8th St, Austin, TX 73301</td>\n      <td>09</td>\n    </tr>\n    <tr>\n      <th>2</th>\n      <td>248153</td>\n      <td>USB-C Charging Cable</td>\n      <td>1</td>\n      <td>11.95</td>\n      <td>09/16/19 17:48</td>\n      <td>151 Johnson St, Los Angeles, CA 90001</td>\n      <td>09</td>\n    </tr>\n    <tr>\n      <th>3</th>\n      <td>248154</td>\n      <td>27in FHD Monitor</td>\n      <td>1</td>\n      <td>149.99</td>\n      <td>09/27/19 07:52</td>\n      <td>355 Hickory St, Seattle, WA 98101</td>\n      <td>09</td>\n    </tr>\n    <tr>\n      <th>4</th>\n      <td>248155</td>\n      <td>USB-C Charging Cable</td>\n      <td>1</td>\n      <td>11.95</td>\n      <td>09/01/19 19:03</td>\n      <td>125 5th St, Atlanta, GA 30301</td>\n      <td>09</td>\n    </tr>\n  </tbody>\n</table>\n</div>"
     },
     "metadata": {}
    }
   ]
  },
  {
   "cell_type": "code",
   "metadata": {
    "cell_id": "913ed985b97145a69663639e373d96e9",
    "tags": [],
    "deepnote_to_be_reexecuted": false,
    "source_hash": "c1c0896f",
    "execution_start": 1651232913091,
    "execution_millis": 15,
    "deepnote_cell_type": "code",
    "deepnote_cell_height": 448
   },
   "source": "#change the type of the Month column\nall_data['Month'] = all_data['Month'].astype('int32')\nall_data.head()",
   "execution_count": null,
   "outputs": [
    {
     "output_type": "execute_result",
     "execution_count": 13,
     "data": {
      "application/vnd.deepnote.dataframe.v3+json": {
       "column_count": 7,
       "row_count": 5,
       "columns": [
        {
         "name": "Order ID",
         "dtype": "object",
         "stats": {
          "unique_count": 5,
          "nan_count": 0,
          "categories": [
           {
            "name": "248151",
            "count": 1
           },
           {
            "name": "248152",
            "count": 1
           },
           {
            "name": "3 others",
            "count": 3
           }
          ]
         }
        },
        {
         "name": "Product",
         "dtype": "object",
         "stats": {
          "unique_count": 3,
          "nan_count": 0,
          "categories": [
           {
            "name": "USB-C Charging Cable",
            "count": 3
           },
           {
            "name": "AA Batteries (4-pack)",
            "count": 1
           },
           {
            "name": "27in FHD Monitor",
            "count": 1
           }
          ]
         }
        },
        {
         "name": "Quantity Ordered",
         "dtype": "int64",
         "stats": {
          "unique_count": 3,
          "nan_count": 0,
          "min": "1",
          "max": "4",
          "histogram": [
           {
            "bin_start": 1,
            "bin_end": 1.3,
            "count": 3
           },
           {
            "bin_start": 1.3,
            "bin_end": 1.6,
            "count": 0
           },
           {
            "bin_start": 1.6,
            "bin_end": 1.9,
            "count": 0
           },
           {
            "bin_start": 1.9,
            "bin_end": 2.2,
            "count": 1
           },
           {
            "bin_start": 2.2,
            "bin_end": 2.5,
            "count": 0
           },
           {
            "bin_start": 2.5,
            "bin_end": 2.8,
            "count": 0
           },
           {
            "bin_start": 2.8,
            "bin_end": 3.1,
            "count": 0
           },
           {
            "bin_start": 3.1,
            "bin_end": 3.4,
            "count": 0
           },
           {
            "bin_start": 3.4,
            "bin_end": 3.6999999999999997,
            "count": 0
           },
           {
            "bin_start": 3.6999999999999997,
            "bin_end": 4,
            "count": 1
           }
          ]
         }
        },
        {
         "name": "Price Each",
         "dtype": "float64",
         "stats": {
          "unique_count": 3,
          "nan_count": 0,
          "min": "3.84",
          "max": "149.99",
          "histogram": [
           {
            "bin_start": 3.84,
            "bin_end": 18.455,
            "count": 4
           },
           {
            "bin_start": 18.455,
            "bin_end": 33.07,
            "count": 0
           },
           {
            "bin_start": 33.07,
            "bin_end": 47.685,
            "count": 0
           },
           {
            "bin_start": 47.685,
            "bin_end": 62.3,
            "count": 0
           },
           {
            "bin_start": 62.3,
            "bin_end": 76.915,
            "count": 0
           },
           {
            "bin_start": 76.915,
            "bin_end": 91.53,
            "count": 0
           },
           {
            "bin_start": 91.53,
            "bin_end": 106.14500000000001,
            "count": 0
           },
           {
            "bin_start": 106.14500000000001,
            "bin_end": 120.76,
            "count": 0
           },
           {
            "bin_start": 120.76,
            "bin_end": 135.375,
            "count": 0
           },
           {
            "bin_start": 135.375,
            "bin_end": 149.99,
            "count": 1
           }
          ]
         }
        },
        {
         "name": "Order Date",
         "dtype": "object",
         "stats": {
          "unique_count": 5,
          "nan_count": 0,
          "categories": [
           {
            "name": "09/17/19 14:44",
            "count": 1
           },
           {
            "name": "09/29/19 10:19",
            "count": 1
           },
           {
            "name": "3 others",
            "count": 3
           }
          ]
         }
        },
        {
         "name": "Purchase Address",
         "dtype": "object",
         "stats": {
          "unique_count": 5,
          "nan_count": 0,
          "categories": [
           {
            "name": "380 North St, Los Angeles, CA 90001",
            "count": 1
           },
           {
            "name": "511 8th St, Austin, TX 73301",
            "count": 1
           },
           {
            "name": "3 others",
            "count": 3
           }
          ]
         }
        },
        {
         "name": "Month",
         "dtype": "int32",
         "stats": {
          "unique_count": 1,
          "nan_count": 0,
          "min": "9",
          "max": "9",
          "histogram": [
           {
            "bin_start": 8.5,
            "bin_end": 8.6,
            "count": 0
           },
           {
            "bin_start": 8.6,
            "bin_end": 8.7,
            "count": 0
           },
           {
            "bin_start": 8.7,
            "bin_end": 8.8,
            "count": 0
           },
           {
            "bin_start": 8.8,
            "bin_end": 8.9,
            "count": 0
           },
           {
            "bin_start": 8.9,
            "bin_end": 9,
            "count": 0
           },
           {
            "bin_start": 9,
            "bin_end": 9.1,
            "count": 5
           },
           {
            "bin_start": 9.1,
            "bin_end": 9.2,
            "count": 0
           },
           {
            "bin_start": 9.2,
            "bin_end": 9.3,
            "count": 0
           },
           {
            "bin_start": 9.3,
            "bin_end": 9.4,
            "count": 0
           },
           {
            "bin_start": 9.4,
            "bin_end": 9.5,
            "count": 0
           }
          ]
         }
        },
        {
         "name": "_deepnote_index_column",
         "dtype": "int64"
        }
       ],
       "rows": [
        {
         "Order ID": "248151",
         "Product": "AA Batteries (4-pack)",
         "Quantity Ordered": 4,
         "Price Each": 3.84,
         "Order Date": "09/17/19 14:44",
         "Purchase Address": "380 North St, Los Angeles, CA 90001",
         "Month": 9,
         "_deepnote_index_column": 0
        },
        {
         "Order ID": "248152",
         "Product": "USB-C Charging Cable",
         "Quantity Ordered": 2,
         "Price Each": 11.95,
         "Order Date": "09/29/19 10:19",
         "Purchase Address": "511 8th St, Austin, TX 73301",
         "Month": 9,
         "_deepnote_index_column": 1
        },
        {
         "Order ID": "248153",
         "Product": "USB-C Charging Cable",
         "Quantity Ordered": 1,
         "Price Each": 11.95,
         "Order Date": "09/16/19 17:48",
         "Purchase Address": "151 Johnson St, Los Angeles, CA 90001",
         "Month": 9,
         "_deepnote_index_column": 2
        },
        {
         "Order ID": "248154",
         "Product": "27in FHD Monitor",
         "Quantity Ordered": 1,
         "Price Each": 149.99,
         "Order Date": "09/27/19 07:52",
         "Purchase Address": "355 Hickory St, Seattle, WA 98101",
         "Month": 9,
         "_deepnote_index_column": 3
        },
        {
         "Order ID": "248155",
         "Product": "USB-C Charging Cable",
         "Quantity Ordered": 1,
         "Price Each": 11.95,
         "Order Date": "09/01/19 19:03",
         "Purchase Address": "125 5th St, Atlanta, GA 30301",
         "Month": 9,
         "_deepnote_index_column": 4
        }
       ]
      },
      "text/plain": "  Order ID                Product  Quantity Ordered  Price Each  \\\n0   248151  AA Batteries (4-pack)                 4        3.84   \n1   248152   USB-C Charging Cable                 2       11.95   \n2   248153   USB-C Charging Cable                 1       11.95   \n3   248154       27in FHD Monitor                 1      149.99   \n4   248155   USB-C Charging Cable                 1       11.95   \n\n       Order Date                       Purchase Address  Month  \n0  09/17/19 14:44    380 North St, Los Angeles, CA 90001      9  \n1  09/29/19 10:19           511 8th St, Austin, TX 73301      9  \n2  09/16/19 17:48  151 Johnson St, Los Angeles, CA 90001      9  \n3  09/27/19 07:52      355 Hickory St, Seattle, WA 98101      9  \n4  09/01/19 19:03          125 5th St, Atlanta, GA 30301      9  ",
      "text/html": "<div>\n<style scoped>\n    .dataframe tbody tr th:only-of-type {\n        vertical-align: middle;\n    }\n\n    .dataframe tbody tr th {\n        vertical-align: top;\n    }\n\n    .dataframe thead th {\n        text-align: right;\n    }\n</style>\n<table border=\"1\" class=\"dataframe\">\n  <thead>\n    <tr style=\"text-align: right;\">\n      <th></th>\n      <th>Order ID</th>\n      <th>Product</th>\n      <th>Quantity Ordered</th>\n      <th>Price Each</th>\n      <th>Order Date</th>\n      <th>Purchase Address</th>\n      <th>Month</th>\n    </tr>\n  </thead>\n  <tbody>\n    <tr>\n      <th>0</th>\n      <td>248151</td>\n      <td>AA Batteries (4-pack)</td>\n      <td>4</td>\n      <td>3.84</td>\n      <td>09/17/19 14:44</td>\n      <td>380 North St, Los Angeles, CA 90001</td>\n      <td>9</td>\n    </tr>\n    <tr>\n      <th>1</th>\n      <td>248152</td>\n      <td>USB-C Charging Cable</td>\n      <td>2</td>\n      <td>11.95</td>\n      <td>09/29/19 10:19</td>\n      <td>511 8th St, Austin, TX 73301</td>\n      <td>9</td>\n    </tr>\n    <tr>\n      <th>2</th>\n      <td>248153</td>\n      <td>USB-C Charging Cable</td>\n      <td>1</td>\n      <td>11.95</td>\n      <td>09/16/19 17:48</td>\n      <td>151 Johnson St, Los Angeles, CA 90001</td>\n      <td>9</td>\n    </tr>\n    <tr>\n      <th>3</th>\n      <td>248154</td>\n      <td>27in FHD Monitor</td>\n      <td>1</td>\n      <td>149.99</td>\n      <td>09/27/19 07:52</td>\n      <td>355 Hickory St, Seattle, WA 98101</td>\n      <td>9</td>\n    </tr>\n    <tr>\n      <th>4</th>\n      <td>248155</td>\n      <td>USB-C Charging Cable</td>\n      <td>1</td>\n      <td>11.95</td>\n      <td>09/01/19 19:03</td>\n      <td>125 5th St, Atlanta, GA 30301</td>\n      <td>9</td>\n    </tr>\n  </tbody>\n</table>\n</div>"
     },
     "metadata": {}
    }
   ]
  },
  {
   "cell_type": "markdown",
   "source": "### Task 3: Add a Sales Column",
   "metadata": {
    "cell_id": "7a5e0193dc264a5196211ca5efbf4fd8",
    "tags": [],
    "is_collapsed": false,
    "deepnote_cell_type": "text-cell-h3"
   }
  },
  {
   "cell_type": "code",
   "metadata": {
    "cell_id": "8834c9986b204f359c03a9ba61e1709e",
    "tags": [],
    "deepnote_to_be_reexecuted": false,
    "source_hash": "b2c6d2",
    "execution_start": 1651232913105,
    "execution_millis": 50,
    "deepnote_cell_type": "code",
    "deepnote_cell_height": 307
   },
   "source": "all_data['Sales'] = all_data['Quantity Ordered'] * all_data['Price Each']\nall_data.head(2)",
   "execution_count": null,
   "outputs": [
    {
     "output_type": "execute_result",
     "execution_count": 14,
     "data": {
      "application/vnd.deepnote.dataframe.v3+json": {
       "column_count": 8,
       "row_count": 2,
       "columns": [
        {
         "name": "Order ID",
         "dtype": "object",
         "stats": {
          "unique_count": 2,
          "nan_count": 0,
          "categories": [
           {
            "name": "248151",
            "count": 1
           },
           {
            "name": "248152",
            "count": 1
           }
          ]
         }
        },
        {
         "name": "Product",
         "dtype": "object",
         "stats": {
          "unique_count": 2,
          "nan_count": 0,
          "categories": [
           {
            "name": "AA Batteries (4-pack)",
            "count": 1
           },
           {
            "name": "USB-C Charging Cable",
            "count": 1
           }
          ]
         }
        },
        {
         "name": "Quantity Ordered",
         "dtype": "int64",
         "stats": {
          "unique_count": 2,
          "nan_count": 0,
          "min": "2",
          "max": "4",
          "histogram": [
           {
            "bin_start": 2,
            "bin_end": 2.2,
            "count": 1
           },
           {
            "bin_start": 2.2,
            "bin_end": 2.4,
            "count": 0
           },
           {
            "bin_start": 2.4,
            "bin_end": 2.6,
            "count": 0
           },
           {
            "bin_start": 2.6,
            "bin_end": 2.8,
            "count": 0
           },
           {
            "bin_start": 2.8,
            "bin_end": 3,
            "count": 0
           },
           {
            "bin_start": 3,
            "bin_end": 3.2,
            "count": 0
           },
           {
            "bin_start": 3.2,
            "bin_end": 3.4000000000000004,
            "count": 0
           },
           {
            "bin_start": 3.4000000000000004,
            "bin_end": 3.6,
            "count": 0
           },
           {
            "bin_start": 3.6,
            "bin_end": 3.8,
            "count": 0
           },
           {
            "bin_start": 3.8,
            "bin_end": 4,
            "count": 1
           }
          ]
         }
        },
        {
         "name": "Price Each",
         "dtype": "float64",
         "stats": {
          "unique_count": 2,
          "nan_count": 0,
          "min": "3.84",
          "max": "11.95",
          "histogram": [
           {
            "bin_start": 3.84,
            "bin_end": 4.651,
            "count": 1
           },
           {
            "bin_start": 4.651,
            "bin_end": 5.462,
            "count": 0
           },
           {
            "bin_start": 5.462,
            "bin_end": 6.273,
            "count": 0
           },
           {
            "bin_start": 6.273,
            "bin_end": 7.084,
            "count": 0
           },
           {
            "bin_start": 7.084,
            "bin_end": 7.895,
            "count": 0
           },
           {
            "bin_start": 7.895,
            "bin_end": 8.706,
            "count": 0
           },
           {
            "bin_start": 8.706,
            "bin_end": 9.517,
            "count": 0
           },
           {
            "bin_start": 9.517,
            "bin_end": 10.328,
            "count": 0
           },
           {
            "bin_start": 10.328,
            "bin_end": 11.139,
            "count": 0
           },
           {
            "bin_start": 11.139,
            "bin_end": 11.95,
            "count": 1
           }
          ]
         }
        },
        {
         "name": "Order Date",
         "dtype": "object",
         "stats": {
          "unique_count": 2,
          "nan_count": 0,
          "categories": [
           {
            "name": "09/17/19 14:44",
            "count": 1
           },
           {
            "name": "09/29/19 10:19",
            "count": 1
           }
          ]
         }
        },
        {
         "name": "Purchase Address",
         "dtype": "object",
         "stats": {
          "unique_count": 2,
          "nan_count": 0,
          "categories": [
           {
            "name": "380 North St, Los Angeles, CA 90001",
            "count": 1
           },
           {
            "name": "511 8th St, Austin, TX 73301",
            "count": 1
           }
          ]
         }
        },
        {
         "name": "Month",
         "dtype": "int32",
         "stats": {
          "unique_count": 1,
          "nan_count": 0,
          "min": "9",
          "max": "9",
          "histogram": [
           {
            "bin_start": 8.5,
            "bin_end": 8.6,
            "count": 0
           },
           {
            "bin_start": 8.6,
            "bin_end": 8.7,
            "count": 0
           },
           {
            "bin_start": 8.7,
            "bin_end": 8.8,
            "count": 0
           },
           {
            "bin_start": 8.8,
            "bin_end": 8.9,
            "count": 0
           },
           {
            "bin_start": 8.9,
            "bin_end": 9,
            "count": 0
           },
           {
            "bin_start": 9,
            "bin_end": 9.1,
            "count": 2
           },
           {
            "bin_start": 9.1,
            "bin_end": 9.2,
            "count": 0
           },
           {
            "bin_start": 9.2,
            "bin_end": 9.3,
            "count": 0
           },
           {
            "bin_start": 9.3,
            "bin_end": 9.4,
            "count": 0
           },
           {
            "bin_start": 9.4,
            "bin_end": 9.5,
            "count": 0
           }
          ]
         }
        },
        {
         "name": "Sales",
         "dtype": "float64",
         "stats": {
          "unique_count": 2,
          "nan_count": 0,
          "min": "15.36",
          "max": "23.9",
          "histogram": [
           {
            "bin_start": 15.36,
            "bin_end": 16.214,
            "count": 1
           },
           {
            "bin_start": 16.214,
            "bin_end": 17.067999999999998,
            "count": 0
           },
           {
            "bin_start": 17.067999999999998,
            "bin_end": 17.921999999999997,
            "count": 0
           },
           {
            "bin_start": 17.921999999999997,
            "bin_end": 18.776,
            "count": 0
           },
           {
            "bin_start": 18.776,
            "bin_end": 19.63,
            "count": 0
           },
           {
            "bin_start": 19.63,
            "bin_end": 20.483999999999998,
            "count": 0
           },
           {
            "bin_start": 20.483999999999998,
            "bin_end": 21.337999999999997,
            "count": 0
           },
           {
            "bin_start": 21.337999999999997,
            "bin_end": 22.192,
            "count": 0
           },
           {
            "bin_start": 22.192,
            "bin_end": 23.046,
            "count": 0
           },
           {
            "bin_start": 23.046,
            "bin_end": 23.9,
            "count": 1
           }
          ]
         }
        },
        {
         "name": "_deepnote_index_column",
         "dtype": "int64"
        }
       ],
       "rows": [
        {
         "Order ID": "248151",
         "Product": "AA Batteries (4-pack)",
         "Quantity Ordered": 4,
         "Price Each": 3.84,
         "Order Date": "09/17/19 14:44",
         "Purchase Address": "380 North St, Los Angeles, CA 90001",
         "Month": 9,
         "Sales": 15.36,
         "_deepnote_index_column": 0
        },
        {
         "Order ID": "248152",
         "Product": "USB-C Charging Cable",
         "Quantity Ordered": 2,
         "Price Each": 11.95,
         "Order Date": "09/29/19 10:19",
         "Purchase Address": "511 8th St, Austin, TX 73301",
         "Month": 9,
         "Sales": 23.9,
         "_deepnote_index_column": 1
        }
       ]
      },
      "text/plain": "  Order ID                Product  Quantity Ordered  Price Each  \\\n0   248151  AA Batteries (4-pack)                 4        3.84   \n1   248152   USB-C Charging Cable                 2       11.95   \n\n       Order Date                     Purchase Address  Month  Sales  \n0  09/17/19 14:44  380 North St, Los Angeles, CA 90001      9  15.36  \n1  09/29/19 10:19         511 8th St, Austin, TX 73301      9  23.90  ",
      "text/html": "<div>\n<style scoped>\n    .dataframe tbody tr th:only-of-type {\n        vertical-align: middle;\n    }\n\n    .dataframe tbody tr th {\n        vertical-align: top;\n    }\n\n    .dataframe thead th {\n        text-align: right;\n    }\n</style>\n<table border=\"1\" class=\"dataframe\">\n  <thead>\n    <tr style=\"text-align: right;\">\n      <th></th>\n      <th>Order ID</th>\n      <th>Product</th>\n      <th>Quantity Ordered</th>\n      <th>Price Each</th>\n      <th>Order Date</th>\n      <th>Purchase Address</th>\n      <th>Month</th>\n      <th>Sales</th>\n    </tr>\n  </thead>\n  <tbody>\n    <tr>\n      <th>0</th>\n      <td>248151</td>\n      <td>AA Batteries (4-pack)</td>\n      <td>4</td>\n      <td>3.84</td>\n      <td>09/17/19 14:44</td>\n      <td>380 North St, Los Angeles, CA 90001</td>\n      <td>9</td>\n      <td>15.36</td>\n    </tr>\n    <tr>\n      <th>1</th>\n      <td>248152</td>\n      <td>USB-C Charging Cable</td>\n      <td>2</td>\n      <td>11.95</td>\n      <td>09/29/19 10:19</td>\n      <td>511 8th St, Austin, TX 73301</td>\n      <td>9</td>\n      <td>23.90</td>\n    </tr>\n  </tbody>\n</table>\n</div>"
     },
     "metadata": {}
    }
   ]
  },
  {
   "cell_type": "markdown",
   "source": "### Task 4: Add a city column",
   "metadata": {
    "cell_id": "ed2b233bdc1c45e39238241bf7f0c786",
    "tags": [],
    "is_collapsed": false,
    "deepnote_cell_type": "text-cell-h3"
   }
  },
  {
   "cell_type": "code",
   "metadata": {
    "cell_id": "35eb9dd4b3ca4ed3bb81da4bb3f12974",
    "tags": [],
    "deepnote_to_be_reexecuted": false,
    "source_hash": "723358b4",
    "execution_start": 1651232913199,
    "execution_millis": 830,
    "deepnote_cell_type": "code",
    "deepnote_cell_height": 397
   },
   "source": "#let's use apply()\ndef get_city(address):\n    return address.split(',')[1]\n\nall_data['City'] = all_data['Purchase Address'].apply(lambda x: get_city(x))\n\nall_data.head(2)",
   "execution_count": null,
   "outputs": [
    {
     "output_type": "execute_result",
     "execution_count": 15,
     "data": {
      "application/vnd.deepnote.dataframe.v3+json": {
       "column_count": 9,
       "row_count": 2,
       "columns": [
        {
         "name": "Order ID",
         "dtype": "object",
         "stats": {
          "unique_count": 2,
          "nan_count": 0,
          "categories": [
           {
            "name": "248151",
            "count": 1
           },
           {
            "name": "248152",
            "count": 1
           }
          ]
         }
        },
        {
         "name": "Product",
         "dtype": "object",
         "stats": {
          "unique_count": 2,
          "nan_count": 0,
          "categories": [
           {
            "name": "AA Batteries (4-pack)",
            "count": 1
           },
           {
            "name": "USB-C Charging Cable",
            "count": 1
           }
          ]
         }
        },
        {
         "name": "Quantity Ordered",
         "dtype": "int64",
         "stats": {
          "unique_count": 2,
          "nan_count": 0,
          "min": "2",
          "max": "4",
          "histogram": [
           {
            "bin_start": 2,
            "bin_end": 2.2,
            "count": 1
           },
           {
            "bin_start": 2.2,
            "bin_end": 2.4,
            "count": 0
           },
           {
            "bin_start": 2.4,
            "bin_end": 2.6,
            "count": 0
           },
           {
            "bin_start": 2.6,
            "bin_end": 2.8,
            "count": 0
           },
           {
            "bin_start": 2.8,
            "bin_end": 3,
            "count": 0
           },
           {
            "bin_start": 3,
            "bin_end": 3.2,
            "count": 0
           },
           {
            "bin_start": 3.2,
            "bin_end": 3.4000000000000004,
            "count": 0
           },
           {
            "bin_start": 3.4000000000000004,
            "bin_end": 3.6,
            "count": 0
           },
           {
            "bin_start": 3.6,
            "bin_end": 3.8,
            "count": 0
           },
           {
            "bin_start": 3.8,
            "bin_end": 4,
            "count": 1
           }
          ]
         }
        },
        {
         "name": "Price Each",
         "dtype": "float64",
         "stats": {
          "unique_count": 2,
          "nan_count": 0,
          "min": "3.84",
          "max": "11.95",
          "histogram": [
           {
            "bin_start": 3.84,
            "bin_end": 4.651,
            "count": 1
           },
           {
            "bin_start": 4.651,
            "bin_end": 5.462,
            "count": 0
           },
           {
            "bin_start": 5.462,
            "bin_end": 6.273,
            "count": 0
           },
           {
            "bin_start": 6.273,
            "bin_end": 7.084,
            "count": 0
           },
           {
            "bin_start": 7.084,
            "bin_end": 7.895,
            "count": 0
           },
           {
            "bin_start": 7.895,
            "bin_end": 8.706,
            "count": 0
           },
           {
            "bin_start": 8.706,
            "bin_end": 9.517,
            "count": 0
           },
           {
            "bin_start": 9.517,
            "bin_end": 10.328,
            "count": 0
           },
           {
            "bin_start": 10.328,
            "bin_end": 11.139,
            "count": 0
           },
           {
            "bin_start": 11.139,
            "bin_end": 11.95,
            "count": 1
           }
          ]
         }
        },
        {
         "name": "Order Date",
         "dtype": "object",
         "stats": {
          "unique_count": 2,
          "nan_count": 0,
          "categories": [
           {
            "name": "09/17/19 14:44",
            "count": 1
           },
           {
            "name": "09/29/19 10:19",
            "count": 1
           }
          ]
         }
        },
        {
         "name": "Purchase Address",
         "dtype": "object",
         "stats": {
          "unique_count": 2,
          "nan_count": 0,
          "categories": [
           {
            "name": "380 North St, Los Angeles, CA 90001",
            "count": 1
           },
           {
            "name": "511 8th St, Austin, TX 73301",
            "count": 1
           }
          ]
         }
        },
        {
         "name": "Month",
         "dtype": "int32",
         "stats": {
          "unique_count": 1,
          "nan_count": 0,
          "min": "9",
          "max": "9",
          "histogram": [
           {
            "bin_start": 8.5,
            "bin_end": 8.6,
            "count": 0
           },
           {
            "bin_start": 8.6,
            "bin_end": 8.7,
            "count": 0
           },
           {
            "bin_start": 8.7,
            "bin_end": 8.8,
            "count": 0
           },
           {
            "bin_start": 8.8,
            "bin_end": 8.9,
            "count": 0
           },
           {
            "bin_start": 8.9,
            "bin_end": 9,
            "count": 0
           },
           {
            "bin_start": 9,
            "bin_end": 9.1,
            "count": 2
           },
           {
            "bin_start": 9.1,
            "bin_end": 9.2,
            "count": 0
           },
           {
            "bin_start": 9.2,
            "bin_end": 9.3,
            "count": 0
           },
           {
            "bin_start": 9.3,
            "bin_end": 9.4,
            "count": 0
           },
           {
            "bin_start": 9.4,
            "bin_end": 9.5,
            "count": 0
           }
          ]
         }
        },
        {
         "name": "Sales",
         "dtype": "float64",
         "stats": {
          "unique_count": 2,
          "nan_count": 0,
          "min": "15.36",
          "max": "23.9",
          "histogram": [
           {
            "bin_start": 15.36,
            "bin_end": 16.214,
            "count": 1
           },
           {
            "bin_start": 16.214,
            "bin_end": 17.067999999999998,
            "count": 0
           },
           {
            "bin_start": 17.067999999999998,
            "bin_end": 17.921999999999997,
            "count": 0
           },
           {
            "bin_start": 17.921999999999997,
            "bin_end": 18.776,
            "count": 0
           },
           {
            "bin_start": 18.776,
            "bin_end": 19.63,
            "count": 0
           },
           {
            "bin_start": 19.63,
            "bin_end": 20.483999999999998,
            "count": 0
           },
           {
            "bin_start": 20.483999999999998,
            "bin_end": 21.337999999999997,
            "count": 0
           },
           {
            "bin_start": 21.337999999999997,
            "bin_end": 22.192,
            "count": 0
           },
           {
            "bin_start": 22.192,
            "bin_end": 23.046,
            "count": 0
           },
           {
            "bin_start": 23.046,
            "bin_end": 23.9,
            "count": 1
           }
          ]
         }
        },
        {
         "name": "City",
         "dtype": "object",
         "stats": {
          "unique_count": 2,
          "nan_count": 0,
          "categories": [
           {
            "name": " Los Angeles",
            "count": 1
           },
           {
            "name": " Austin",
            "count": 1
           }
          ]
         }
        },
        {
         "name": "_deepnote_index_column",
         "dtype": "int64"
        }
       ],
       "rows": [
        {
         "Order ID": "248151",
         "Product": "AA Batteries (4-pack)",
         "Quantity Ordered": 4,
         "Price Each": 3.84,
         "Order Date": "09/17/19 14:44",
         "Purchase Address": "380 North St, Los Angeles, CA 90001",
         "Month": 9,
         "Sales": 15.36,
         "City": " Los Angeles",
         "_deepnote_index_column": 0
        },
        {
         "Order ID": "248152",
         "Product": "USB-C Charging Cable",
         "Quantity Ordered": 2,
         "Price Each": 11.95,
         "Order Date": "09/29/19 10:19",
         "Purchase Address": "511 8th St, Austin, TX 73301",
         "Month": 9,
         "Sales": 23.9,
         "City": " Austin",
         "_deepnote_index_column": 1
        }
       ]
      },
      "text/plain": "  Order ID                Product  Quantity Ordered  Price Each  \\\n0   248151  AA Batteries (4-pack)                 4        3.84   \n1   248152   USB-C Charging Cable                 2       11.95   \n\n       Order Date                     Purchase Address  Month  Sales  \\\n0  09/17/19 14:44  380 North St, Los Angeles, CA 90001      9  15.36   \n1  09/29/19 10:19         511 8th St, Austin, TX 73301      9  23.90   \n\n           City  \n0   Los Angeles  \n1        Austin  ",
      "text/html": "<div>\n<style scoped>\n    .dataframe tbody tr th:only-of-type {\n        vertical-align: middle;\n    }\n\n    .dataframe tbody tr th {\n        vertical-align: top;\n    }\n\n    .dataframe thead th {\n        text-align: right;\n    }\n</style>\n<table border=\"1\" class=\"dataframe\">\n  <thead>\n    <tr style=\"text-align: right;\">\n      <th></th>\n      <th>Order ID</th>\n      <th>Product</th>\n      <th>Quantity Ordered</th>\n      <th>Price Each</th>\n      <th>Order Date</th>\n      <th>Purchase Address</th>\n      <th>Month</th>\n      <th>Sales</th>\n      <th>City</th>\n    </tr>\n  </thead>\n  <tbody>\n    <tr>\n      <th>0</th>\n      <td>248151</td>\n      <td>AA Batteries (4-pack)</td>\n      <td>4</td>\n      <td>3.84</td>\n      <td>09/17/19 14:44</td>\n      <td>380 North St, Los Angeles, CA 90001</td>\n      <td>9</td>\n      <td>15.36</td>\n      <td>Los Angeles</td>\n    </tr>\n    <tr>\n      <th>1</th>\n      <td>248152</td>\n      <td>USB-C Charging Cable</td>\n      <td>2</td>\n      <td>11.95</td>\n      <td>09/29/19 10:19</td>\n      <td>511 8th St, Austin, TX 73301</td>\n      <td>9</td>\n      <td>23.90</td>\n      <td>Austin</td>\n    </tr>\n  </tbody>\n</table>\n</div>"
     },
     "metadata": {}
    }
   ]
  },
  {
   "cell_type": "code",
   "metadata": {
    "cell_id": "67ce614c833f4a44ba252acd1e80d5be",
    "tags": [],
    "deepnote_to_be_reexecuted": false,
    "source_hash": "21ac194a",
    "execution_start": 1651232913425,
    "execution_millis": 613,
    "deepnote_cell_type": "code",
    "deepnote_cell_height": 397
   },
   "source": "#get state\ndef get_state(address):\n    return address.split(',')[2].split(' ')[1]\n\nall_data['City'] = all_data['Purchase Address'].apply(lambda x: get_city(x) + ' ('+ get_state(x)+')') \n\nall_data.head(2)",
   "execution_count": null,
   "outputs": [
    {
     "output_type": "execute_result",
     "execution_count": 16,
     "data": {
      "application/vnd.deepnote.dataframe.v3+json": {
       "column_count": 9,
       "row_count": 2,
       "columns": [
        {
         "name": "Order ID",
         "dtype": "object",
         "stats": {
          "unique_count": 2,
          "nan_count": 0,
          "categories": [
           {
            "name": "248151",
            "count": 1
           },
           {
            "name": "248152",
            "count": 1
           }
          ]
         }
        },
        {
         "name": "Product",
         "dtype": "object",
         "stats": {
          "unique_count": 2,
          "nan_count": 0,
          "categories": [
           {
            "name": "AA Batteries (4-pack)",
            "count": 1
           },
           {
            "name": "USB-C Charging Cable",
            "count": 1
           }
          ]
         }
        },
        {
         "name": "Quantity Ordered",
         "dtype": "int64",
         "stats": {
          "unique_count": 2,
          "nan_count": 0,
          "min": "2",
          "max": "4",
          "histogram": [
           {
            "bin_start": 2,
            "bin_end": 2.2,
            "count": 1
           },
           {
            "bin_start": 2.2,
            "bin_end": 2.4,
            "count": 0
           },
           {
            "bin_start": 2.4,
            "bin_end": 2.6,
            "count": 0
           },
           {
            "bin_start": 2.6,
            "bin_end": 2.8,
            "count": 0
           },
           {
            "bin_start": 2.8,
            "bin_end": 3,
            "count": 0
           },
           {
            "bin_start": 3,
            "bin_end": 3.2,
            "count": 0
           },
           {
            "bin_start": 3.2,
            "bin_end": 3.4000000000000004,
            "count": 0
           },
           {
            "bin_start": 3.4000000000000004,
            "bin_end": 3.6,
            "count": 0
           },
           {
            "bin_start": 3.6,
            "bin_end": 3.8,
            "count": 0
           },
           {
            "bin_start": 3.8,
            "bin_end": 4,
            "count": 1
           }
          ]
         }
        },
        {
         "name": "Price Each",
         "dtype": "float64",
         "stats": {
          "unique_count": 2,
          "nan_count": 0,
          "min": "3.84",
          "max": "11.95",
          "histogram": [
           {
            "bin_start": 3.84,
            "bin_end": 4.651,
            "count": 1
           },
           {
            "bin_start": 4.651,
            "bin_end": 5.462,
            "count": 0
           },
           {
            "bin_start": 5.462,
            "bin_end": 6.273,
            "count": 0
           },
           {
            "bin_start": 6.273,
            "bin_end": 7.084,
            "count": 0
           },
           {
            "bin_start": 7.084,
            "bin_end": 7.895,
            "count": 0
           },
           {
            "bin_start": 7.895,
            "bin_end": 8.706,
            "count": 0
           },
           {
            "bin_start": 8.706,
            "bin_end": 9.517,
            "count": 0
           },
           {
            "bin_start": 9.517,
            "bin_end": 10.328,
            "count": 0
           },
           {
            "bin_start": 10.328,
            "bin_end": 11.139,
            "count": 0
           },
           {
            "bin_start": 11.139,
            "bin_end": 11.95,
            "count": 1
           }
          ]
         }
        },
        {
         "name": "Order Date",
         "dtype": "object",
         "stats": {
          "unique_count": 2,
          "nan_count": 0,
          "categories": [
           {
            "name": "09/17/19 14:44",
            "count": 1
           },
           {
            "name": "09/29/19 10:19",
            "count": 1
           }
          ]
         }
        },
        {
         "name": "Purchase Address",
         "dtype": "object",
         "stats": {
          "unique_count": 2,
          "nan_count": 0,
          "categories": [
           {
            "name": "380 North St, Los Angeles, CA 90001",
            "count": 1
           },
           {
            "name": "511 8th St, Austin, TX 73301",
            "count": 1
           }
          ]
         }
        },
        {
         "name": "Month",
         "dtype": "int32",
         "stats": {
          "unique_count": 1,
          "nan_count": 0,
          "min": "9",
          "max": "9",
          "histogram": [
           {
            "bin_start": 8.5,
            "bin_end": 8.6,
            "count": 0
           },
           {
            "bin_start": 8.6,
            "bin_end": 8.7,
            "count": 0
           },
           {
            "bin_start": 8.7,
            "bin_end": 8.8,
            "count": 0
           },
           {
            "bin_start": 8.8,
            "bin_end": 8.9,
            "count": 0
           },
           {
            "bin_start": 8.9,
            "bin_end": 9,
            "count": 0
           },
           {
            "bin_start": 9,
            "bin_end": 9.1,
            "count": 2
           },
           {
            "bin_start": 9.1,
            "bin_end": 9.2,
            "count": 0
           },
           {
            "bin_start": 9.2,
            "bin_end": 9.3,
            "count": 0
           },
           {
            "bin_start": 9.3,
            "bin_end": 9.4,
            "count": 0
           },
           {
            "bin_start": 9.4,
            "bin_end": 9.5,
            "count": 0
           }
          ]
         }
        },
        {
         "name": "Sales",
         "dtype": "float64",
         "stats": {
          "unique_count": 2,
          "nan_count": 0,
          "min": "15.36",
          "max": "23.9",
          "histogram": [
           {
            "bin_start": 15.36,
            "bin_end": 16.214,
            "count": 1
           },
           {
            "bin_start": 16.214,
            "bin_end": 17.067999999999998,
            "count": 0
           },
           {
            "bin_start": 17.067999999999998,
            "bin_end": 17.921999999999997,
            "count": 0
           },
           {
            "bin_start": 17.921999999999997,
            "bin_end": 18.776,
            "count": 0
           },
           {
            "bin_start": 18.776,
            "bin_end": 19.63,
            "count": 0
           },
           {
            "bin_start": 19.63,
            "bin_end": 20.483999999999998,
            "count": 0
           },
           {
            "bin_start": 20.483999999999998,
            "bin_end": 21.337999999999997,
            "count": 0
           },
           {
            "bin_start": 21.337999999999997,
            "bin_end": 22.192,
            "count": 0
           },
           {
            "bin_start": 22.192,
            "bin_end": 23.046,
            "count": 0
           },
           {
            "bin_start": 23.046,
            "bin_end": 23.9,
            "count": 1
           }
          ]
         }
        },
        {
         "name": "City",
         "dtype": "object",
         "stats": {
          "unique_count": 2,
          "nan_count": 0,
          "categories": [
           {
            "name": " Los Angeles (CA)",
            "count": 1
           },
           {
            "name": " Austin (TX)",
            "count": 1
           }
          ]
         }
        },
        {
         "name": "_deepnote_index_column",
         "dtype": "int64"
        }
       ],
       "rows": [
        {
         "Order ID": "248151",
         "Product": "AA Batteries (4-pack)",
         "Quantity Ordered": 4,
         "Price Each": 3.84,
         "Order Date": "09/17/19 14:44",
         "Purchase Address": "380 North St, Los Angeles, CA 90001",
         "Month": 9,
         "Sales": 15.36,
         "City": " Los Angeles (CA)",
         "_deepnote_index_column": 0
        },
        {
         "Order ID": "248152",
         "Product": "USB-C Charging Cable",
         "Quantity Ordered": 2,
         "Price Each": 11.95,
         "Order Date": "09/29/19 10:19",
         "Purchase Address": "511 8th St, Austin, TX 73301",
         "Month": 9,
         "Sales": 23.9,
         "City": " Austin (TX)",
         "_deepnote_index_column": 1
        }
       ]
      },
      "text/plain": "  Order ID                Product  Quantity Ordered  Price Each  \\\n0   248151  AA Batteries (4-pack)                 4        3.84   \n1   248152   USB-C Charging Cable                 2       11.95   \n\n       Order Date                     Purchase Address  Month  Sales  \\\n0  09/17/19 14:44  380 North St, Los Angeles, CA 90001      9  15.36   \n1  09/29/19 10:19         511 8th St, Austin, TX 73301      9  23.90   \n\n                City  \n0   Los Angeles (CA)  \n1        Austin (TX)  ",
      "text/html": "<div>\n<style scoped>\n    .dataframe tbody tr th:only-of-type {\n        vertical-align: middle;\n    }\n\n    .dataframe tbody tr th {\n        vertical-align: top;\n    }\n\n    .dataframe thead th {\n        text-align: right;\n    }\n</style>\n<table border=\"1\" class=\"dataframe\">\n  <thead>\n    <tr style=\"text-align: right;\">\n      <th></th>\n      <th>Order ID</th>\n      <th>Product</th>\n      <th>Quantity Ordered</th>\n      <th>Price Each</th>\n      <th>Order Date</th>\n      <th>Purchase Address</th>\n      <th>Month</th>\n      <th>Sales</th>\n      <th>City</th>\n    </tr>\n  </thead>\n  <tbody>\n    <tr>\n      <th>0</th>\n      <td>248151</td>\n      <td>AA Batteries (4-pack)</td>\n      <td>4</td>\n      <td>3.84</td>\n      <td>09/17/19 14:44</td>\n      <td>380 North St, Los Angeles, CA 90001</td>\n      <td>9</td>\n      <td>15.36</td>\n      <td>Los Angeles (CA)</td>\n    </tr>\n    <tr>\n      <th>1</th>\n      <td>248152</td>\n      <td>USB-C Charging Cable</td>\n      <td>2</td>\n      <td>11.95</td>\n      <td>09/29/19 10:19</td>\n      <td>511 8th St, Austin, TX 73301</td>\n      <td>9</td>\n      <td>23.90</td>\n      <td>Austin (TX)</td>\n    </tr>\n  </tbody>\n</table>\n</div>"
     },
     "metadata": {}
    }
   ]
  },
  {
   "cell_type": "markdown",
   "source": "### Question 1: What was the best month for sales? How much was earned that month? ",
   "metadata": {
    "cell_id": "e3632736c830410099273a9b272f3106",
    "tags": [],
    "is_collapsed": false,
    "deepnote_cell_type": "text-cell-h3"
   }
  },
  {
   "cell_type": "code",
   "metadata": {
    "cell_id": "915ec226c8d643238acca6db5f08d4af",
    "tags": [],
    "deepnote_to_be_reexecuted": false,
    "source_hash": "34151349",
    "execution_start": 1651232913913,
    "execution_millis": 136,
    "deepnote_cell_type": "code",
    "deepnote_cell_height": 308
   },
   "source": "#groupby\nresult = all_data.groupby('Month').sum()\nresult.head(2)",
   "execution_count": null,
   "outputs": [
    {
     "output_type": "execute_result",
     "execution_count": 17,
     "data": {
      "application/vnd.deepnote.dataframe.v3+json": {
       "column_count": 3,
       "row_count": 2,
       "columns": [
        {
         "name": "Quantity Ordered",
         "dtype": "int64",
         "stats": {
          "unique_count": 2,
          "nan_count": 0,
          "min": "10903",
          "max": "13449",
          "histogram": [
           {
            "bin_start": 10903,
            "bin_end": 11157.6,
            "count": 1
           },
           {
            "bin_start": 11157.6,
            "bin_end": 11412.2,
            "count": 0
           },
           {
            "bin_start": 11412.2,
            "bin_end": 11666.8,
            "count": 0
           },
           {
            "bin_start": 11666.8,
            "bin_end": 11921.4,
            "count": 0
           },
           {
            "bin_start": 11921.4,
            "bin_end": 12176,
            "count": 0
           },
           {
            "bin_start": 12176,
            "bin_end": 12430.6,
            "count": 0
           },
           {
            "bin_start": 12430.6,
            "bin_end": 12685.2,
            "count": 0
           },
           {
            "bin_start": 12685.2,
            "bin_end": 12939.8,
            "count": 0
           },
           {
            "bin_start": 12939.8,
            "bin_end": 13194.4,
            "count": 0
           },
           {
            "bin_start": 13194.4,
            "bin_end": 13449,
            "count": 1
           }
          ]
         }
        },
        {
         "name": "Price Each",
         "dtype": "float64",
         "stats": {
          "unique_count": 2,
          "nan_count": 0,
          "min": "1811768.3799999245",
          "max": "2188884.719999974",
          "histogram": [
           {
            "bin_start": 1811768.3799999245,
            "bin_end": 1849480.0139999294,
            "count": 1
           },
           {
            "bin_start": 1849480.0139999294,
            "bin_end": 1887191.6479999344,
            "count": 0
           },
           {
            "bin_start": 1887191.6479999344,
            "bin_end": 1924903.2819999394,
            "count": 0
           },
           {
            "bin_start": 1924903.2819999394,
            "bin_end": 1962614.9159999443,
            "count": 0
           },
           {
            "bin_start": 1962614.9159999443,
            "bin_end": 2000326.5499999493,
            "count": 0
           },
           {
            "bin_start": 2000326.5499999493,
            "bin_end": 2038038.1839999543,
            "count": 0
           },
           {
            "bin_start": 2038038.1839999543,
            "bin_end": 2075749.8179999592,
            "count": 0
           },
           {
            "bin_start": 2075749.8179999592,
            "bin_end": 2113461.451999964,
            "count": 0
           },
           {
            "bin_start": 2113461.451999964,
            "bin_end": 2151173.0859999694,
            "count": 0
           },
           {
            "bin_start": 2151173.0859999694,
            "bin_end": 2188884.719999974,
            "count": 1
           }
          ]
         }
        },
        {
         "name": "Sales",
         "dtype": "float64",
         "stats": {
          "unique_count": 2,
          "nan_count": 0,
          "min": "1822256.729999914",
          "max": "2202022.4199999636",
          "histogram": [
           {
            "bin_start": 1822256.729999914,
            "bin_end": 1860233.298999919,
            "count": 1
           },
           {
            "bin_start": 1860233.298999919,
            "bin_end": 1898209.8679999239,
            "count": 0
           },
           {
            "bin_start": 1898209.8679999239,
            "bin_end": 1936186.436999929,
            "count": 0
           },
           {
            "bin_start": 1936186.436999929,
            "bin_end": 1974163.005999934,
            "count": 0
           },
           {
            "bin_start": 1974163.005999934,
            "bin_end": 2012139.5749999387,
            "count": 0
           },
           {
            "bin_start": 2012139.5749999387,
            "bin_end": 2050116.1439999437,
            "count": 0
           },
           {
            "bin_start": 2050116.1439999437,
            "bin_end": 2088092.7129999488,
            "count": 0
           },
           {
            "bin_start": 2088092.7129999488,
            "bin_end": 2126069.2819999536,
            "count": 0
           },
           {
            "bin_start": 2126069.2819999536,
            "bin_end": 2164045.850999959,
            "count": 0
           },
           {
            "bin_start": 2164045.850999959,
            "bin_end": 2202022.4199999636,
            "count": 1
           }
          ]
         }
        },
        {
         "name": "_deepnote_index_column",
         "dtype": "int64"
        }
       ],
       "rows": [
        {
         "Quantity Ordered": 10903,
         "Price Each": 1811768.3799999245,
         "Sales": 1822256.729999914,
         "_deepnote_index_column": 1
        },
        {
         "Quantity Ordered": 13449,
         "Price Each": 2188884.719999974,
         "Sales": 2202022.4199999636,
         "_deepnote_index_column": 2
        }
       ]
      },
      "text/plain": "       Quantity Ordered  Price Each       Sales\nMonth                                          \n1                 10903  1811768.38  1822256.73\n2                 13449  2188884.72  2202022.42",
      "text/html": "<div>\n<style scoped>\n    .dataframe tbody tr th:only-of-type {\n        vertical-align: middle;\n    }\n\n    .dataframe tbody tr th {\n        vertical-align: top;\n    }\n\n    .dataframe thead th {\n        text-align: right;\n    }\n</style>\n<table border=\"1\" class=\"dataframe\">\n  <thead>\n    <tr style=\"text-align: right;\">\n      <th></th>\n      <th>Quantity Ordered</th>\n      <th>Price Each</th>\n      <th>Sales</th>\n    </tr>\n    <tr>\n      <th>Month</th>\n      <th></th>\n      <th></th>\n      <th></th>\n    </tr>\n  </thead>\n  <tbody>\n    <tr>\n      <th>1</th>\n      <td>10903</td>\n      <td>1811768.38</td>\n      <td>1822256.73</td>\n    </tr>\n    <tr>\n      <th>2</th>\n      <td>13449</td>\n      <td>2188884.72</td>\n      <td>2202022.42</td>\n    </tr>\n  </tbody>\n</table>\n</div>"
     },
     "metadata": {}
    }
   ]
  },
  {
   "cell_type": "code",
   "metadata": {
    "cell_id": "de9a6c1054314bd5b7cc33917c473949",
    "tags": [],
    "deepnote_to_be_reexecuted": false,
    "source_hash": "e5eb5d0c",
    "execution_start": 1651232914048,
    "execution_millis": 2669,
    "deepnote_cell_type": "code",
    "deepnote_cell_height": 557,
    "deepnote_output_heights": [
     280
    ]
   },
   "source": "import matplotlib.pyplot as plt\n\nmonths = range(1,13)\n\nplt.bar(months, result['Sales'])\nplt.xticks(months)\nplt.ylabel('Sales in million of dollar ($)')\nplt.xlabel('Month Number')\nplt.title('Sales vs Month')\nplt.show()\n",
   "execution_count": null,
   "outputs": [
    {
     "data": {
      "text/plain": "<Figure size 432x288 with 1 Axes>",
      "image/png": "[encoded data removed]"
     },
     "metadata": {
      "needs_background": "light",
      "image/png": {
       "width": 376,
       "height": 278
      }
     },
     "output_type": "display_data"
    }
   ]
  },
  {
   "cell_type": "markdown",
   "source": "The best month for sales was December with a value of more than $4 million. This could be due to Christmas, when there is an increase in gift purchases.\n\nOn the other hand, we see that in the months of April and October there was an increase in sales, which could be due to a greater investment in advertising. To check this, we must make a correlation between advertising expenditures per month and sales.\n",
   "metadata": {
    "cell_id": "7826dff1b2534e228a94771cdf8e35e7",
    "tags": [],
    "deepnote_cell_type": "markdown",
    "deepnote_cell_height": 155.953125
   }
  },
  {
   "cell_type": "markdown",
   "source": "### Question 2: What city had highest number of sales?",
   "metadata": {
    "cell_id": "82d57903c89b4c91bfa917cf1a01b9df",
    "tags": [],
    "is_collapsed": false,
    "deepnote_cell_type": "text-cell-h3"
   }
  },
  {
   "cell_type": "code",
   "metadata": {
    "cell_id": "f7d37e69eb3a406db0c4d1481db7ff9c",
    "tags": [],
    "deepnote_to_be_reexecuted": false,
    "source_hash": "8715a9f2",
    "execution_start": 1651232916324,
    "execution_millis": 397,
    "deepnote_cell_type": "code",
    "deepnote_cell_height": 618
   },
   "source": "result = all_data.groupby('City').sum()\nresult",
   "execution_count": null,
   "outputs": [
    {
     "output_type": "execute_result",
     "execution_count": 19,
     "data": {
      "application/vnd.deepnote.dataframe.v3+json": {
       "column_count": 4,
       "row_count": 10,
       "columns": [
        {
         "name": "Quantity Ordered",
         "dtype": "int64",
         "stats": {
          "unique_count": 10,
          "nan_count": 0,
          "min": "2750",
          "max": "50239",
          "histogram": [
           {
            "bin_start": 2750,
            "bin_end": 7498.9,
            "count": 1
           },
           {
            "bin_start": 7498.9,
            "bin_end": 12247.8,
            "count": 2
           },
           {
            "bin_start": 12247.8,
            "bin_end": 16996.699999999997,
            "count": 3
           },
           {
            "bin_start": 16996.699999999997,
            "bin_end": 21745.6,
            "count": 0
           },
           {
            "bin_start": 21745.6,
            "bin_end": 26494.5,
            "count": 1
           },
           {
            "bin_start": 26494.5,
            "bin_end": 31243.399999999998,
            "count": 1
           },
           {
            "bin_start": 31243.399999999998,
            "bin_end": 35992.299999999996,
            "count": 1
           },
           {
            "bin_start": 35992.299999999996,
            "bin_end": 40741.2,
            "count": 0
           },
           {
            "bin_start": 40741.2,
            "bin_end": 45490.1,
            "count": 0
           },
           {
            "bin_start": 45490.1,
            "bin_end": 50239,
            "count": 1
           }
          ]
         }
        },
        {
         "name": "Price Each",
         "dtype": "float64",
         "stats": {
          "unique_count": 10,
          "nan_count": 0,
          "min": "447189.24999999977",
          "max": "8211461.740004032",
          "histogram": [
           {
            "bin_start": 447189.24999999977,
            "bin_end": 1223616.499000403,
            "count": 1
           },
           {
            "bin_start": 1223616.499000403,
            "bin_end": 2000043.7480008062,
            "count": 2
           },
           {
            "bin_start": 2000043.7480008062,
            "bin_end": 2776470.9970012093,
            "count": 2
           },
           {
            "bin_start": 2776470.9970012093,
            "bin_end": 3552898.2460016124,
            "count": 1
           },
           {
            "bin_start": 3552898.2460016124,
            "bin_end": 4329325.4950020155,
            "count": 1
           },
           {
            "bin_start": 4329325.4950020155,
            "bin_end": 5105752.7440024195,
            "count": 1
           },
           {
            "bin_start": 5105752.7440024195,
            "bin_end": 5882179.993002823,
            "count": 1
           },
           {
            "bin_start": 5882179.993002823,
            "bin_end": 6658607.242003226,
            "count": 0
           },
           {
            "bin_start": 6658607.242003226,
            "bin_end": 7435034.491003629,
            "count": 0
           },
           {
            "bin_start": 7435034.491003629,
            "bin_end": 8211461.740004032,
            "count": 1
           }
          ]
         }
        },
        {
         "name": "Month",
         "dtype": "int32",
         "stats": {
          "unique_count": 10,
          "nan_count": 0,
          "min": "17144",
          "max": "315520",
          "histogram": [
           {
            "bin_start": 17144,
            "bin_end": 46981.6,
            "count": 1
           },
           {
            "bin_start": 46981.6,
            "bin_end": 76819.2,
            "count": 2
           },
           {
            "bin_start": 76819.2,
            "bin_end": 106656.79999999999,
            "count": 3
           },
           {
            "bin_start": 106656.79999999999,
            "bin_end": 136494.4,
            "count": 0
           },
           {
            "bin_start": 136494.4,
            "bin_end": 166332,
            "count": 1
           },
           {
            "bin_start": 166332,
            "bin_end": 196169.59999999998,
            "count": 1
           },
           {
            "bin_start": 196169.59999999998,
            "bin_end": 226007.19999999998,
            "count": 1
           },
           {
            "bin_start": 226007.19999999998,
            "bin_end": 255844.8,
            "count": 0
           },
           {
            "bin_start": 255844.8,
            "bin_end": 285682.39999999997,
            "count": 0
           },
           {
            "bin_start": 285682.39999999997,
            "bin_end": 315520,
            "count": 1
           }
          ]
         }
        },
        {
         "name": "Sales",
         "dtype": "float64",
         "stats": {
          "unique_count": 10,
          "nan_count": 0,
          "min": "449758.269999999",
          "max": "8262203.910003986",
          "histogram": [
           {
            "bin_start": 449758.269999999,
            "bin_end": 1231002.8340003977,
            "count": 1
           },
           {
            "bin_start": 1231002.8340003977,
            "bin_end": 2012247.3980007966,
            "count": 2
           },
           {
            "bin_start": 2012247.3980007966,
            "bin_end": 2793491.962001195,
            "count": 2
           },
           {
            "bin_start": 2793491.962001195,
            "bin_end": 3574736.526001594,
            "count": 1
           },
           {
            "bin_start": 3574736.526001594,
            "bin_end": 4355981.090001993,
            "count": 1
           },
           {
            "bin_start": 4355981.090001993,
            "bin_end": 5137225.654002391,
            "count": 1
           },
           {
            "bin_start": 5137225.654002391,
            "bin_end": 5918470.21800279,
            "count": 1
           },
           {
            "bin_start": 5918470.21800279,
            "bin_end": 6699714.7820031885,
            "count": 0
           },
           {
            "bin_start": 6699714.7820031885,
            "bin_end": 7480959.346003587,
            "count": 0
           },
           {
            "bin_start": 7480959.346003587,
            "bin_end": 8262203.910003986,
            "count": 1
           }
          ]
         }
        },
        {
         "name": "_deepnote_index_column",
         "dtype": "object"
        }
       ],
       "rows": [
        {
         "Quantity Ordered": 16602,
         "Price Each": 2779908.2000003755,
         "Month": 104794,
         "Sales": 2795498.5800003354,
         "_deepnote_index_column": " Atlanta (GA)"
        },
        {
         "Quantity Ordered": 11153,
         "Price Each": 1809873.6099999219,
         "Month": 69829,
         "Sales": 1819581.74999991,
         "_deepnote_index_column": " Austin (TX)"
        },
        {
         "Quantity Ordered": 22528,
         "Price Each": 3637409.7700009835,
         "Month": 141112,
         "Sales": 3661642.010000926,
         "_deepnote_index_column": " Boston (MA)"
        },
        {
         "Quantity Ordered": 16730,
         "Price Each": 2752627.8200003374,
         "Month": 104620,
         "Sales": 2767975.4000003044,
         "_deepnote_index_column": " Dallas (TX)"
        },
        {
         "Quantity Ordered": 33289,
         "Price Each": 5421435.230002178,
         "Month": 208325,
         "Sales": 5452570.80000211,
         "_deepnote_index_column": " Los Angeles (CA)"
        },
        {
         "Quantity Ordered": 27932,
         "Price Each": 4635370.830001635,
         "Month": 175741,
         "Sales": 4664317.430001541,
         "_deepnote_index_column": " New York City (NY)"
        },
        {
         "Quantity Ordered": 2750,
         "Price Each": 447189.24999999977,
         "Month": 17144,
         "Sales": 449758.269999999,
         "_deepnote_index_column": " Portland (ME)"
        },
        {
         "Quantity Ordered": 11303,
         "Price Each": 1860558.2199999252,
         "Month": 70621,
         "Sales": 1870732.3399999118,
         "_deepnote_index_column": " Portland (OR)"
        },
        {
         "Quantity Ordered": 50239,
         "Price Each": 8211461.740004032,
         "Month": 315520,
         "Sales": 8262203.910003986,
         "_deepnote_index_column": " San Francisco (CA)"
        },
        {
         "Quantity Ordered": 16553,
         "Price Each": 2733296.0100003523,
         "Month": 104941,
         "Sales": 2747755.4800003213,
         "_deepnote_index_column": " Seattle (WA)"
        }
       ]
      },
      "text/plain": "                     Quantity Ordered    Price Each   Month         Sales\nCity                                                                     \n Atlanta (GA)                   16602  2.779908e+06  104794  2.795499e+06\n Austin (TX)                    11153  1.809874e+06   69829  1.819582e+06\n Boston (MA)                    22528  3.637410e+06  141112  3.661642e+06\n Dallas (TX)                    16730  2.752628e+06  104620  2.767975e+06\n Los Angeles (CA)               33289  5.421435e+06  208325  5.452571e+06\n New York City (NY)             27932  4.635371e+06  175741  4.664317e+06\n Portland (ME)                   2750  4.471892e+05   17144  4.497583e+05\n Portland (OR)                  11303  1.860558e+06   70621  1.870732e+06\n San Francisco (CA)             50239  8.211462e+06  315520  8.262204e+06\n Seattle (WA)                   16553  2.733296e+06  104941  2.747755e+06",
      "text/html": "<div>\n<style scoped>\n    .dataframe tbody tr th:only-of-type {\n        vertical-align: middle;\n    }\n\n    .dataframe tbody tr th {\n        vertical-align: top;\n    }\n\n    .dataframe thead th {\n        text-align: right;\n    }\n</style>\n<table border=\"1\" class=\"dataframe\">\n  <thead>\n    <tr style=\"text-align: right;\">\n      <th></th>\n      <th>Quantity Ordered</th>\n      <th>Price Each</th>\n      <th>Month</th>\n      <th>Sales</th>\n    </tr>\n    <tr>\n      <th>City</th>\n      <th></th>\n      <th></th>\n      <th></th>\n      <th></th>\n    </tr>\n  </thead>\n  <tbody>\n    <tr>\n      <th>Atlanta (GA)</th>\n      <td>16602</td>\n      <td>2.779908e+06</td>\n      <td>104794</td>\n      <td>2.795499e+06</td>\n    </tr>\n    <tr>\n      <th>Austin (TX)</th>\n      <td>11153</td>\n      <td>1.809874e+06</td>\n      <td>69829</td>\n      <td>1.819582e+06</td>\n    </tr>\n    <tr>\n      <th>Boston (MA)</th>\n      <td>22528</td>\n      <td>3.637410e+06</td>\n      <td>141112</td>\n      <td>3.661642e+06</td>\n    </tr>\n    <tr>\n      <th>Dallas (TX)</th>\n      <td>16730</td>\n      <td>2.752628e+06</td>\n      <td>104620</td>\n      <td>2.767975e+06</td>\n    </tr>\n    <tr>\n      <th>Los Angeles (CA)</th>\n      <td>33289</td>\n      <td>5.421435e+06</td>\n      <td>208325</td>\n      <td>5.452571e+06</td>\n    </tr>\n    <tr>\n      <th>New York City (NY)</th>\n      <td>27932</td>\n      <td>4.635371e+06</td>\n      <td>175741</td>\n      <td>4.664317e+06</td>\n    </tr>\n    <tr>\n      <th>Portland (ME)</th>\n      <td>2750</td>\n      <td>4.471892e+05</td>\n      <td>17144</td>\n      <td>4.497583e+05</td>\n    </tr>\n    <tr>\n      <th>Portland (OR)</th>\n      <td>11303</td>\n      <td>1.860558e+06</td>\n      <td>70621</td>\n      <td>1.870732e+06</td>\n    </tr>\n    <tr>\n      <th>San Francisco (CA)</th>\n      <td>50239</td>\n      <td>8.211462e+06</td>\n      <td>315520</td>\n      <td>8.262204e+06</td>\n    </tr>\n    <tr>\n      <th>Seattle (WA)</th>\n      <td>16553</td>\n      <td>2.733296e+06</td>\n      <td>104941</td>\n      <td>2.747755e+06</td>\n    </tr>\n  </tbody>\n</table>\n</div>"
     },
     "metadata": {}
    }
   ]
  },
  {
   "cell_type": "code",
   "metadata": {
    "cell_id": "0ea8e626111d4fef8bb688d8fb99e8f8",
    "tags": [],
    "deepnote_to_be_reexecuted": false,
    "source_hash": "c13384ed",
    "execution_start": 1651233560687,
    "execution_millis": 702,
    "deepnote_cell_type": "code",
    "deepnote_cell_height": 609,
    "deepnote_output_heights": [
     332
    ]
   },
   "source": "#grafic city vs sales\nimport matplotlib.pyplot as plt\n\ncities =[city for city, df in all_data.groupby('City')]\n\nplt.bar(cities, result['Sales'])\nplt.xticks(cities, rotation=45, size=8)\nplt.ylabel('Sales in millions of dollars ($)')\nplt.xlabel('City Names')\nplt.title('City vs Sales')\nplt.show()",
   "execution_count": null,
   "outputs": [
    {
     "data": {
      "text/plain": "<Figure size 432x288 with 1 Axes>",
      "image/png": "[encoded data removed]"
     },
     "metadata": {
      "needs_background": "light",
      "image/png": {
       "width": 376,
       "height": 330
      }
     },
     "output_type": "display_data"
    }
   ]
  },
  {
   "cell_type": "markdown",
   "source": "The city with the highest sales is San Francisco with more than $8 million. These high sales may be due to the fact that in Sillicon Valey the electronics stores need more of them. Another reason may be that in this city there are more people with a lot of money. Advertising in San Francisco may be much more effective than in other cities.\n\nWe also see that the city with the lowest sales is Portland, Maine, which is the smallest of all the cities shown in the graph. Perhaps the advertising is not as good in this city. \n",
   "metadata": {
    "cell_id": "6af1a10432d041d98c76c80f2c8cb753",
    "tags": [],
    "deepnote_cell_type": "markdown",
    "deepnote_cell_height": 178.34375
   }
  },
  {
   "cell_type": "markdown",
   "source": "### Question 3: What time should we display  advertisements to maximize likelihood of customer's buying product?",
   "metadata": {
    "cell_id": "e6ca850795bb437b81207705fede9f1c",
    "tags": [],
    "is_collapsed": false,
    "deepnote_cell_type": "text-cell-h3"
   }
  },
  {
   "cell_type": "code",
   "metadata": {
    "cell_id": "d28524294dd54598a9b750314e4ab7fc",
    "tags": [],
    "deepnote_to_be_reexecuted": false,
    "source_hash": "4e56fd34",
    "execution_start": 1651232916954,
    "execution_millis": 51,
    "deepnote_cell_type": "code"
   },
   "source": "all_data.head()",
   "execution_count": null,
   "outputs": [
    {
     "output_type": "execute_result",
     "execution_count": 21,
     "data": {
      "application/vnd.deepnote.dataframe.v3+json": {
       "column_count": 9,
       "row_count": 5,
       "columns": [
        {
         "name": "Order ID",
         "dtype": "object",
         "stats": {
          "unique_count": 5,
          "nan_count": 0,
          "categories": [
           {
            "name": "248151",
            "count": 1
           },
           {
            "name": "248152",
            "count": 1
           },
           {
            "name": "3 others",
            "count": 3
           }
          ]
         }
        },
        {
         "name": "Product",
         "dtype": "object",
         "stats": {
          "unique_count": 3,
          "nan_count": 0,
          "categories": [
           {
            "name": "USB-C Charging Cable",
            "count": 3
           },
           {
            "name": "AA Batteries (4-pack)",
            "count": 1
           },
           {
            "name": "27in FHD Monitor",
            "count": 1
           }
          ]
         }
        },
        {
         "name": "Quantity Ordered",
         "dtype": "int64",
         "stats": {
          "unique_count": 3,
          "nan_count": 0,
          "min": "1",
          "max": "4",
          "histogram": [
           {
            "bin_start": 1,
            "bin_end": 1.3,
            "count": 3
           },
           {
            "bin_start": 1.3,
            "bin_end": 1.6,
            "count": 0
           },
           {
            "bin_start": 1.6,
            "bin_end": 1.9,
            "count": 0
           },
           {
            "bin_start": 1.9,
            "bin_end": 2.2,
            "count": 1
           },
           {
            "bin_start": 2.2,
            "bin_end": 2.5,
            "count": 0
           },
           {
            "bin_start": 2.5,
            "bin_end": 2.8,
            "count": 0
           },
           {
            "bin_start": 2.8,
            "bin_end": 3.1,
            "count": 0
           },
           {
            "bin_start": 3.1,
            "bin_end": 3.4,
            "count": 0
           },
           {
            "bin_start": 3.4,
            "bin_end": 3.6999999999999997,
            "count": 0
           },
           {
            "bin_start": 3.6999999999999997,
            "bin_end": 4,
            "count": 1
           }
          ]
         }
        },
        {
         "name": "Price Each",
         "dtype": "float64",
         "stats": {
          "unique_count": 3,
          "nan_count": 0,
          "min": "3.84",
          "max": "149.99",
          "histogram": [
           {
            "bin_start": 3.84,
            "bin_end": 18.455,
            "count": 4
           },
           {
            "bin_start": 18.455,
            "bin_end": 33.07,
            "count": 0
           },
           {
            "bin_start": 33.07,
            "bin_end": 47.685,
            "count": 0
           },
           {
            "bin_start": 47.685,
            "bin_end": 62.3,
            "count": 0
           },
           {
            "bin_start": 62.3,
            "bin_end": 76.915,
            "count": 0
           },
           {
            "bin_start": 76.915,
            "bin_end": 91.53,
            "count": 0
           },
           {
            "bin_start": 91.53,
            "bin_end": 106.14500000000001,
            "count": 0
           },
           {
            "bin_start": 106.14500000000001,
            "bin_end": 120.76,
            "count": 0
           },
           {
            "bin_start": 120.76,
            "bin_end": 135.375,
            "count": 0
           },
           {
            "bin_start": 135.375,
            "bin_end": 149.99,
            "count": 1
           }
          ]
         }
        },
        {
         "name": "Order Date",
         "dtype": "object",
         "stats": {
          "unique_count": 5,
          "nan_count": 0,
          "categories": [
           {
            "name": "09/17/19 14:44",
            "count": 1
           },
           {
            "name": "09/29/19 10:19",
            "count": 1
           },
           {
            "name": "3 others",
            "count": 3
           }
          ]
         }
        },
        {
         "name": "Purchase Address",
         "dtype": "object",
         "stats": {
          "unique_count": 5,
          "nan_count": 0,
          "categories": [
           {
            "name": "380 North St, Los Angeles, CA 90001",
            "count": 1
           },
           {
            "name": "511 8th St, Austin, TX 73301",
            "count": 1
           },
           {
            "name": "3 others",
            "count": 3
           }
          ]
         }
        },
        {
         "name": "Month",
         "dtype": "int32",
         "stats": {
          "unique_count": 1,
          "nan_count": 0,
          "min": "9",
          "max": "9",
          "histogram": [
           {
            "bin_start": 8.5,
            "bin_end": 8.6,
            "count": 0
           },
           {
            "bin_start": 8.6,
            "bin_end": 8.7,
            "count": 0
           },
           {
            "bin_start": 8.7,
            "bin_end": 8.8,
            "count": 0
           },
           {
            "bin_start": 8.8,
            "bin_end": 8.9,
            "count": 0
           },
           {
            "bin_start": 8.9,
            "bin_end": 9,
            "count": 0
           },
           {
            "bin_start": 9,
            "bin_end": 9.1,
            "count": 5
           },
           {
            "bin_start": 9.1,
            "bin_end": 9.2,
            "count": 0
           },
           {
            "bin_start": 9.2,
            "bin_end": 9.3,
            "count": 0
           },
           {
            "bin_start": 9.3,
            "bin_end": 9.4,
            "count": 0
           },
           {
            "bin_start": 9.4,
            "bin_end": 9.5,
            "count": 0
           }
          ]
         }
        },
        {
         "name": "Sales",
         "dtype": "float64",
         "stats": {
          "unique_count": 4,
          "nan_count": 0,
          "min": "11.95",
          "max": "149.99",
          "histogram": [
           {
            "bin_start": 11.95,
            "bin_end": 25.754,
            "count": 4
           },
           {
            "bin_start": 25.754,
            "bin_end": 39.55800000000001,
            "count": 0
           },
           {
            "bin_start": 39.55800000000001,
            "bin_end": 53.36200000000001,
            "count": 0
           },
           {
            "bin_start": 53.36200000000001,
            "bin_end": 67.16600000000001,
            "count": 0
           },
           {
            "bin_start": 67.16600000000001,
            "bin_end": 80.97000000000001,
            "count": 0
           },
           {
            "bin_start": 80.97000000000001,
            "bin_end": 94.77400000000002,
            "count": 0
           },
           {
            "bin_start": 94.77400000000002,
            "bin_end": 108.57800000000002,
            "count": 0
           },
           {
            "bin_start": 108.57800000000002,
            "bin_end": 122.38200000000002,
            "count": 0
           },
           {
            "bin_start": 122.38200000000002,
            "bin_end": 136.186,
            "count": 0
           },
           {
            "bin_start": 136.186,
            "bin_end": 149.99,
            "count": 1
           }
          ]
         }
        },
        {
         "name": "City",
         "dtype": "object",
         "stats": {
          "unique_count": 4,
          "nan_count": 0,
          "categories": [
           {
            "name": " Los Angeles (CA)",
            "count": 2
           },
           {
            "name": " Austin (TX)",
            "count": 1
           },
           {
            "name": "2 others",
            "count": 2
           }
          ]
         }
        },
        {
         "name": "_deepnote_index_column",
         "dtype": "int64"
        }
       ],
       "rows": [
        {
         "Order ID": "248151",
         "Product": "AA Batteries (4-pack)",
         "Quantity Ordered": 4,
         "Price Each": 3.84,
         "Order Date": "09/17/19 14:44",
         "Purchase Address": "380 North St, Los Angeles, CA 90001",
         "Month": 9,
         "Sales": 15.36,
         "City": " Los Angeles (CA)",
         "_deepnote_index_column": 0
        },
        {
         "Order ID": "248152",
         "Product": "USB-C Charging Cable",
         "Quantity Ordered": 2,
         "Price Each": 11.95,
         "Order Date": "09/29/19 10:19",
         "Purchase Address": "511 8th St, Austin, TX 73301",
         "Month": 9,
         "Sales": 23.9,
         "City": " Austin (TX)",
         "_deepnote_index_column": 1
        },
        {
         "Order ID": "248153",
         "Product": "USB-C Charging Cable",
         "Quantity Ordered": 1,
         "Price Each": 11.95,
         "Order Date": "09/16/19 17:48",
         "Purchase Address": "151 Johnson St, Los Angeles, CA 90001",
         "Month": 9,
         "Sales": 11.95,
         "City": " Los Angeles (CA)",
         "_deepnote_index_column": 2
        },
        {
         "Order ID": "248154",
         "Product": "27in FHD Monitor",
         "Quantity Ordered": 1,
         "Price Each": 149.99,
         "Order Date": "09/27/19 07:52",
         "Purchase Address": "355 Hickory St, Seattle, WA 98101",
         "Month": 9,
         "Sales": 149.99,
         "City": " Seattle (WA)",
         "_deepnote_index_column": 3
        },
        {
         "Order ID": "248155",
         "Product": "USB-C Charging Cable",
         "Quantity Ordered": 1,
         "Price Each": 11.95,
         "Order Date": "09/01/19 19:03",
         "Purchase Address": "125 5th St, Atlanta, GA 30301",
         "Month": 9,
         "Sales": 11.95,
         "City": " Atlanta (GA)",
         "_deepnote_index_column": 4
        }
       ]
      },
      "text/plain": "  Order ID                Product  Quantity Ordered  Price Each  \\\n0   248151  AA Batteries (4-pack)                 4        3.84   \n1   248152   USB-C Charging Cable                 2       11.95   \n2   248153   USB-C Charging Cable                 1       11.95   \n3   248154       27in FHD Monitor                 1      149.99   \n4   248155   USB-C Charging Cable                 1       11.95   \n\n       Order Date                       Purchase Address  Month   Sales  \\\n0  09/17/19 14:44    380 North St, Los Angeles, CA 90001      9   15.36   \n1  09/29/19 10:19           511 8th St, Austin, TX 73301      9   23.90   \n2  09/16/19 17:48  151 Johnson St, Los Angeles, CA 90001      9   11.95   \n3  09/27/19 07:52      355 Hickory St, Seattle, WA 98101      9  149.99   \n4  09/01/19 19:03          125 5th St, Atlanta, GA 30301      9   11.95   \n\n                City  \n0   Los Angeles (CA)  \n1        Austin (TX)  \n2   Los Angeles (CA)  \n3       Seattle (WA)  \n4       Atlanta (GA)  ",
      "text/html": "<div>\n<style scoped>\n    .dataframe tbody tr th:only-of-type {\n        vertical-align: middle;\n    }\n\n    .dataframe tbody tr th {\n        vertical-align: top;\n    }\n\n    .dataframe thead th {\n        text-align: right;\n    }\n</style>\n<table border=\"1\" class=\"dataframe\">\n  <thead>\n    <tr style=\"text-align: right;\">\n      <th></th>\n      <th>Order ID</th>\n      <th>Product</th>\n      <th>Quantity Ordered</th>\n      <th>Price Each</th>\n      <th>Order Date</th>\n      <th>Purchase Address</th>\n      <th>Month</th>\n      <th>Sales</th>\n      <th>City</th>\n    </tr>\n  </thead>\n  <tbody>\n    <tr>\n      <th>0</th>\n      <td>248151</td>\n      <td>AA Batteries (4-pack)</td>\n      <td>4</td>\n      <td>3.84</td>\n      <td>09/17/19 14:44</td>\n      <td>380 North St, Los Angeles, CA 90001</td>\n      <td>9</td>\n      <td>15.36</td>\n      <td>Los Angeles (CA)</td>\n    </tr>\n    <tr>\n      <th>1</th>\n      <td>248152</td>\n      <td>USB-C Charging Cable</td>\n      <td>2</td>\n      <td>11.95</td>\n      <td>09/29/19 10:19</td>\n      <td>511 8th St, Austin, TX 73301</td>\n      <td>9</td>\n      <td>23.90</td>\n      <td>Austin (TX)</td>\n    </tr>\n    <tr>\n      <th>2</th>\n      <td>248153</td>\n      <td>USB-C Charging Cable</td>\n      <td>1</td>\n      <td>11.95</td>\n      <td>09/16/19 17:48</td>\n      <td>151 Johnson St, Los Angeles, CA 90001</td>\n      <td>9</td>\n      <td>11.95</td>\n      <td>Los Angeles (CA)</td>\n    </tr>\n    <tr>\n      <th>3</th>\n      <td>248154</td>\n      <td>27in FHD Monitor</td>\n      <td>1</td>\n      <td>149.99</td>\n      <td>09/27/19 07:52</td>\n      <td>355 Hickory St, Seattle, WA 98101</td>\n      <td>9</td>\n      <td>149.99</td>\n      <td>Seattle (WA)</td>\n    </tr>\n    <tr>\n      <th>4</th>\n      <td>248155</td>\n      <td>USB-C Charging Cable</td>\n      <td>1</td>\n      <td>11.95</td>\n      <td>09/01/19 19:03</td>\n      <td>125 5th St, Atlanta, GA 30301</td>\n      <td>9</td>\n      <td>11.95</td>\n      <td>Atlanta (GA)</td>\n    </tr>\n  </tbody>\n</table>\n</div>"
     },
     "metadata": {}
    }
   ]
  },
  {
   "cell_type": "code",
   "metadata": {
    "cell_id": "29e682dc1c584fc4ac7dcbcadd74d915",
    "tags": [],
    "deepnote_to_be_reexecuted": false,
    "source_hash": "34f05ef2",
    "execution_start": 1651232917009,
    "execution_millis": 30873,
    "deepnote_cell_type": "code"
   },
   "source": "all_data['Order Date'] = pd.to_datetime(all_data['Order Date'])\nall_data.head()",
   "execution_count": null,
   "outputs": [
    {
     "output_type": "execute_result",
     "execution_count": 22,
     "data": {
      "application/vnd.deepnote.dataframe.v3+json": {
       "column_count": 9,
       "row_count": 5,
       "columns": [
        {
         "name": "Order ID",
         "dtype": "object",
         "stats": {
          "unique_count": 5,
          "nan_count": 0,
          "categories": [
           {
            "name": "248151",
            "count": 1
           },
           {
            "name": "248152",
            "count": 1
           },
           {
            "name": "3 others",
            "count": 3
           }
          ]
         }
        },
        {
         "name": "Product",
         "dtype": "object",
         "stats": {
          "unique_count": 3,
          "nan_count": 0,
          "categories": [
           {
            "name": "USB-C Charging Cable",
            "count": 3
           },
           {
            "name": "AA Batteries (4-pack)",
            "count": 1
           },
           {
            "name": "27in FHD Monitor",
            "count": 1
           }
          ]
         }
        },
        {
         "name": "Quantity Ordered",
         "dtype": "int64",
         "stats": {
          "unique_count": 3,
          "nan_count": 0,
          "min": "1",
          "max": "4",
          "histogram": [
           {
            "bin_start": 1,
            "bin_end": 1.3,
            "count": 3
           },
           {
            "bin_start": 1.3,
            "bin_end": 1.6,
            "count": 0
           },
           {
            "bin_start": 1.6,
            "bin_end": 1.9,
            "count": 0
           },
           {
            "bin_start": 1.9,
            "bin_end": 2.2,
            "count": 1
           },
           {
            "bin_start": 2.2,
            "bin_end": 2.5,
            "count": 0
           },
           {
            "bin_start": 2.5,
            "bin_end": 2.8,
            "count": 0
           },
           {
            "bin_start": 2.8,
            "bin_end": 3.1,
            "count": 0
           },
           {
            "bin_start": 3.1,
            "bin_end": 3.4,
            "count": 0
           },
           {
            "bin_start": 3.4,
            "bin_end": 3.6999999999999997,
            "count": 0
           },
           {
            "bin_start": 3.6999999999999997,
            "bin_end": 4,
            "count": 1
           }
          ]
         }
        },
        {
         "name": "Price Each",
         "dtype": "float64",
         "stats": {
          "unique_count": 3,
          "nan_count": 0,
          "min": "3.84",
          "max": "149.99",
          "histogram": [
           {
            "bin_start": 3.84,
            "bin_end": 18.455,
            "count": 4
           },
           {
            "bin_start": 18.455,
            "bin_end": 33.07,
            "count": 0
           },
           {
            "bin_start": 33.07,
            "bin_end": 47.685,
            "count": 0
           },
           {
            "bin_start": 47.685,
            "bin_end": 62.3,
            "count": 0
           },
           {
            "bin_start": 62.3,
            "bin_end": 76.915,
            "count": 0
           },
           {
            "bin_start": 76.915,
            "bin_end": 91.53,
            "count": 0
           },
           {
            "bin_start": 91.53,
            "bin_end": 106.14500000000001,
            "count": 0
           },
           {
            "bin_start": 106.14500000000001,
            "bin_end": 120.76,
            "count": 0
           },
           {
            "bin_start": 120.76,
            "bin_end": 135.375,
            "count": 0
           },
           {
            "bin_start": 135.375,
            "bin_end": 149.99,
            "count": 1
           }
          ]
         }
        },
        {
         "name": "Order Date",
         "dtype": "datetime64[ns]",
         "stats": {
          "unique_count": 5,
          "nan_count": 0,
          "min": "2019-09-01 19:03:00",
          "max": "2019-09-29 10:19:00",
          "histogram": [
           {
            "bin_start": 1567364580000000000,
            "bin_end": 1567603356000000000,
            "count": 1
           },
           {
            "bin_start": 1567603356000000000,
            "bin_end": 1567842132000000000,
            "count": 0
           },
           {
            "bin_start": 1567842132000000000,
            "bin_end": 1568080908000000000,
            "count": 0
           },
           {
            "bin_start": 1568080908000000000,
            "bin_end": 1568319684000000000,
            "count": 0
           },
           {
            "bin_start": 1568319684000000000,
            "bin_end": 1568558460000000000,
            "count": 0
           },
           {
            "bin_start": 1568558460000000000,
            "bin_end": 1568797236000000000,
            "count": 2
           },
           {
            "bin_start": 1568797236000000000,
            "bin_end": 1569036012000000000,
            "count": 0
           },
           {
            "bin_start": 1569036012000000000,
            "bin_end": 1569274788000000000,
            "count": 0
           },
           {
            "bin_start": 1569274788000000000,
            "bin_end": 1569513564000000000,
            "count": 0
           },
           {
            "bin_start": 1569513564000000000,
            "bin_end": 1569752340000000000,
            "count": 2
           }
          ]
         }
        },
        {
         "name": "Purchase Address",
         "dtype": "object",
         "stats": {
          "unique_count": 5,
          "nan_count": 0,
          "categories": [
           {
            "name": "380 North St, Los Angeles, CA 90001",
            "count": 1
           },
           {
            "name": "511 8th St, Austin, TX 73301",
            "count": 1
           },
           {
            "name": "3 others",
            "count": 3
           }
          ]
         }
        },
        {
         "name": "Month",
         "dtype": "int32",
         "stats": {
          "unique_count": 1,
          "nan_count": 0,
          "min": "9",
          "max": "9",
          "histogram": [
           {
            "bin_start": 8.5,
            "bin_end": 8.6,
            "count": 0
           },
           {
            "bin_start": 8.6,
            "bin_end": 8.7,
            "count": 0
           },
           {
            "bin_start": 8.7,
            "bin_end": 8.8,
            "count": 0
           },
           {
            "bin_start": 8.8,
            "bin_end": 8.9,
            "count": 0
           },
           {
            "bin_start": 8.9,
            "bin_end": 9,
            "count": 0
           },
           {
            "bin_start": 9,
            "bin_end": 9.1,
            "count": 5
           },
           {
            "bin_start": 9.1,
            "bin_end": 9.2,
            "count": 0
           },
           {
            "bin_start": 9.2,
            "bin_end": 9.3,
            "count": 0
           },
           {
            "bin_start": 9.3,
            "bin_end": 9.4,
            "count": 0
           },
           {
            "bin_start": 9.4,
            "bin_end": 9.5,
            "count": 0
           }
          ]
         }
        },
        {
         "name": "Sales",
         "dtype": "float64",
         "stats": {
          "unique_count": 4,
          "nan_count": 0,
          "min": "11.95",
          "max": "149.99",
          "histogram": [
           {
            "bin_start": 11.95,
            "bin_end": 25.754,
            "count": 4
           },
           {
            "bin_start": 25.754,
            "bin_end": 39.55800000000001,
            "count": 0
           },
           {
            "bin_start": 39.55800000000001,
            "bin_end": 53.36200000000001,
            "count": 0
           },
           {
            "bin_start": 53.36200000000001,
            "bin_end": 67.16600000000001,
            "count": 0
           },
           {
            "bin_start": 67.16600000000001,
            "bin_end": 80.97000000000001,
            "count": 0
           },
           {
            "bin_start": 80.97000000000001,
            "bin_end": 94.77400000000002,
            "count": 0
           },
           {
            "bin_start": 94.77400000000002,
            "bin_end": 108.57800000000002,
            "count": 0
           },
           {
            "bin_start": 108.57800000000002,
            "bin_end": 122.38200000000002,
            "count": 0
           },
           {
            "bin_start": 122.38200000000002,
            "bin_end": 136.186,
            "count": 0
           },
           {
            "bin_start": 136.186,
            "bin_end": 149.99,
            "count": 1
           }
          ]
         }
        },
        {
         "name": "City",
         "dtype": "object",
         "stats": {
          "unique_count": 4,
          "nan_count": 0,
          "categories": [
           {
            "name": " Los Angeles (CA)",
            "count": 2
           },
           {
            "name": " Austin (TX)",
            "count": 1
           },
           {
            "name": "2 others",
            "count": 2
           }
          ]
         }
        },
        {
         "name": "_deepnote_index_column",
         "dtype": "int64"
        }
       ],
       "rows": [
        {
         "Order ID": "248151",
         "Product": "AA Batteries (4-pack)",
         "Quantity Ordered": 4,
         "Price Each": 3.84,
         "Order Date": "2019-09-17T14:44:00.000000",
         "Purchase Address": "380 North St, Los Angeles, CA 90001",
         "Month": 9,
         "Sales": 15.36,
         "City": " Los Angeles (CA)",
         "_deepnote_index_column": 0
        },
        {
         "Order ID": "248152",
         "Product": "USB-C Charging Cable",
         "Quantity Ordered": 2,
         "Price Each": 11.95,
         "Order Date": "2019-09-29T10:19:00.000000",
         "Purchase Address": "511 8th St, Austin, TX 73301",
         "Month": 9,
         "Sales": 23.9,
         "City": " Austin (TX)",
         "_deepnote_index_column": 1
        },
        {
         "Order ID": "248153",
         "Product": "USB-C Charging Cable",
         "Quantity Ordered": 1,
         "Price Each": 11.95,
         "Order Date": "2019-09-16T17:48:00.000000",
         "Purchase Address": "151 Johnson St, Los Angeles, CA 90001",
         "Month": 9,
         "Sales": 11.95,
         "City": " Los Angeles (CA)",
         "_deepnote_index_column": 2
        },
        {
         "Order ID": "248154",
         "Product": "27in FHD Monitor",
         "Quantity Ordered": 1,
         "Price Each": 149.99,
         "Order Date": "2019-09-27T07:52:00.000000",
         "Purchase Address": "355 Hickory St, Seattle, WA 98101",
         "Month": 9,
         "Sales": 149.99,
         "City": " Seattle (WA)",
         "_deepnote_index_column": 3
        },
        {
         "Order ID": "248155",
         "Product": "USB-C Charging Cable",
         "Quantity Ordered": 1,
         "Price Each": 11.95,
         "Order Date": "2019-09-01T19:03:00.000000",
         "Purchase Address": "125 5th St, Atlanta, GA 30301",
         "Month": 9,
         "Sales": 11.95,
         "City": " Atlanta (GA)",
         "_deepnote_index_column": 4
        }
       ]
      },
      "text/plain": "  Order ID                Product  Quantity Ordered  Price Each  \\\n0   248151  AA Batteries (4-pack)                 4        3.84   \n1   248152   USB-C Charging Cable                 2       11.95   \n2   248153   USB-C Charging Cable                 1       11.95   \n3   248154       27in FHD Monitor                 1      149.99   \n4   248155   USB-C Charging Cable                 1       11.95   \n\n           Order Date                       Purchase Address  Month   Sales  \\\n0 2019-09-17 14:44:00    380 North St, Los Angeles, CA 90001      9   15.36   \n1 2019-09-29 10:19:00           511 8th St, Austin, TX 73301      9   23.90   \n2 2019-09-16 17:48:00  151 Johnson St, Los Angeles, CA 90001      9   11.95   \n3 2019-09-27 07:52:00      355 Hickory St, Seattle, WA 98101      9  149.99   \n4 2019-09-01 19:03:00          125 5th St, Atlanta, GA 30301      9   11.95   \n\n                City  \n0   Los Angeles (CA)  \n1        Austin (TX)  \n2   Los Angeles (CA)  \n3       Seattle (WA)  \n4       Atlanta (GA)  ",
      "text/html": "<div>\n<style scoped>\n    .dataframe tbody tr th:only-of-type {\n        vertical-align: middle;\n    }\n\n    .dataframe tbody tr th {\n        vertical-align: top;\n    }\n\n    .dataframe thead th {\n        text-align: right;\n    }\n</style>\n<table border=\"1\" class=\"dataframe\">\n  <thead>\n    <tr style=\"text-align: right;\">\n      <th></th>\n      <th>Order ID</th>\n      <th>Product</th>\n      <th>Quantity Ordered</th>\n      <th>Price Each</th>\n      <th>Order Date</th>\n      <th>Purchase Address</th>\n      <th>Month</th>\n      <th>Sales</th>\n      <th>City</th>\n    </tr>\n  </thead>\n  <tbody>\n    <tr>\n      <th>0</th>\n      <td>248151</td>\n      <td>AA Batteries (4-pack)</td>\n      <td>4</td>\n      <td>3.84</td>\n      <td>2019-09-17 14:44:00</td>\n      <td>380 North St, Los Angeles, CA 90001</td>\n      <td>9</td>\n      <td>15.36</td>\n      <td>Los Angeles (CA)</td>\n    </tr>\n    <tr>\n      <th>1</th>\n      <td>248152</td>\n      <td>USB-C Charging Cable</td>\n      <td>2</td>\n      <td>11.95</td>\n      <td>2019-09-29 10:19:00</td>\n      <td>511 8th St, Austin, TX 73301</td>\n      <td>9</td>\n      <td>23.90</td>\n      <td>Austin (TX)</td>\n    </tr>\n    <tr>\n      <th>2</th>\n      <td>248153</td>\n      <td>USB-C Charging Cable</td>\n      <td>1</td>\n      <td>11.95</td>\n      <td>2019-09-16 17:48:00</td>\n      <td>151 Johnson St, Los Angeles, CA 90001</td>\n      <td>9</td>\n      <td>11.95</td>\n      <td>Los Angeles (CA)</td>\n    </tr>\n    <tr>\n      <th>3</th>\n      <td>248154</td>\n      <td>27in FHD Monitor</td>\n      <td>1</td>\n      <td>149.99</td>\n      <td>2019-09-27 07:52:00</td>\n      <td>355 Hickory St, Seattle, WA 98101</td>\n      <td>9</td>\n      <td>149.99</td>\n      <td>Seattle (WA)</td>\n    </tr>\n    <tr>\n      <th>4</th>\n      <td>248155</td>\n      <td>USB-C Charging Cable</td>\n      <td>1</td>\n      <td>11.95</td>\n      <td>2019-09-01 19:03:00</td>\n      <td>125 5th St, Atlanta, GA 30301</td>\n      <td>9</td>\n      <td>11.95</td>\n      <td>Atlanta (GA)</td>\n    </tr>\n  </tbody>\n</table>\n</div>"
     },
     "metadata": {}
    }
   ]
  },
  {
   "cell_type": "code",
   "metadata": {
    "cell_id": "24b2b3d640c94332ba115c8aa723906e",
    "tags": [],
    "deepnote_to_be_reexecuted": false,
    "source_hash": "44b27bc6",
    "execution_start": 1651232947882,
    "execution_millis": 98,
    "deepnote_cell_type": "code"
   },
   "source": "#Hour\nall_data['Hour'] = all_data['Order Date'].dt.hour\n\n#minute\nall_data['Minute'] = all_data['Order Date'].dt.minute\nall_data.head()",
   "execution_count": null,
   "outputs": [
    {
     "output_type": "execute_result",
     "execution_count": 23,
     "data": {
      "application/vnd.deepnote.dataframe.v3+json": {
       "column_count": 11,
       "row_count": 5,
       "columns": [
        {
         "name": "Order ID",
         "dtype": "object",
         "stats": {
          "unique_count": 5,
          "nan_count": 0,
          "categories": [
           {
            "name": "248151",
            "count": 1
           },
           {
            "name": "248152",
            "count": 1
           },
           {
            "name": "3 others",
            "count": 3
           }
          ]
         }
        },
        {
         "name": "Product",
         "dtype": "object",
         "stats": {
          "unique_count": 3,
          "nan_count": 0,
          "categories": [
           {
            "name": "USB-C Charging Cable",
            "count": 3
           },
           {
            "name": "AA Batteries (4-pack)",
            "count": 1
           },
           {
            "name": "27in FHD Monitor",
            "count": 1
           }
          ]
         }
        },
        {
         "name": "Quantity Ordered",
         "dtype": "int64",
         "stats": {
          "unique_count": 3,
          "nan_count": 0,
          "min": "1",
          "max": "4",
          "histogram": [
           {
            "bin_start": 1,
            "bin_end": 1.3,
            "count": 3
           },
           {
            "bin_start": 1.3,
            "bin_end": 1.6,
            "count": 0
           },
           {
            "bin_start": 1.6,
            "bin_end": 1.9,
            "count": 0
           },
           {
            "bin_start": 1.9,
            "bin_end": 2.2,
            "count": 1
           },
           {
            "bin_start": 2.2,
            "bin_end": 2.5,
            "count": 0
           },
           {
            "bin_start": 2.5,
            "bin_end": 2.8,
            "count": 0
           },
           {
            "bin_start": 2.8,
            "bin_end": 3.1,
            "count": 0
           },
           {
            "bin_start": 3.1,
            "bin_end": 3.4,
            "count": 0
           },
           {
            "bin_start": 3.4,
            "bin_end": 3.6999999999999997,
            "count": 0
           },
           {
            "bin_start": 3.6999999999999997,
            "bin_end": 4,
            "count": 1
           }
          ]
         }
        },
        {
         "name": "Price Each",
         "dtype": "float64",
         "stats": {
          "unique_count": 3,
          "nan_count": 0,
          "min": "3.84",
          "max": "149.99",
          "histogram": [
           {
            "bin_start": 3.84,
            "bin_end": 18.455,
            "count": 4
           },
           {
            "bin_start": 18.455,
            "bin_end": 33.07,
            "count": 0
           },
           {
            "bin_start": 33.07,
            "bin_end": 47.685,
            "count": 0
           },
           {
            "bin_start": 47.685,
            "bin_end": 62.3,
            "count": 0
           },
           {
            "bin_start": 62.3,
            "bin_end": 76.915,
            "count": 0
           },
           {
            "bin_start": 76.915,
            "bin_end": 91.53,
            "count": 0
           },
           {
            "bin_start": 91.53,
            "bin_end": 106.14500000000001,
            "count": 0
           },
           {
            "bin_start": 106.14500000000001,
            "bin_end": 120.76,
            "count": 0
           },
           {
            "bin_start": 120.76,
            "bin_end": 135.375,
            "count": 0
           },
           {
            "bin_start": 135.375,
            "bin_end": 149.99,
            "count": 1
           }
          ]
         }
        },
        {
         "name": "Order Date",
         "dtype": "datetime64[ns]",
         "stats": {
          "unique_count": 5,
          "nan_count": 0,
          "min": "2019-09-01 19:03:00",
          "max": "2019-09-29 10:19:00",
          "histogram": [
           {
            "bin_start": 1567364580000000000,
            "bin_end": 1567603356000000000,
            "count": 1
           },
           {
            "bin_start": 1567603356000000000,
            "bin_end": 1567842132000000000,
            "count": 0
           },
           {
            "bin_start": 1567842132000000000,
            "bin_end": 1568080908000000000,
            "count": 0
           },
           {
            "bin_start": 1568080908000000000,
            "bin_end": 1568319684000000000,
            "count": 0
           },
           {
            "bin_start": 1568319684000000000,
            "bin_end": 1568558460000000000,
            "count": 0
           },
           {
            "bin_start": 1568558460000000000,
            "bin_end": 1568797236000000000,
            "count": 2
           },
           {
            "bin_start": 1568797236000000000,
            "bin_end": 1569036012000000000,
            "count": 0
           },
           {
            "bin_start": 1569036012000000000,
            "bin_end": 1569274788000000000,
            "count": 0
           },
           {
            "bin_start": 1569274788000000000,
            "bin_end": 1569513564000000000,
            "count": 0
           },
           {
            "bin_start": 1569513564000000000,
            "bin_end": 1569752340000000000,
            "count": 2
           }
          ]
         }
        },
        {
         "name": "Purchase Address",
         "dtype": "object",
         "stats": {
          "unique_count": 5,
          "nan_count": 0,
          "categories": [
           {
            "name": "380 North St, Los Angeles, CA 90001",
            "count": 1
           },
           {
            "name": "511 8th St, Austin, TX 73301",
            "count": 1
           },
           {
            "name": "3 others",
            "count": 3
           }
          ]
         }
        },
        {
         "name": "Month",
         "dtype": "int32",
         "stats": {
          "unique_count": 1,
          "nan_count": 0,
          "min": "9",
          "max": "9",
          "histogram": [
           {
            "bin_start": 8.5,
            "bin_end": 8.6,
            "count": 0
           },
           {
            "bin_start": 8.6,
            "bin_end": 8.7,
            "count": 0
           },
           {
            "bin_start": 8.7,
            "bin_end": 8.8,
            "count": 0
           },
           {
            "bin_start": 8.8,
            "bin_end": 8.9,
            "count": 0
           },
           {
            "bin_start": 8.9,
            "bin_end": 9,
            "count": 0
           },
           {
            "bin_start": 9,
            "bin_end": 9.1,
            "count": 5
           },
           {
            "bin_start": 9.1,
            "bin_end": 9.2,
            "count": 0
           },
           {
            "bin_start": 9.2,
            "bin_end": 9.3,
            "count": 0
           },
           {
            "bin_start": 9.3,
            "bin_end": 9.4,
            "count": 0
           },
           {
            "bin_start": 9.4,
            "bin_end": 9.5,
            "count": 0
           }
          ]
         }
        },
        {
         "name": "Sales",
         "dtype": "float64",
         "stats": {
          "unique_count": 4,
          "nan_count": 0,
          "min": "11.95",
          "max": "149.99",
          "histogram": [
           {
            "bin_start": 11.95,
            "bin_end": 25.754,
            "count": 4
           },
           {
            "bin_start": 25.754,
            "bin_end": 39.55800000000001,
            "count": 0
           },
           {
            "bin_start": 39.55800000000001,
            "bin_end": 53.36200000000001,
            "count": 0
           },
           {
            "bin_start": 53.36200000000001,
            "bin_end": 67.16600000000001,
            "count": 0
           },
           {
            "bin_start": 67.16600000000001,
            "bin_end": 80.97000000000001,
            "count": 0
           },
           {
            "bin_start": 80.97000000000001,
            "bin_end": 94.77400000000002,
            "count": 0
           },
           {
            "bin_start": 94.77400000000002,
            "bin_end": 108.57800000000002,
            "count": 0
           },
           {
            "bin_start": 108.57800000000002,
            "bin_end": 122.38200000000002,
            "count": 0
           },
           {
            "bin_start": 122.38200000000002,
            "bin_end": 136.186,
            "count": 0
           },
           {
            "bin_start": 136.186,
            "bin_end": 149.99,
            "count": 1
           }
          ]
         }
        },
        {
         "name": "City",
         "dtype": "object",
         "stats": {
          "unique_count": 4,
          "nan_count": 0,
          "categories": [
           {
            "name": " Los Angeles (CA)",
            "count": 2
           },
           {
            "name": " Austin (TX)",
            "count": 1
           },
           {
            "name": "2 others",
            "count": 2
           }
          ]
         }
        },
        {
         "name": "Hour",
         "dtype": "int64",
         "stats": {
          "unique_count": 5,
          "nan_count": 0,
          "min": "7",
          "max": "19",
          "histogram": [
           {
            "bin_start": 7,
            "bin_end": 8.2,
            "count": 1
           },
           {
            "bin_start": 8.2,
            "bin_end": 9.4,
            "count": 0
           },
           {
            "bin_start": 9.4,
            "bin_end": 10.6,
            "count": 1
           },
           {
            "bin_start": 10.6,
            "bin_end": 11.8,
            "count": 0
           },
           {
            "bin_start": 11.8,
            "bin_end": 13,
            "count": 0
           },
           {
            "bin_start": 13,
            "bin_end": 14.2,
            "count": 1
           },
           {
            "bin_start": 14.2,
            "bin_end": 15.4,
            "count": 0
           },
           {
            "bin_start": 15.4,
            "bin_end": 16.6,
            "count": 0
           },
           {
            "bin_start": 16.6,
            "bin_end": 17.799999999999997,
            "count": 1
           },
           {
            "bin_start": 17.799999999999997,
            "bin_end": 19,
            "count": 1
           }
          ]
         }
        },
        {
         "name": "Minute",
         "dtype": "int64",
         "stats": {
          "unique_count": 5,
          "nan_count": 0,
          "min": "3",
          "max": "52",
          "histogram": [
           {
            "bin_start": 3,
            "bin_end": 7.9,
            "count": 1
           },
           {
            "bin_start": 7.9,
            "bin_end": 12.8,
            "count": 0
           },
           {
            "bin_start": 12.8,
            "bin_end": 17.700000000000003,
            "count": 0
           },
           {
            "bin_start": 17.700000000000003,
            "bin_end": 22.6,
            "count": 1
           },
           {
            "bin_start": 22.6,
            "bin_end": 27.5,
            "count": 0
           },
           {
            "bin_start": 27.5,
            "bin_end": 32.400000000000006,
            "count": 0
           },
           {
            "bin_start": 32.400000000000006,
            "bin_end": 37.300000000000004,
            "count": 0
           },
           {
            "bin_start": 37.300000000000004,
            "bin_end": 42.2,
            "count": 0
           },
           {
            "bin_start": 42.2,
            "bin_end": 47.1,
            "count": 1
           },
           {
            "bin_start": 47.1,
            "bin_end": 52,
            "count": 2
           }
          ]
         }
        },
        {
         "name": "_deepnote_index_column",
         "dtype": "int64"
        }
       ],
       "rows": [
        {
         "Order ID": "248151",
         "Product": "AA Batteries (4-pack)",
         "Quantity Ordered": 4,
         "Price Each": 3.84,
         "Order Date": "2019-09-17T14:44:00.000000",
         "Purchase Address": "380 North St, Los Angeles, CA 90001",
         "Month": 9,
         "Sales": 15.36,
         "City": " Los Angeles (CA)",
         "Hour": 14,
         "Minute": 44,
         "_deepnote_index_column": 0
        },
        {
         "Order ID": "248152",
         "Product": "USB-C Charging Cable",
         "Quantity Ordered": 2,
         "Price Each": 11.95,
         "Order Date": "2019-09-29T10:19:00.000000",
         "Purchase Address": "511 8th St, Austin, TX 73301",
         "Month": 9,
         "Sales": 23.9,
         "City": " Austin (TX)",
         "Hour": 10,
         "Minute": 19,
         "_deepnote_index_column": 1
        },
        {
         "Order ID": "248153",
         "Product": "USB-C Charging Cable",
         "Quantity Ordered": 1,
         "Price Each": 11.95,
         "Order Date": "2019-09-16T17:48:00.000000",
         "Purchase Address": "151 Johnson St, Los Angeles, CA 90001",
         "Month": 9,
         "Sales": 11.95,
         "City": " Los Angeles (CA)",
         "Hour": 17,
         "Minute": 48,
         "_deepnote_index_column": 2
        },
        {
         "Order ID": "248154",
         "Product": "27in FHD Monitor",
         "Quantity Ordered": 1,
         "Price Each": 149.99,
         "Order Date": "2019-09-27T07:52:00.000000",
         "Purchase Address": "355 Hickory St, Seattle, WA 98101",
         "Month": 9,
         "Sales": 149.99,
         "City": " Seattle (WA)",
         "Hour": 7,
         "Minute": 52,
         "_deepnote_index_column": 3
        },
        {
         "Order ID": "248155",
         "Product": "USB-C Charging Cable",
         "Quantity Ordered": 1,
         "Price Each": 11.95,
         "Order Date": "2019-09-01T19:03:00.000000",
         "Purchase Address": "125 5th St, Atlanta, GA 30301",
         "Month": 9,
         "Sales": 11.95,
         "City": " Atlanta (GA)",
         "Hour": 19,
         "Minute": 3,
         "_deepnote_index_column": 4
        }
       ]
      },
      "text/plain": "  Order ID                Product  Quantity Ordered  Price Each  \\\n0   248151  AA Batteries (4-pack)                 4        3.84   \n1   248152   USB-C Charging Cable                 2       11.95   \n2   248153   USB-C Charging Cable                 1       11.95   \n3   248154       27in FHD Monitor                 1      149.99   \n4   248155   USB-C Charging Cable                 1       11.95   \n\n           Order Date                       Purchase Address  Month   Sales  \\\n0 2019-09-17 14:44:00    380 North St, Los Angeles, CA 90001      9   15.36   \n1 2019-09-29 10:19:00           511 8th St, Austin, TX 73301      9   23.90   \n2 2019-09-16 17:48:00  151 Johnson St, Los Angeles, CA 90001      9   11.95   \n3 2019-09-27 07:52:00      355 Hickory St, Seattle, WA 98101      9  149.99   \n4 2019-09-01 19:03:00          125 5th St, Atlanta, GA 30301      9   11.95   \n\n                City  Hour  Minute  \n0   Los Angeles (CA)    14      44  \n1        Austin (TX)    10      19  \n2   Los Angeles (CA)    17      48  \n3       Seattle (WA)     7      52  \n4       Atlanta (GA)    19       3  ",
      "text/html": "<div>\n<style scoped>\n    .dataframe tbody tr th:only-of-type {\n        vertical-align: middle;\n    }\n\n    .dataframe tbody tr th {\n        vertical-align: top;\n    }\n\n    .dataframe thead th {\n        text-align: right;\n    }\n</style>\n<table border=\"1\" class=\"dataframe\">\n  <thead>\n    <tr style=\"text-align: right;\">\n      <th></th>\n      <th>Order ID</th>\n      <th>Product</th>\n      <th>Quantity Ordered</th>\n      <th>Price Each</th>\n      <th>Order Date</th>\n      <th>Purchase Address</th>\n      <th>Month</th>\n      <th>Sales</th>\n      <th>City</th>\n      <th>Hour</th>\n      <th>Minute</th>\n    </tr>\n  </thead>\n  <tbody>\n    <tr>\n      <th>0</th>\n      <td>248151</td>\n      <td>AA Batteries (4-pack)</td>\n      <td>4</td>\n      <td>3.84</td>\n      <td>2019-09-17 14:44:00</td>\n      <td>380 North St, Los Angeles, CA 90001</td>\n      <td>9</td>\n      <td>15.36</td>\n      <td>Los Angeles (CA)</td>\n      <td>14</td>\n      <td>44</td>\n    </tr>\n    <tr>\n      <th>1</th>\n      <td>248152</td>\n      <td>USB-C Charging Cable</td>\n      <td>2</td>\n      <td>11.95</td>\n      <td>2019-09-29 10:19:00</td>\n      <td>511 8th St, Austin, TX 73301</td>\n      <td>9</td>\n      <td>23.90</td>\n      <td>Austin (TX)</td>\n      <td>10</td>\n      <td>19</td>\n    </tr>\n    <tr>\n      <th>2</th>\n      <td>248153</td>\n      <td>USB-C Charging Cable</td>\n      <td>1</td>\n      <td>11.95</td>\n      <td>2019-09-16 17:48:00</td>\n      <td>151 Johnson St, Los Angeles, CA 90001</td>\n      <td>9</td>\n      <td>11.95</td>\n      <td>Los Angeles (CA)</td>\n      <td>17</td>\n      <td>48</td>\n    </tr>\n    <tr>\n      <th>3</th>\n      <td>248154</td>\n      <td>27in FHD Monitor</td>\n      <td>1</td>\n      <td>149.99</td>\n      <td>2019-09-27 07:52:00</td>\n      <td>355 Hickory St, Seattle, WA 98101</td>\n      <td>9</td>\n      <td>149.99</td>\n      <td>Seattle (WA)</td>\n      <td>7</td>\n      <td>52</td>\n    </tr>\n    <tr>\n      <th>4</th>\n      <td>248155</td>\n      <td>USB-C Charging Cable</td>\n      <td>1</td>\n      <td>11.95</td>\n      <td>2019-09-01 19:03:00</td>\n      <td>125 5th St, Atlanta, GA 30301</td>\n      <td>9</td>\n      <td>11.95</td>\n      <td>Atlanta (GA)</td>\n      <td>19</td>\n      <td>3</td>\n    </tr>\n  </tbody>\n</table>\n</div>"
     },
     "metadata": {}
    }
   ]
  },
  {
   "cell_type": "code",
   "metadata": {
    "cell_id": "af29935207ce42438892bdeca31c78ad",
    "tags": [],
    "deepnote_to_be_reexecuted": false,
    "source_hash": "a64d8969",
    "execution_start": 1651236871751,
    "execution_millis": 718,
    "deepnote_cell_type": "code"
   },
   "source": "hours = [hour for hour, df in all_data.groupby('Hour')]\n\nplt.plot(hours, all_data.groupby(['Hour']).count())\nplt.xticks(hours)\nplt.grid()\nplt.xlabel('Hour')\nplt.ylabel('Number of Orders')\nplt.title('Orders vs Hour')\n\nplt.show()",
   "execution_count": null,
   "outputs": [
    {
     "data": {
      "text/plain": "<Figure size 432x288 with 1 Axes>",
      "image/png": "[encoded data removed]"
     },
     "metadata": {
      "needs_background": "light",
      "image/png": {
       "width": 401,
       "height": 278
      }
     },
     "output_type": "display_data"
    }
   ]
  },
  {
   "cell_type": "markdown",
   "source": "According to the graph, the best sales hours are 11 AM and 7 PM. This may be because these are hours when customers get home and have time to place orders and view our advertising. It is advisable to upload the advertisement minutes before those hours so that it can reach customers effectively.",
   "metadata": {
    "cell_id": "1bfbff769fa84e4a8f458d4ccf4f1740",
    "tags": [],
    "deepnote_cell_type": "markdown"
   }
  },
  {
   "cell_type": "markdown",
   "source": "### Question 4: What products are most often sold together?",
   "metadata": {
    "cell_id": "d4b4204a4eef4f9f8ac6b3e6d64d42d3",
    "tags": [],
    "is_collapsed": false,
    "deepnote_cell_type": "text-cell-h3"
   }
  },
  {
   "cell_type": "code",
   "metadata": {
    "cell_id": "4dd8d402883b4f0294b783f00adb6a61",
    "tags": [],
    "deepnote_to_be_reexecuted": false,
    "source_hash": "bd1fff61",
    "execution_start": 1651232948651,
    "execution_millis": 648,
    "deepnote_cell_type": "code"
   },
   "source": "df = all_data[all_data['Order ID'].duplicated(keep=False)]\ndf.head()",
   "execution_count": null,
   "outputs": [
    {
     "output_type": "execute_result",
     "execution_count": 25,
     "data": {
      "application/vnd.deepnote.dataframe.v3+json": {
       "column_count": 11,
       "row_count": 5,
       "columns": [
        {
         "name": "Order ID",
         "dtype": "object",
         "stats": {
          "unique_count": 3,
          "nan_count": 0,
          "categories": [
           {
            "name": "248171",
            "count": 2
           },
           {
            "name": "248210",
            "count": 2
           },
           {
            "name": "248219",
            "count": 1
           }
          ]
         }
        },
        {
         "name": "Product",
         "dtype": "object",
         "stats": {
          "unique_count": 4,
          "nan_count": 0,
          "categories": [
           {
            "name": "USB-C Charging Cable",
            "count": 2
           },
           {
            "name": "iPhone",
            "count": 1
           },
           {
            "name": "2 others",
            "count": 2
           }
          ]
         }
        },
        {
         "name": "Quantity Ordered",
         "dtype": "int64",
         "stats": {
          "unique_count": 1,
          "nan_count": 0,
          "min": "1",
          "max": "1",
          "histogram": [
           {
            "bin_start": 0.5,
            "bin_end": 0.6,
            "count": 0
           },
           {
            "bin_start": 0.6,
            "bin_end": 0.7,
            "count": 0
           },
           {
            "bin_start": 0.7,
            "bin_end": 0.8,
            "count": 0
           },
           {
            "bin_start": 0.8,
            "bin_end": 0.9,
            "count": 0
           },
           {
            "bin_start": 0.9,
            "bin_end": 1,
            "count": 0
           },
           {
            "bin_start": 1,
            "bin_end": 1.1,
            "count": 5
           },
           {
            "bin_start": 1.1,
            "bin_end": 1.2000000000000002,
            "count": 0
           },
           {
            "bin_start": 1.2000000000000002,
            "bin_end": 1.3,
            "count": 0
           },
           {
            "bin_start": 1.3,
            "bin_end": 1.4,
            "count": 0
           },
           {
            "bin_start": 1.4,
            "bin_end": 1.5,
            "count": 0
           }
          ]
         }
        },
        {
         "name": "Price Each",
         "dtype": "float64",
         "stats": {
          "unique_count": 4,
          "nan_count": 0,
          "min": "11.95",
          "max": "700.0",
          "histogram": [
           {
            "bin_start": 11.95,
            "bin_end": 80.755,
            "count": 3
           },
           {
            "bin_start": 80.755,
            "bin_end": 149.55999999999997,
            "count": 1
           },
           {
            "bin_start": 149.55999999999997,
            "bin_end": 218.36499999999995,
            "count": 0
           },
           {
            "bin_start": 218.36499999999995,
            "bin_end": 287.16999999999996,
            "count": 0
           },
           {
            "bin_start": 287.16999999999996,
            "bin_end": 355.97499999999997,
            "count": 0
           },
           {
            "bin_start": 355.97499999999997,
            "bin_end": 424.7799999999999,
            "count": 0
           },
           {
            "bin_start": 424.7799999999999,
            "bin_end": 493.5849999999999,
            "count": 0
           },
           {
            "bin_start": 493.5849999999999,
            "bin_end": 562.39,
            "count": 0
           },
           {
            "bin_start": 562.39,
            "bin_end": 631.1949999999999,
            "count": 0
           },
           {
            "bin_start": 631.1949999999999,
            "bin_end": 700,
            "count": 1
           }
          ]
         }
        },
        {
         "name": "Order Date",
         "dtype": "datetime64[ns]",
         "stats": {
          "unique_count": 3,
          "nan_count": 0,
          "min": "2019-09-05 15:06:00",
          "max": "2019-09-27 10:33:00",
          "histogram": [
           {
            "bin_start": 1567695960000000000,
            "bin_end": 1567884402000000000,
            "count": 2
           },
           {
            "bin_start": 1567884402000000000,
            "bin_end": 1568072844000000000,
            "count": 0
           },
           {
            "bin_start": 1568072844000000000,
            "bin_end": 1568261286000000000,
            "count": 0
           },
           {
            "bin_start": 1568261286000000000,
            "bin_end": 1568449728000000000,
            "count": 0
           },
           {
            "bin_start": 1568449728000000000,
            "bin_end": 1568638170000000000,
            "count": 0
           },
           {
            "bin_start": 1568638170000000000,
            "bin_end": 1568826612000000000,
            "count": 0
           },
           {
            "bin_start": 1568826612000000000,
            "bin_end": 1569015054000000000,
            "count": 0
           },
           {
            "bin_start": 1569015054000000000,
            "bin_end": 1569203496000000000,
            "count": 0
           },
           {
            "bin_start": 1569203496000000000,
            "bin_end": 1569391938000000000,
            "count": 1
           },
           {
            "bin_start": 1569391938000000000,
            "bin_end": 1569580380000000000,
            "count": 2
           }
          ]
         }
        },
        {
         "name": "Purchase Address",
         "dtype": "object",
         "stats": {
          "unique_count": 3,
          "nan_count": 0,
          "categories": [
           {
            "name": "705 Hill St, New York City, NY 10001",
            "count": 2
           },
           {
            "name": "292 Washington St, San Francisco, CA 94016",
            "count": 2
           },
           {
            "name": "665 Maple St, Los Angeles, CA 90001",
            "count": 1
           }
          ]
         }
        },
        {
         "name": "Month",
         "dtype": "int32",
         "stats": {
          "unique_count": 1,
          "nan_count": 0,
          "min": "9",
          "max": "9",
          "histogram": [
           {
            "bin_start": 8.5,
            "bin_end": 8.6,
            "count": 0
           },
           {
            "bin_start": 8.6,
            "bin_end": 8.7,
            "count": 0
           },
           {
            "bin_start": 8.7,
            "bin_end": 8.8,
            "count": 0
           },
           {
            "bin_start": 8.8,
            "bin_end": 8.9,
            "count": 0
           },
           {
            "bin_start": 8.9,
            "bin_end": 9,
            "count": 0
           },
           {
            "bin_start": 9,
            "bin_end": 9.1,
            "count": 5
           },
           {
            "bin_start": 9.1,
            "bin_end": 9.2,
            "count": 0
           },
           {
            "bin_start": 9.2,
            "bin_end": 9.3,
            "count": 0
           },
           {
            "bin_start": 9.3,
            "bin_end": 9.4,
            "count": 0
           },
           {
            "bin_start": 9.4,
            "bin_end": 9.5,
            "count": 0
           }
          ]
         }
        },
        {
         "name": "Sales",
         "dtype": "float64",
         "stats": {
          "unique_count": 4,
          "nan_count": 0,
          "min": "11.95",
          "max": "700.0",
          "histogram": [
           {
            "bin_start": 11.95,
            "bin_end": 80.755,
            "count": 3
           },
           {
            "bin_start": 80.755,
            "bin_end": 149.55999999999997,
            "count": 1
           },
           {
            "bin_start": 149.55999999999997,
            "bin_end": 218.36499999999995,
            "count": 0
           },
           {
            "bin_start": 218.36499999999995,
            "bin_end": 287.16999999999996,
            "count": 0
           },
           {
            "bin_start": 287.16999999999996,
            "bin_end": 355.97499999999997,
            "count": 0
           },
           {
            "bin_start": 355.97499999999997,
            "bin_end": 424.7799999999999,
            "count": 0
           },
           {
            "bin_start": 424.7799999999999,
            "bin_end": 493.5849999999999,
            "count": 0
           },
           {
            "bin_start": 493.5849999999999,
            "bin_end": 562.39,
            "count": 0
           },
           {
            "bin_start": 562.39,
            "bin_end": 631.1949999999999,
            "count": 0
           },
           {
            "bin_start": 631.1949999999999,
            "bin_end": 700,
            "count": 1
           }
          ]
         }
        },
        {
         "name": "City",
         "dtype": "object",
         "stats": {
          "unique_count": 3,
          "nan_count": 0,
          "categories": [
           {
            "name": " New York City (NY)",
            "count": 2
           },
           {
            "name": " San Francisco (CA)",
            "count": 2
           },
           {
            "name": " Los Angeles (CA)",
            "count": 1
           }
          ]
         }
        },
        {
         "name": "Hour",
         "dtype": "int64",
         "stats": {
          "unique_count": 3,
          "nan_count": 0,
          "min": "10",
          "max": "15",
          "histogram": [
           {
            "bin_start": 10,
            "bin_end": 10.5,
            "count": 2
           },
           {
            "bin_start": 10.5,
            "bin_end": 11,
            "count": 0
           },
           {
            "bin_start": 11,
            "bin_end": 11.5,
            "count": 0
           },
           {
            "bin_start": 11.5,
            "bin_end": 12,
            "count": 0
           },
           {
            "bin_start": 12,
            "bin_end": 12.5,
            "count": 1
           },
           {
            "bin_start": 12.5,
            "bin_end": 13,
            "count": 0
           },
           {
            "bin_start": 13,
            "bin_end": 13.5,
            "count": 0
           },
           {
            "bin_start": 13.5,
            "bin_end": 14,
            "count": 0
           },
           {
            "bin_start": 14,
            "bin_end": 14.5,
            "count": 0
           },
           {
            "bin_start": 14.5,
            "bin_end": 15,
            "count": 2
           }
          ]
         }
        },
        {
         "name": "Minute",
         "dtype": "int64",
         "stats": {
          "unique_count": 3,
          "nan_count": 0,
          "min": "6",
          "max": "48",
          "histogram": [
           {
            "bin_start": 6,
            "bin_end": 10.2,
            "count": 2
           },
           {
            "bin_start": 10.2,
            "bin_end": 14.4,
            "count": 0
           },
           {
            "bin_start": 14.4,
            "bin_end": 18.6,
            "count": 0
           },
           {
            "bin_start": 18.6,
            "bin_end": 22.8,
            "count": 0
           },
           {
            "bin_start": 22.8,
            "bin_end": 27,
            "count": 0
           },
           {
            "bin_start": 27,
            "bin_end": 31.200000000000003,
            "count": 0
           },
           {
            "bin_start": 31.200000000000003,
            "bin_end": 35.400000000000006,
            "count": 2
           },
           {
            "bin_start": 35.400000000000006,
            "bin_end": 39.6,
            "count": 0
           },
           {
            "bin_start": 39.6,
            "bin_end": 43.800000000000004,
            "count": 0
           },
           {
            "bin_start": 43.800000000000004,
            "bin_end": 48,
            "count": 1
           }
          ]
         }
        },
        {
         "name": "_deepnote_index_column",
         "dtype": "int64"
        }
       ],
       "rows": [
        {
         "Order ID": "248171",
         "Product": "USB-C Charging Cable",
         "Quantity Ordered": 1,
         "Price Each": 11.95,
         "Order Date": "2019-09-05T15:06:00.000000",
         "Purchase Address": "705 Hill St, New York City, NY 10001",
         "Month": 9,
         "Sales": 11.95,
         "City": " New York City (NY)",
         "Hour": 15,
         "Minute": 6,
         "_deepnote_index_column": 20
        },
        {
         "Order ID": "248171",
         "Product": "USB-C Charging Cable",
         "Quantity Ordered": 1,
         "Price Each": 11.95,
         "Order Date": "2019-09-05T15:06:00.000000",
         "Purchase Address": "705 Hill St, New York City, NY 10001",
         "Month": 9,
         "Sales": 11.95,
         "City": " New York City (NY)",
         "Hour": 15,
         "Minute": 6,
         "_deepnote_index_column": 21
        },
        {
         "Order ID": "248210",
         "Product": "iPhone",
         "Quantity Ordered": 1,
         "Price Each": 700,
         "Order Date": "2019-09-27T10:33:00.000000",
         "Purchase Address": "292 Washington St, San Francisco, CA 94016",
         "Month": 9,
         "Sales": 700,
         "City": " San Francisco (CA)",
         "Hour": 10,
         "Minute": 33,
         "_deepnote_index_column": 60
        },
        {
         "Order ID": "248210",
         "Product": "Lightning Charging Cable",
         "Quantity Ordered": 1,
         "Price Each": 14.95,
         "Order Date": "2019-09-27T10:33:00.000000",
         "Purchase Address": "292 Washington St, San Francisco, CA 94016",
         "Month": 9,
         "Sales": 14.95,
         "City": " San Francisco (CA)",
         "Hour": 10,
         "Minute": 33,
         "_deepnote_index_column": 61
        },
        {
         "Order ID": "248219",
         "Product": "Bose SoundSport Headphones",
         "Quantity Ordered": 1,
         "Price Each": 99.99,
         "Order Date": "2019-09-24T12:48:00.000000",
         "Purchase Address": "665 Maple St, Los Angeles, CA 90001",
         "Month": 9,
         "Sales": 99.99,
         "City": " Los Angeles (CA)",
         "Hour": 12,
         "Minute": 48,
         "_deepnote_index_column": 70
        }
       ]
      },
      "text/plain": "   Order ID                     Product  Quantity Ordered  Price Each  \\\n20   248171        USB-C Charging Cable                 1       11.95   \n21   248171        USB-C Charging Cable                 1       11.95   \n60   248210                      iPhone                 1      700.00   \n61   248210    Lightning Charging Cable                 1       14.95   \n70   248219  Bose SoundSport Headphones                 1       99.99   \n\n            Order Date                            Purchase Address  Month  \\\n20 2019-09-05 15:06:00        705 Hill St, New York City, NY 10001      9   \n21 2019-09-05 15:06:00        705 Hill St, New York City, NY 10001      9   \n60 2019-09-27 10:33:00  292 Washington St, San Francisco, CA 94016      9   \n61 2019-09-27 10:33:00  292 Washington St, San Francisco, CA 94016      9   \n70 2019-09-24 12:48:00         665 Maple St, Los Angeles, CA 90001      9   \n\n     Sales                 City  Hour  Minute  \n20   11.95   New York City (NY)    15       6  \n21   11.95   New York City (NY)    15       6  \n60  700.00   San Francisco (CA)    10      33  \n61   14.95   San Francisco (CA)    10      33  \n70   99.99     Los Angeles (CA)    12      48  ",
      "text/html": "<div>\n<style scoped>\n    .dataframe tbody tr th:only-of-type {\n        vertical-align: middle;\n    }\n\n    .dataframe tbody tr th {\n        vertical-align: top;\n    }\n\n    .dataframe thead th {\n        text-align: right;\n    }\n</style>\n<table border=\"1\" class=\"dataframe\">\n  <thead>\n    <tr style=\"text-align: right;\">\n      <th></th>\n      <th>Order ID</th>\n      <th>Product</th>\n      <th>Quantity Ordered</th>\n      <th>Price Each</th>\n      <th>Order Date</th>\n      <th>Purchase Address</th>\n      <th>Month</th>\n      <th>Sales</th>\n      <th>City</th>\n      <th>Hour</th>\n      <th>Minute</th>\n    </tr>\n  </thead>\n  <tbody>\n    <tr>\n      <th>20</th>\n      <td>248171</td>\n      <td>USB-C Charging Cable</td>\n      <td>1</td>\n      <td>11.95</td>\n      <td>2019-09-05 15:06:00</td>\n      <td>705 Hill St, New York City, NY 10001</td>\n      <td>9</td>\n      <td>11.95</td>\n      <td>New York City (NY)</td>\n      <td>15</td>\n      <td>6</td>\n    </tr>\n    <tr>\n      <th>21</th>\n      <td>248171</td>\n      <td>USB-C Charging Cable</td>\n      <td>1</td>\n      <td>11.95</td>\n      <td>2019-09-05 15:06:00</td>\n      <td>705 Hill St, New York City, NY 10001</td>\n      <td>9</td>\n      <td>11.95</td>\n      <td>New York City (NY)</td>\n      <td>15</td>\n      <td>6</td>\n    </tr>\n    <tr>\n      <th>60</th>\n      <td>248210</td>\n      <td>iPhone</td>\n      <td>1</td>\n      <td>700.00</td>\n      <td>2019-09-27 10:33:00</td>\n      <td>292 Washington St, San Francisco, CA 94016</td>\n      <td>9</td>\n      <td>700.00</td>\n      <td>San Francisco (CA)</td>\n      <td>10</td>\n      <td>33</td>\n    </tr>\n    <tr>\n      <th>61</th>\n      <td>248210</td>\n      <td>Lightning Charging Cable</td>\n      <td>1</td>\n      <td>14.95</td>\n      <td>2019-09-27 10:33:00</td>\n      <td>292 Washington St, San Francisco, CA 94016</td>\n      <td>9</td>\n      <td>14.95</td>\n      <td>San Francisco (CA)</td>\n      <td>10</td>\n      <td>33</td>\n    </tr>\n    <tr>\n      <th>70</th>\n      <td>248219</td>\n      <td>Bose SoundSport Headphones</td>\n      <td>1</td>\n      <td>99.99</td>\n      <td>2019-09-24 12:48:00</td>\n      <td>665 Maple St, Los Angeles, CA 90001</td>\n      <td>9</td>\n      <td>99.99</td>\n      <td>Los Angeles (CA)</td>\n      <td>12</td>\n      <td>48</td>\n    </tr>\n  </tbody>\n</table>\n</div>"
     },
     "metadata": {}
    }
   ]
  },
  {
   "cell_type": "code",
   "metadata": {
    "cell_id": "df3cd72220474e418b42099ec3d660cd",
    "tags": [],
    "deepnote_to_be_reexecuted": false,
    "source_hash": "dba3fb2c",
    "execution_start": 1651232948797,
    "execution_millis": 3151,
    "deepnote_cell_type": "code"
   },
   "source": "df['Grouped'] = df.groupby('Order ID')['Product'].transform(lambda x: ','.join(x))\ndf.head()",
   "execution_count": null,
   "outputs": [
    {
     "name": "stderr",
     "text": "/shared-libs/python3.7/py-core/lib/python3.7/site-packages/ipykernel_launcher.py:1: SettingWithCopyWarning: \nA value is trying to be set on a copy of a slice from a DataFrame.\nTry using .loc[row_indexer,col_indexer] = value instead\n\nSee the caveats in the documentation: https://pandas.pydata.org/pandas-docs/stable/user_guide/indexing.html#returning-a-view-versus-a-copy\n  \"\"\"Entry point for launching an IPython kernel.\n",
     "output_type": "stream"
    },
    {
     "output_type": "execute_result",
     "execution_count": 26,
     "data": {
      "application/vnd.deepnote.dataframe.v3+json": {
       "column_count": 12,
       "row_count": 5,
       "columns": [
        {
         "name": "Order ID",
         "dtype": "object",
         "stats": {
          "unique_count": 3,
          "nan_count": 0,
          "categories": [
           {
            "name": "248171",
            "count": 2
           },
           {
            "name": "248210",
            "count": 2
           },
           {
            "name": "248219",
            "count": 1
           }
          ]
         }
        },
        {
         "name": "Product",
         "dtype": "object",
         "stats": {
          "unique_count": 4,
          "nan_count": 0,
          "categories": [
           {
            "name": "USB-C Charging Cable",
            "count": 2
           },
           {
            "name": "iPhone",
            "count": 1
           },
           {
            "name": "2 others",
            "count": 2
           }
          ]
         }
        },
        {
         "name": "Quantity Ordered",
         "dtype": "int64",
         "stats": {
          "unique_count": 1,
          "nan_count": 0,
          "min": "1",
          "max": "1",
          "histogram": [
           {
            "bin_start": 0.5,
            "bin_end": 0.6,
            "count": 0
           },
           {
            "bin_start": 0.6,
            "bin_end": 0.7,
            "count": 0
           },
           {
            "bin_start": 0.7,
            "bin_end": 0.8,
            "count": 0
           },
           {
            "bin_start": 0.8,
            "bin_end": 0.9,
            "count": 0
           },
           {
            "bin_start": 0.9,
            "bin_end": 1,
            "count": 0
           },
           {
            "bin_start": 1,
            "bin_end": 1.1,
            "count": 5
           },
           {
            "bin_start": 1.1,
            "bin_end": 1.2000000000000002,
            "count": 0
           },
           {
            "bin_start": 1.2000000000000002,
            "bin_end": 1.3,
            "count": 0
           },
           {
            "bin_start": 1.3,
            "bin_end": 1.4,
            "count": 0
           },
           {
            "bin_start": 1.4,
            "bin_end": 1.5,
            "count": 0
           }
          ]
         }
        },
        {
         "name": "Price Each",
         "dtype": "float64",
         "stats": {
          "unique_count": 4,
          "nan_count": 0,
          "min": "11.95",
          "max": "700.0",
          "histogram": [
           {
            "bin_start": 11.95,
            "bin_end": 80.755,
            "count": 3
           },
           {
            "bin_start": 80.755,
            "bin_end": 149.55999999999997,
            "count": 1
           },
           {
            "bin_start": 149.55999999999997,
            "bin_end": 218.36499999999995,
            "count": 0
           },
           {
            "bin_start": 218.36499999999995,
            "bin_end": 287.16999999999996,
            "count": 0
           },
           {
            "bin_start": 287.16999999999996,
            "bin_end": 355.97499999999997,
            "count": 0
           },
           {
            "bin_start": 355.97499999999997,
            "bin_end": 424.7799999999999,
            "count": 0
           },
           {
            "bin_start": 424.7799999999999,
            "bin_end": 493.5849999999999,
            "count": 0
           },
           {
            "bin_start": 493.5849999999999,
            "bin_end": 562.39,
            "count": 0
           },
           {
            "bin_start": 562.39,
            "bin_end": 631.1949999999999,
            "count": 0
           },
           {
            "bin_start": 631.1949999999999,
            "bin_end": 700,
            "count": 1
           }
          ]
         }
        },
        {
         "name": "Order Date",
         "dtype": "datetime64[ns]",
         "stats": {
          "unique_count": 3,
          "nan_count": 0,
          "min": "2019-09-05 15:06:00",
          "max": "2019-09-27 10:33:00",
          "histogram": [
           {
            "bin_start": 1567695960000000000,
            "bin_end": 1567884402000000000,
            "count": 2
           },
           {
            "bin_start": 1567884402000000000,
            "bin_end": 1568072844000000000,
            "count": 0
           },
           {
            "bin_start": 1568072844000000000,
            "bin_end": 1568261286000000000,
            "count": 0
           },
           {
            "bin_start": 1568261286000000000,
            "bin_end": 1568449728000000000,
            "count": 0
           },
           {
            "bin_start": 1568449728000000000,
            "bin_end": 1568638170000000000,
            "count": 0
           },
           {
            "bin_start": 1568638170000000000,
            "bin_end": 1568826612000000000,
            "count": 0
           },
           {
            "bin_start": 1568826612000000000,
            "bin_end": 1569015054000000000,
            "count": 0
           },
           {
            "bin_start": 1569015054000000000,
            "bin_end": 1569203496000000000,
            "count": 0
           },
           {
            "bin_start": 1569203496000000000,
            "bin_end": 1569391938000000000,
            "count": 1
           },
           {
            "bin_start": 1569391938000000000,
            "bin_end": 1569580380000000000,
            "count": 2
           }
          ]
         }
        },
        {
         "name": "Purchase Address",
         "dtype": "object",
         "stats": {
          "unique_count": 3,
          "nan_count": 0,
          "categories": [
           {
            "name": "705 Hill St, New York City, NY 10001",
            "count": 2
           },
           {
            "name": "292 Washington St, San Francisco, CA 94016",
            "count": 2
           },
           {
            "name": "665 Maple St, Los Angeles, CA 90001",
            "count": 1
           }
          ]
         }
        },
        {
         "name": "Month",
         "dtype": "int32",
         "stats": {
          "unique_count": 1,
          "nan_count": 0,
          "min": "9",
          "max": "9",
          "histogram": [
           {
            "bin_start": 8.5,
            "bin_end": 8.6,
            "count": 0
           },
           {
            "bin_start": 8.6,
            "bin_end": 8.7,
            "count": 0
           },
           {
            "bin_start": 8.7,
            "bin_end": 8.8,
            "count": 0
           },
           {
            "bin_start": 8.8,
            "bin_end": 8.9,
            "count": 0
           },
           {
            "bin_start": 8.9,
            "bin_end": 9,
            "count": 0
           },
           {
            "bin_start": 9,
            "bin_end": 9.1,
            "count": 5
           },
           {
            "bin_start": 9.1,
            "bin_end": 9.2,
            "count": 0
           },
           {
            "bin_start": 9.2,
            "bin_end": 9.3,
            "count": 0
           },
           {
            "bin_start": 9.3,
            "bin_end": 9.4,
            "count": 0
           },
           {
            "bin_start": 9.4,
            "bin_end": 9.5,
            "count": 0
           }
          ]
         }
        },
        {
         "name": "Sales",
         "dtype": "float64",
         "stats": {
          "unique_count": 4,
          "nan_count": 0,
          "min": "11.95",
          "max": "700.0",
          "histogram": [
           {
            "bin_start": 11.95,
            "bin_end": 80.755,
            "count": 3
           },
           {
            "bin_start": 80.755,
            "bin_end": 149.55999999999997,
            "count": 1
           },
           {
            "bin_start": 149.55999999999997,
            "bin_end": 218.36499999999995,
            "count": 0
           },
           {
            "bin_start": 218.36499999999995,
            "bin_end": 287.16999999999996,
            "count": 0
           },
           {
            "bin_start": 287.16999999999996,
            "bin_end": 355.97499999999997,
            "count": 0
           },
           {
            "bin_start": 355.97499999999997,
            "bin_end": 424.7799999999999,
            "count": 0
           },
           {
            "bin_start": 424.7799999999999,
            "bin_end": 493.5849999999999,
            "count": 0
           },
           {
            "bin_start": 493.5849999999999,
            "bin_end": 562.39,
            "count": 0
           },
           {
            "bin_start": 562.39,
            "bin_end": 631.1949999999999,
            "count": 0
           },
           {
            "bin_start": 631.1949999999999,
            "bin_end": 700,
            "count": 1
           }
          ]
         }
        },
        {
         "name": "City",
         "dtype": "object",
         "stats": {
          "unique_count": 3,
          "nan_count": 0,
          "categories": [
           {
            "name": " New York City (NY)",
            "count": 2
           },
           {
            "name": " San Francisco (CA)",
            "count": 2
           },
           {
            "name": " Los Angeles (CA)",
            "count": 1
           }
          ]
         }
        },
        {
         "name": "Hour",
         "dtype": "int64",
         "stats": {
          "unique_count": 3,
          "nan_count": 0,
          "min": "10",
          "max": "15",
          "histogram": [
           {
            "bin_start": 10,
            "bin_end": 10.5,
            "count": 2
           },
           {
            "bin_start": 10.5,
            "bin_end": 11,
            "count": 0
           },
           {
            "bin_start": 11,
            "bin_end": 11.5,
            "count": 0
           },
           {
            "bin_start": 11.5,
            "bin_end": 12,
            "count": 0
           },
           {
            "bin_start": 12,
            "bin_end": 12.5,
            "count": 1
           },
           {
            "bin_start": 12.5,
            "bin_end": 13,
            "count": 0
           },
           {
            "bin_start": 13,
            "bin_end": 13.5,
            "count": 0
           },
           {
            "bin_start": 13.5,
            "bin_end": 14,
            "count": 0
           },
           {
            "bin_start": 14,
            "bin_end": 14.5,
            "count": 0
           },
           {
            "bin_start": 14.5,
            "bin_end": 15,
            "count": 2
           }
          ]
         }
        },
        {
         "name": "Minute",
         "dtype": "int64",
         "stats": {
          "unique_count": 3,
          "nan_count": 0,
          "min": "6",
          "max": "48",
          "histogram": [
           {
            "bin_start": 6,
            "bin_end": 10.2,
            "count": 2
           },
           {
            "bin_start": 10.2,
            "bin_end": 14.4,
            "count": 0
           },
           {
            "bin_start": 14.4,
            "bin_end": 18.6,
            "count": 0
           },
           {
            "bin_start": 18.6,
            "bin_end": 22.8,
            "count": 0
           },
           {
            "bin_start": 22.8,
            "bin_end": 27,
            "count": 0
           },
           {
            "bin_start": 27,
            "bin_end": 31.200000000000003,
            "count": 0
           },
           {
            "bin_start": 31.200000000000003,
            "bin_end": 35.400000000000006,
            "count": 2
           },
           {
            "bin_start": 35.400000000000006,
            "bin_end": 39.6,
            "count": 0
           },
           {
            "bin_start": 39.6,
            "bin_end": 43.800000000000004,
            "count": 0
           },
           {
            "bin_start": 43.800000000000004,
            "bin_end": 48,
            "count": 1
           }
          ]
         }
        },
        {
         "name": "Grouped",
         "dtype": "object",
         "stats": {
          "unique_count": 3,
          "nan_count": 0,
          "categories": [
           {
            "name": "USB-C Charging Cable,USB-C Charging Cable",
            "count": 2
           },
           {
            "name": "iPhone,Lightning Charging Cable",
            "count": 2
           },
           {
            "name": "Bose SoundSport Headphones,Google Phone",
            "count": 1
           }
          ]
         }
        },
        {
         "name": "_deepnote_index_column",
         "dtype": "int64"
        }
       ],
       "rows": [
        {
         "Order ID": "248171",
         "Product": "USB-C Charging Cable",
         "Quantity Ordered": 1,
         "Price Each": 11.95,
         "Order Date": "2019-09-05T15:06:00.000000",
         "Purchase Address": "705 Hill St, New York City, NY 10001",
         "Month": 9,
         "Sales": 11.95,
         "City": " New York City (NY)",
         "Hour": 15,
         "Minute": 6,
         "Grouped": "USB-C Charging Cable,USB-C Charging Cable",
         "_deepnote_index_column": 20
        },
        {
         "Order ID": "248171",
         "Product": "USB-C Charging Cable",
         "Quantity Ordered": 1,
         "Price Each": 11.95,
         "Order Date": "2019-09-05T15:06:00.000000",
         "Purchase Address": "705 Hill St, New York City, NY 10001",
         "Month": 9,
         "Sales": 11.95,
         "City": " New York City (NY)",
         "Hour": 15,
         "Minute": 6,
         "Grouped": "USB-C Charging Cable,USB-C Charging Cable",
         "_deepnote_index_column": 21
        },
        {
         "Order ID": "248210",
         "Product": "iPhone",
         "Quantity Ordered": 1,
         "Price Each": 700,
         "Order Date": "2019-09-27T10:33:00.000000",
         "Purchase Address": "292 Washington St, San Francisco, CA 94016",
         "Month": 9,
         "Sales": 700,
         "City": " San Francisco (CA)",
         "Hour": 10,
         "Minute": 33,
         "Grouped": "iPhone,Lightning Charging Cable",
         "_deepnote_index_column": 60
        },
        {
         "Order ID": "248210",
         "Product": "Lightning Charging Cable",
         "Quantity Ordered": 1,
         "Price Each": 14.95,
         "Order Date": "2019-09-27T10:33:00.000000",
         "Purchase Address": "292 Washington St, San Francisco, CA 94016",
         "Month": 9,
         "Sales": 14.95,
         "City": " San Francisco (CA)",
         "Hour": 10,
         "Minute": 33,
         "Grouped": "iPhone,Lightning Charging Cable",
         "_deepnote_index_column": 61
        },
        {
         "Order ID": "248219",
         "Product": "Bose SoundSport Headphones",
         "Quantity Ordered": 1,
         "Price Each": 99.99,
         "Order Date": "2019-09-24T12:48:00.000000",
         "Purchase Address": "665 Maple St, Los Angeles, CA 90001",
         "Month": 9,
         "Sales": 99.99,
         "City": " Los Angeles (CA)",
         "Hour": 12,
         "Minute": 48,
         "Grouped": "Bose SoundSport Headphones,Google Phone",
         "_deepnote_index_column": 70
        }
       ]
      },
      "text/plain": "   Order ID                     Product  Quantity Ordered  Price Each  \\\n20   248171        USB-C Charging Cable                 1       11.95   \n21   248171        USB-C Charging Cable                 1       11.95   \n60   248210                      iPhone                 1      700.00   \n61   248210    Lightning Charging Cable                 1       14.95   \n70   248219  Bose SoundSport Headphones                 1       99.99   \n\n            Order Date                            Purchase Address  Month  \\\n20 2019-09-05 15:06:00        705 Hill St, New York City, NY 10001      9   \n21 2019-09-05 15:06:00        705 Hill St, New York City, NY 10001      9   \n60 2019-09-27 10:33:00  292 Washington St, San Francisco, CA 94016      9   \n61 2019-09-27 10:33:00  292 Washington St, San Francisco, CA 94016      9   \n70 2019-09-24 12:48:00         665 Maple St, Los Angeles, CA 90001      9   \n\n     Sales                 City  Hour  Minute  \\\n20   11.95   New York City (NY)    15       6   \n21   11.95   New York City (NY)    15       6   \n60  700.00   San Francisco (CA)    10      33   \n61   14.95   San Francisco (CA)    10      33   \n70   99.99     Los Angeles (CA)    12      48   \n\n                                      Grouped  \n20  USB-C Charging Cable,USB-C Charging Cable  \n21  USB-C Charging Cable,USB-C Charging Cable  \n60            iPhone,Lightning Charging Cable  \n61            iPhone,Lightning Charging Cable  \n70    Bose SoundSport Headphones,Google Phone  ",
      "text/html": "<div>\n<style scoped>\n    .dataframe tbody tr th:only-of-type {\n        vertical-align: middle;\n    }\n\n    .dataframe tbody tr th {\n        vertical-align: top;\n    }\n\n    .dataframe thead th {\n        text-align: right;\n    }\n</style>\n<table border=\"1\" class=\"dataframe\">\n  <thead>\n    <tr style=\"text-align: right;\">\n      <th></th>\n      <th>Order ID</th>\n      <th>Product</th>\n      <th>Quantity Ordered</th>\n      <th>Price Each</th>\n      <th>Order Date</th>\n      <th>Purchase Address</th>\n      <th>Month</th>\n      <th>Sales</th>\n      <th>City</th>\n      <th>Hour</th>\n      <th>Minute</th>\n      <th>Grouped</th>\n    </tr>\n  </thead>\n  <tbody>\n    <tr>\n      <th>20</th>\n      <td>248171</td>\n      <td>USB-C Charging Cable</td>\n      <td>1</td>\n      <td>11.95</td>\n      <td>2019-09-05 15:06:00</td>\n      <td>705 Hill St, New York City, NY 10001</td>\n      <td>9</td>\n      <td>11.95</td>\n      <td>New York City (NY)</td>\n      <td>15</td>\n      <td>6</td>\n      <td>USB-C Charging Cable,USB-C Charging Cable</td>\n    </tr>\n    <tr>\n      <th>21</th>\n      <td>248171</td>\n      <td>USB-C Charging Cable</td>\n      <td>1</td>\n      <td>11.95</td>\n      <td>2019-09-05 15:06:00</td>\n      <td>705 Hill St, New York City, NY 10001</td>\n      <td>9</td>\n      <td>11.95</td>\n      <td>New York City (NY)</td>\n      <td>15</td>\n      <td>6</td>\n      <td>USB-C Charging Cable,USB-C Charging Cable</td>\n    </tr>\n    <tr>\n      <th>60</th>\n      <td>248210</td>\n      <td>iPhone</td>\n      <td>1</td>\n      <td>700.00</td>\n      <td>2019-09-27 10:33:00</td>\n      <td>292 Washington St, San Francisco, CA 94016</td>\n      <td>9</td>\n      <td>700.00</td>\n      <td>San Francisco (CA)</td>\n      <td>10</td>\n      <td>33</td>\n      <td>iPhone,Lightning Charging Cable</td>\n    </tr>\n    <tr>\n      <th>61</th>\n      <td>248210</td>\n      <td>Lightning Charging Cable</td>\n      <td>1</td>\n      <td>14.95</td>\n      <td>2019-09-27 10:33:00</td>\n      <td>292 Washington St, San Francisco, CA 94016</td>\n      <td>9</td>\n      <td>14.95</td>\n      <td>San Francisco (CA)</td>\n      <td>10</td>\n      <td>33</td>\n      <td>iPhone,Lightning Charging Cable</td>\n    </tr>\n    <tr>\n      <th>70</th>\n      <td>248219</td>\n      <td>Bose SoundSport Headphones</td>\n      <td>1</td>\n      <td>99.99</td>\n      <td>2019-09-24 12:48:00</td>\n      <td>665 Maple St, Los Angeles, CA 90001</td>\n      <td>9</td>\n      <td>99.99</td>\n      <td>Los Angeles (CA)</td>\n      <td>12</td>\n      <td>48</td>\n      <td>Bose SoundSport Headphones,Google Phone</td>\n    </tr>\n  </tbody>\n</table>\n</div>"
     },
     "metadata": {}
    }
   ]
  },
  {
   "cell_type": "code",
   "metadata": {
    "cell_id": "7d7d03f61d904cefadbb8740ba34ce13",
    "tags": [],
    "deepnote_to_be_reexecuted": false,
    "source_hash": "dc1eb171",
    "execution_start": 1651232951899,
    "execution_millis": 104,
    "deepnote_cell_type": "code"
   },
   "source": "df = df[['Order ID', 'Grouped']].drop_duplicates()\ndf.head()",
   "execution_count": null,
   "outputs": [
    {
     "output_type": "execute_result",
     "execution_count": 27,
     "data": {
      "application/vnd.deepnote.dataframe.v3+json": {
       "column_count": 2,
       "row_count": 5,
       "columns": [
        {
         "name": "Order ID",
         "dtype": "object",
         "stats": {
          "unique_count": 5,
          "nan_count": 0,
          "categories": [
           {
            "name": "248171",
            "count": 1
           },
           {
            "name": "248210",
            "count": 1
           },
           {
            "name": "3 others",
            "count": 3
           }
          ]
         }
        },
        {
         "name": "Grouped",
         "dtype": "object",
         "stats": {
          "unique_count": 5,
          "nan_count": 0,
          "categories": [
           {
            "name": "USB-C Charging Cable,USB-C Charging Cable",
            "count": 1
           },
           {
            "name": "iPhone,Lightning Charging Cable",
            "count": 1
           },
           {
            "name": "3 others",
            "count": 3
           }
          ]
         }
        },
        {
         "name": "_deepnote_index_column",
         "dtype": "int64"
        }
       ],
       "rows": [
        {
         "Order ID": "248171",
         "Grouped": "USB-C Charging Cable,USB-C Charging Cable",
         "_deepnote_index_column": 20
        },
        {
         "Order ID": "248210",
         "Grouped": "iPhone,Lightning Charging Cable",
         "_deepnote_index_column": 60
        },
        {
         "Order ID": "248219",
         "Grouped": "Bose SoundSport Headphones,Google Phone",
         "_deepnote_index_column": 70
        },
        {
         "Order ID": "248265",
         "Grouped": "Vareebadd Phone,Bose SoundSport Headphones",
         "_deepnote_index_column": 117
        },
        {
         "Order ID": "248323",
         "Grouped": "Google Phone,Bose SoundSport Headphones",
         "_deepnote_index_column": 176
        }
       ]
      },
      "text/plain": "    Order ID                                     Grouped\n20    248171   USB-C Charging Cable,USB-C Charging Cable\n60    248210             iPhone,Lightning Charging Cable\n70    248219     Bose SoundSport Headphones,Google Phone\n117   248265  Vareebadd Phone,Bose SoundSport Headphones\n176   248323     Google Phone,Bose SoundSport Headphones",
      "text/html": "<div>\n<style scoped>\n    .dataframe tbody tr th:only-of-type {\n        vertical-align: middle;\n    }\n\n    .dataframe tbody tr th {\n        vertical-align: top;\n    }\n\n    .dataframe thead th {\n        text-align: right;\n    }\n</style>\n<table border=\"1\" class=\"dataframe\">\n  <thead>\n    <tr style=\"text-align: right;\">\n      <th></th>\n      <th>Order ID</th>\n      <th>Grouped</th>\n    </tr>\n  </thead>\n  <tbody>\n    <tr>\n      <th>20</th>\n      <td>248171</td>\n      <td>USB-C Charging Cable,USB-C Charging Cable</td>\n    </tr>\n    <tr>\n      <th>60</th>\n      <td>248210</td>\n      <td>iPhone,Lightning Charging Cable</td>\n    </tr>\n    <tr>\n      <th>70</th>\n      <td>248219</td>\n      <td>Bose SoundSport Headphones,Google Phone</td>\n    </tr>\n    <tr>\n      <th>117</th>\n      <td>248265</td>\n      <td>Vareebadd Phone,Bose SoundSport Headphones</td>\n    </tr>\n    <tr>\n      <th>176</th>\n      <td>248323</td>\n      <td>Google Phone,Bose SoundSport Headphones</td>\n    </tr>\n  </tbody>\n</table>\n</div>"
     },
     "metadata": {}
    }
   ]
  },
  {
   "cell_type": "code",
   "metadata": {
    "cell_id": "8c1124a682e84c62bb8fd6bcd806f43f",
    "tags": [],
    "deepnote_to_be_reexecuted": false,
    "source_hash": "7232578d",
    "execution_start": 1651232951998,
    "execution_millis": 107,
    "deepnote_cell_type": "code"
   },
   "source": "from itertools import combinations\nfrom collections import Counter\n\ncount = Counter()\n\nfor row in df['Grouped']:\n    row_list = row.split(',')\n    count.update(Counter(combinations(row_list, 2)))\n\nfor key, value in count.most_common(10):\n    print(key, value)",
   "execution_count": null,
   "outputs": [
    {
     "name": "stdout",
     "text": "('iPhone', 'Lightning Charging Cable') 1005\n('Google Phone', 'USB-C Charging Cable') 987\n('iPhone', 'Wired Headphones') 447\n('Google Phone', 'Wired Headphones') 414\n('Vareebadd Phone', 'USB-C Charging Cable') 361\n('iPhone', 'Apple Airpods Headphones') 360\n('Google Phone', 'Bose SoundSport Headphones') 220\n('USB-C Charging Cable', 'Wired Headphones') 160\n('Vareebadd Phone', 'Wired Headphones') 143\n('Lightning Charging Cable', 'Wired Headphones') 92\n",
     "output_type": "stream"
    }
   ]
  },
  {
   "cell_type": "markdown",
   "source": "The iphone and the lightning Charging Cable are the two most commonly sold products with 1005 sales. With this information, we could offer a promotion for both products to help us attract more customers.",
   "metadata": {
    "cell_id": "41631d038c8c4eb1bba62f3038b1fe7e",
    "tags": [],
    "deepnote_cell_type": "markdown"
   }
  },
  {
   "cell_type": "markdown",
   "source": "### Question 5: What product  sold the most? Why do you think it sold the most? ",
   "metadata": {
    "cell_id": "88b745762f6c4058ac31875376eb7b93",
    "tags": [],
    "is_collapsed": false,
    "deepnote_cell_type": "text-cell-h3"
   }
  },
  {
   "cell_type": "code",
   "metadata": {
    "cell_id": "0918362d8029406a98b3085b9bc89682",
    "tags": [],
    "deepnote_to_be_reexecuted": false,
    "source_hash": "4e56fd34",
    "execution_start": 1651232952147,
    "execution_millis": 36,
    "deepnote_cell_type": "code"
   },
   "source": "all_data.head()",
   "execution_count": null,
   "outputs": [
    {
     "output_type": "execute_result",
     "execution_count": 29,
     "data": {
      "application/vnd.deepnote.dataframe.v3+json": {
       "column_count": 11,
       "row_count": 5,
       "columns": [
        {
         "name": "Order ID",
         "dtype": "object",
         "stats": {
          "unique_count": 5,
          "nan_count": 0,
          "categories": [
           {
            "name": "248151",
            "count": 1
           },
           {
            "name": "248152",
            "count": 1
           },
           {
            "name": "3 others",
            "count": 3
           }
          ]
         }
        },
        {
         "name": "Product",
         "dtype": "object",
         "stats": {
          "unique_count": 3,
          "nan_count": 0,
          "categories": [
           {
            "name": "USB-C Charging Cable",
            "count": 3
           },
           {
            "name": "AA Batteries (4-pack)",
            "count": 1
           },
           {
            "name": "27in FHD Monitor",
            "count": 1
           }
          ]
         }
        },
        {
         "name": "Quantity Ordered",
         "dtype": "int64",
         "stats": {
          "unique_count": 3,
          "nan_count": 0,
          "min": "1",
          "max": "4",
          "histogram": [
           {
            "bin_start": 1,
            "bin_end": 1.3,
            "count": 3
           },
           {
            "bin_start": 1.3,
            "bin_end": 1.6,
            "count": 0
           },
           {
            "bin_start": 1.6,
            "bin_end": 1.9,
            "count": 0
           },
           {
            "bin_start": 1.9,
            "bin_end": 2.2,
            "count": 1
           },
           {
            "bin_start": 2.2,
            "bin_end": 2.5,
            "count": 0
           },
           {
            "bin_start": 2.5,
            "bin_end": 2.8,
            "count": 0
           },
           {
            "bin_start": 2.8,
            "bin_end": 3.1,
            "count": 0
           },
           {
            "bin_start": 3.1,
            "bin_end": 3.4,
            "count": 0
           },
           {
            "bin_start": 3.4,
            "bin_end": 3.6999999999999997,
            "count": 0
           },
           {
            "bin_start": 3.6999999999999997,
            "bin_end": 4,
            "count": 1
           }
          ]
         }
        },
        {
         "name": "Price Each",
         "dtype": "float64",
         "stats": {
          "unique_count": 3,
          "nan_count": 0,
          "min": "3.84",
          "max": "149.99",
          "histogram": [
           {
            "bin_start": 3.84,
            "bin_end": 18.455,
            "count": 4
           },
           {
            "bin_start": 18.455,
            "bin_end": 33.07,
            "count": 0
           },
           {
            "bin_start": 33.07,
            "bin_end": 47.685,
            "count": 0
           },
           {
            "bin_start": 47.685,
            "bin_end": 62.3,
            "count": 0
           },
           {
            "bin_start": 62.3,
            "bin_end": 76.915,
            "count": 0
           },
           {
            "bin_start": 76.915,
            "bin_end": 91.53,
            "count": 0
           },
           {
            "bin_start": 91.53,
            "bin_end": 106.14500000000001,
            "count": 0
           },
           {
            "bin_start": 106.14500000000001,
            "bin_end": 120.76,
            "count": 0
           },
           {
            "bin_start": 120.76,
            "bin_end": 135.375,
            "count": 0
           },
           {
            "bin_start": 135.375,
            "bin_end": 149.99,
            "count": 1
           }
          ]
         }
        },
        {
         "name": "Order Date",
         "dtype": "datetime64[ns]",
         "stats": {
          "unique_count": 5,
          "nan_count": 0,
          "min": "2019-09-01 19:03:00",
          "max": "2019-09-29 10:19:00",
          "histogram": [
           {
            "bin_start": 1567364580000000000,
            "bin_end": 1567603356000000000,
            "count": 1
           },
           {
            "bin_start": 1567603356000000000,
            "bin_end": 1567842132000000000,
            "count": 0
           },
           {
            "bin_start": 1567842132000000000,
            "bin_end": 1568080908000000000,
            "count": 0
           },
           {
            "bin_start": 1568080908000000000,
            "bin_end": 1568319684000000000,
            "count": 0
           },
           {
            "bin_start": 1568319684000000000,
            "bin_end": 1568558460000000000,
            "count": 0
           },
           {
            "bin_start": 1568558460000000000,
            "bin_end": 1568797236000000000,
            "count": 2
           },
           {
            "bin_start": 1568797236000000000,
            "bin_end": 1569036012000000000,
            "count": 0
           },
           {
            "bin_start": 1569036012000000000,
            "bin_end": 1569274788000000000,
            "count": 0
           },
           {
            "bin_start": 1569274788000000000,
            "bin_end": 1569513564000000000,
            "count": 0
           },
           {
            "bin_start": 1569513564000000000,
            "bin_end": 1569752340000000000,
            "count": 2
           }
          ]
         }
        },
        {
         "name": "Purchase Address",
         "dtype": "object",
         "stats": {
          "unique_count": 5,
          "nan_count": 0,
          "categories": [
           {
            "name": "380 North St, Los Angeles, CA 90001",
            "count": 1
           },
           {
            "name": "511 8th St, Austin, TX 73301",
            "count": 1
           },
           {
            "name": "3 others",
            "count": 3
           }
          ]
         }
        },
        {
         "name": "Month",
         "dtype": "int32",
         "stats": {
          "unique_count": 1,
          "nan_count": 0,
          "min": "9",
          "max": "9",
          "histogram": [
           {
            "bin_start": 8.5,
            "bin_end": 8.6,
            "count": 0
           },
           {
            "bin_start": 8.6,
            "bin_end": 8.7,
            "count": 0
           },
           {
            "bin_start": 8.7,
            "bin_end": 8.8,
            "count": 0
           },
           {
            "bin_start": 8.8,
            "bin_end": 8.9,
            "count": 0
           },
           {
            "bin_start": 8.9,
            "bin_end": 9,
            "count": 0
           },
           {
            "bin_start": 9,
            "bin_end": 9.1,
            "count": 5
           },
           {
            "bin_start": 9.1,
            "bin_end": 9.2,
            "count": 0
           },
           {
            "bin_start": 9.2,
            "bin_end": 9.3,
            "count": 0
           },
           {
            "bin_start": 9.3,
            "bin_end": 9.4,
            "count": 0
           },
           {
            "bin_start": 9.4,
            "bin_end": 9.5,
            "count": 0
           }
          ]
         }
        },
        {
         "name": "Sales",
         "dtype": "float64",
         "stats": {
          "unique_count": 4,
          "nan_count": 0,
          "min": "11.95",
          "max": "149.99",
          "histogram": [
           {
            "bin_start": 11.95,
            "bin_end": 25.754,
            "count": 4
           },
           {
            "bin_start": 25.754,
            "bin_end": 39.55800000000001,
            "count": 0
           },
           {
            "bin_start": 39.55800000000001,
            "bin_end": 53.36200000000001,
            "count": 0
           },
           {
            "bin_start": 53.36200000000001,
            "bin_end": 67.16600000000001,
            "count": 0
           },
           {
            "bin_start": 67.16600000000001,
            "bin_end": 80.97000000000001,
            "count": 0
           },
           {
            "bin_start": 80.97000000000001,
            "bin_end": 94.77400000000002,
            "count": 0
           },
           {
            "bin_start": 94.77400000000002,
            "bin_end": 108.57800000000002,
            "count": 0
           },
           {
            "bin_start": 108.57800000000002,
            "bin_end": 122.38200000000002,
            "count": 0
           },
           {
            "bin_start": 122.38200000000002,
            "bin_end": 136.186,
            "count": 0
           },
           {
            "bin_start": 136.186,
            "bin_end": 149.99,
            "count": 1
           }
          ]
         }
        },
        {
         "name": "City",
         "dtype": "object",
         "stats": {
          "unique_count": 4,
          "nan_count": 0,
          "categories": [
           {
            "name": " Los Angeles (CA)",
            "count": 2
           },
           {
            "name": " Austin (TX)",
            "count": 1
           },
           {
            "name": "2 others",
            "count": 2
           }
          ]
         }
        },
        {
         "name": "Hour",
         "dtype": "int64",
         "stats": {
          "unique_count": 5,
          "nan_count": 0,
          "min": "7",
          "max": "19",
          "histogram": [
           {
            "bin_start": 7,
            "bin_end": 8.2,
            "count": 1
           },
           {
            "bin_start": 8.2,
            "bin_end": 9.4,
            "count": 0
           },
           {
            "bin_start": 9.4,
            "bin_end": 10.6,
            "count": 1
           },
           {
            "bin_start": 10.6,
            "bin_end": 11.8,
            "count": 0
           },
           {
            "bin_start": 11.8,
            "bin_end": 13,
            "count": 0
           },
           {
            "bin_start": 13,
            "bin_end": 14.2,
            "count": 1
           },
           {
            "bin_start": 14.2,
            "bin_end": 15.4,
            "count": 0
           },
           {
            "bin_start": 15.4,
            "bin_end": 16.6,
            "count": 0
           },
           {
            "bin_start": 16.6,
            "bin_end": 17.799999999999997,
            "count": 1
           },
           {
            "bin_start": 17.799999999999997,
            "bin_end": 19,
            "count": 1
           }
          ]
         }
        },
        {
         "name": "Minute",
         "dtype": "int64",
         "stats": {
          "unique_count": 5,
          "nan_count": 0,
          "min": "3",
          "max": "52",
          "histogram": [
           {
            "bin_start": 3,
            "bin_end": 7.9,
            "count": 1
           },
           {
            "bin_start": 7.9,
            "bin_end": 12.8,
            "count": 0
           },
           {
            "bin_start": 12.8,
            "bin_end": 17.700000000000003,
            "count": 0
           },
           {
            "bin_start": 17.700000000000003,
            "bin_end": 22.6,
            "count": 1
           },
           {
            "bin_start": 22.6,
            "bin_end": 27.5,
            "count": 0
           },
           {
            "bin_start": 27.5,
            "bin_end": 32.400000000000006,
            "count": 0
           },
           {
            "bin_start": 32.400000000000006,
            "bin_end": 37.300000000000004,
            "count": 0
           },
           {
            "bin_start": 37.300000000000004,
            "bin_end": 42.2,
            "count": 0
           },
           {
            "bin_start": 42.2,
            "bin_end": 47.1,
            "count": 1
           },
           {
            "bin_start": 47.1,
            "bin_end": 52,
            "count": 2
           }
          ]
         }
        },
        {
         "name": "_deepnote_index_column",
         "dtype": "int64"
        }
       ],
       "rows": [
        {
         "Order ID": "248151",
         "Product": "AA Batteries (4-pack)",
         "Quantity Ordered": 4,
         "Price Each": 3.84,
         "Order Date": "2019-09-17T14:44:00.000000",
         "Purchase Address": "380 North St, Los Angeles, CA 90001",
         "Month": 9,
         "Sales": 15.36,
         "City": " Los Angeles (CA)",
         "Hour": 14,
         "Minute": 44,
         "_deepnote_index_column": 0
        },
        {
         "Order ID": "248152",
         "Product": "USB-C Charging Cable",
         "Quantity Ordered": 2,
         "Price Each": 11.95,
         "Order Date": "2019-09-29T10:19:00.000000",
         "Purchase Address": "511 8th St, Austin, TX 73301",
         "Month": 9,
         "Sales": 23.9,
         "City": " Austin (TX)",
         "Hour": 10,
         "Minute": 19,
         "_deepnote_index_column": 1
        },
        {
         "Order ID": "248153",
         "Product": "USB-C Charging Cable",
         "Quantity Ordered": 1,
         "Price Each": 11.95,
         "Order Date": "2019-09-16T17:48:00.000000",
         "Purchase Address": "151 Johnson St, Los Angeles, CA 90001",
         "Month": 9,
         "Sales": 11.95,
         "City": " Los Angeles (CA)",
         "Hour": 17,
         "Minute": 48,
         "_deepnote_index_column": 2
        },
        {
         "Order ID": "248154",
         "Product": "27in FHD Monitor",
         "Quantity Ordered": 1,
         "Price Each": 149.99,
         "Order Date": "2019-09-27T07:52:00.000000",
         "Purchase Address": "355 Hickory St, Seattle, WA 98101",
         "Month": 9,
         "Sales": 149.99,
         "City": " Seattle (WA)",
         "Hour": 7,
         "Minute": 52,
         "_deepnote_index_column": 3
        },
        {
         "Order ID": "248155",
         "Product": "USB-C Charging Cable",
         "Quantity Ordered": 1,
         "Price Each": 11.95,
         "Order Date": "2019-09-01T19:03:00.000000",
         "Purchase Address": "125 5th St, Atlanta, GA 30301",
         "Month": 9,
         "Sales": 11.95,
         "City": " Atlanta (GA)",
         "Hour": 19,
         "Minute": 3,
         "_deepnote_index_column": 4
        }
       ]
      },
      "text/plain": "  Order ID                Product  Quantity Ordered  Price Each  \\\n0   248151  AA Batteries (4-pack)                 4        3.84   \n1   248152   USB-C Charging Cable                 2       11.95   \n2   248153   USB-C Charging Cable                 1       11.95   \n3   248154       27in FHD Monitor                 1      149.99   \n4   248155   USB-C Charging Cable                 1       11.95   \n\n           Order Date                       Purchase Address  Month   Sales  \\\n0 2019-09-17 14:44:00    380 North St, Los Angeles, CA 90001      9   15.36   \n1 2019-09-29 10:19:00           511 8th St, Austin, TX 73301      9   23.90   \n2 2019-09-16 17:48:00  151 Johnson St, Los Angeles, CA 90001      9   11.95   \n3 2019-09-27 07:52:00      355 Hickory St, Seattle, WA 98101      9  149.99   \n4 2019-09-01 19:03:00          125 5th St, Atlanta, GA 30301      9   11.95   \n\n                City  Hour  Minute  \n0   Los Angeles (CA)    14      44  \n1        Austin (TX)    10      19  \n2   Los Angeles (CA)    17      48  \n3       Seattle (WA)     7      52  \n4       Atlanta (GA)    19       3  ",
      "text/html": "<div>\n<style scoped>\n    .dataframe tbody tr th:only-of-type {\n        vertical-align: middle;\n    }\n\n    .dataframe tbody tr th {\n        vertical-align: top;\n    }\n\n    .dataframe thead th {\n        text-align: right;\n    }\n</style>\n<table border=\"1\" class=\"dataframe\">\n  <thead>\n    <tr style=\"text-align: right;\">\n      <th></th>\n      <th>Order ID</th>\n      <th>Product</th>\n      <th>Quantity Ordered</th>\n      <th>Price Each</th>\n      <th>Order Date</th>\n      <th>Purchase Address</th>\n      <th>Month</th>\n      <th>Sales</th>\n      <th>City</th>\n      <th>Hour</th>\n      <th>Minute</th>\n    </tr>\n  </thead>\n  <tbody>\n    <tr>\n      <th>0</th>\n      <td>248151</td>\n      <td>AA Batteries (4-pack)</td>\n      <td>4</td>\n      <td>3.84</td>\n      <td>2019-09-17 14:44:00</td>\n      <td>380 North St, Los Angeles, CA 90001</td>\n      <td>9</td>\n      <td>15.36</td>\n      <td>Los Angeles (CA)</td>\n      <td>14</td>\n      <td>44</td>\n    </tr>\n    <tr>\n      <th>1</th>\n      <td>248152</td>\n      <td>USB-C Charging Cable</td>\n      <td>2</td>\n      <td>11.95</td>\n      <td>2019-09-29 10:19:00</td>\n      <td>511 8th St, Austin, TX 73301</td>\n      <td>9</td>\n      <td>23.90</td>\n      <td>Austin (TX)</td>\n      <td>10</td>\n      <td>19</td>\n    </tr>\n    <tr>\n      <th>2</th>\n      <td>248153</td>\n      <td>USB-C Charging Cable</td>\n      <td>1</td>\n      <td>11.95</td>\n      <td>2019-09-16 17:48:00</td>\n      <td>151 Johnson St, Los Angeles, CA 90001</td>\n      <td>9</td>\n      <td>11.95</td>\n      <td>Los Angeles (CA)</td>\n      <td>17</td>\n      <td>48</td>\n    </tr>\n    <tr>\n      <th>3</th>\n      <td>248154</td>\n      <td>27in FHD Monitor</td>\n      <td>1</td>\n      <td>149.99</td>\n      <td>2019-09-27 07:52:00</td>\n      <td>355 Hickory St, Seattle, WA 98101</td>\n      <td>9</td>\n      <td>149.99</td>\n      <td>Seattle (WA)</td>\n      <td>7</td>\n      <td>52</td>\n    </tr>\n    <tr>\n      <th>4</th>\n      <td>248155</td>\n      <td>USB-C Charging Cable</td>\n      <td>1</td>\n      <td>11.95</td>\n      <td>2019-09-01 19:03:00</td>\n      <td>125 5th St, Atlanta, GA 30301</td>\n      <td>9</td>\n      <td>11.95</td>\n      <td>Atlanta (GA)</td>\n      <td>19</td>\n      <td>3</td>\n    </tr>\n  </tbody>\n</table>\n</div>"
     },
     "metadata": {}
    }
   ]
  },
  {
   "cell_type": "code",
   "metadata": {
    "cell_id": "33ca13decd00401ea96a1a76479b459e",
    "tags": [],
    "deepnote_to_be_reexecuted": false,
    "source_hash": "c70a07c7",
    "execution_start": 1651232952186,
    "execution_millis": 75,
    "deepnote_cell_type": "code",
    "deepnote_cell_height": 538
   },
   "source": "product_group = all_data.groupby('Product')\nquantity_ordered = product_group.sum()['Quantity Ordered']\nquantity_ordered",
   "execution_count": null,
   "outputs": [
    {
     "output_type": "execute_result",
     "execution_count": 30,
     "data": {
      "text/plain": "Product\n20in Monitor                   4129\n27in 4K Gaming Monitor         6244\n27in FHD Monitor               7550\n34in Ultrawide Monitor         6199\nAA Batteries (4-pack)         27635\nAAA Batteries (4-pack)        31017\nApple Airpods Headphones      15661\nBose SoundSport Headphones    13457\nFlatscreen TV                  4819\nGoogle Phone                   5532\nLG Dryer                        646\nLG Washing Machine              666\nLightning Charging Cable      23217\nMacbook Pro Laptop             4728\nThinkPad Laptop                4130\nUSB-C Charging Cable          23975\nVareebadd Phone                2068\nWired Headphones              20557\niPhone                         6849\nName: Quantity Ordered, dtype: int64"
     },
     "metadata": {}
    }
   ]
  },
  {
   "cell_type": "code",
   "metadata": {
    "cell_id": "c64bbd911484454897c988de6d41b7da",
    "tags": [],
    "deepnote_to_be_reexecuted": false,
    "source_hash": "bf9c218b",
    "execution_start": 1651236884271,
    "execution_millis": 831,
    "owner_user_id": "8e88df7c-7cea-4680-92f0-02a2333750b8",
    "deepnote_cell_type": "code",
    "deepnote_cell_height": 644,
    "deepnote_output_heights": [
     421
    ]
   },
   "source": "products = [product for product, df in product_group]\n\nplt.bar(products, quantity_ordered)\nplt.xticks(products, rotation=90)\nplt.xlabel('Product')\nplt.ylabel('Quantity Ordered')\nplt.title('Orders vs Product')\nplt.show()",
   "execution_count": null,
   "outputs": [
    {
     "data": {
      "text/plain": "<Figure size 432x288 with 1 Axes>",
      "image/png": "[encoded data removed]"
     },
     "metadata": {
      "needs_background": "light",
      "image/png": {
       "width": 401,
       "height": 419
      }
     },
     "output_type": "display_data"
    }
   ]
  },
  {
   "cell_type": "markdown",
   "source": "The most sold products were AAA batteries with more than 3000 orders and AA batteries with more than 2500 orders.\n\nThis may be due to its price which makes it accessible to people. It may also be due to its usefulness and demand. To find out, we plot the prices of the products in the graph above.",
   "metadata": {
    "cell_id": "15703f19a47c4952abeb364c19f3f401",
    "tags": [],
    "deepnote_cell_type": "markdown"
   }
  },
  {
   "cell_type": "code",
   "metadata": {
    "cell_id": "6e701f374f1a41d3812810d3e86a99f5",
    "tags": [],
    "deepnote_to_be_reexecuted": false,
    "source_hash": "b6716c29",
    "execution_start": 1651232952993,
    "execution_millis": 97,
    "deepnote_cell_type": "code"
   },
   "source": "prices = all_data.groupby('Product').mean()['Price Each']\nprint(prices)",
   "execution_count": null,
   "outputs": [
    {
     "name": "stdout",
     "text": "Product\n20in Monitor                   109.99\n27in 4K Gaming Monitor         389.99\n27in FHD Monitor               149.99\n34in Ultrawide Monitor         379.99\nAA Batteries (4-pack)            3.84\nAAA Batteries (4-pack)           2.99\nApple Airpods Headphones       150.00\nBose SoundSport Headphones      99.99\nFlatscreen TV                  300.00\nGoogle Phone                   600.00\nLG Dryer                       600.00\nLG Washing Machine             600.00\nLightning Charging Cable        14.95\nMacbook Pro Laptop            1700.00\nThinkPad Laptop                999.99\nUSB-C Charging Cable            11.95\nVareebadd Phone                400.00\nWired Headphones                11.99\niPhone                         700.00\nName: Price Each, dtype: float64\n",
     "output_type": "stream"
    }
   ]
  },
  {
   "cell_type": "code",
   "metadata": {
    "cell_id": "5d9b58ebab0341c789c7c0f719a30b7c",
    "tags": [],
    "deepnote_to_be_reexecuted": false,
    "source_hash": "9879ab88",
    "execution_start": 1651232953097,
    "execution_millis": 772,
    "deepnote_cell_type": "code"
   },
   "source": "fig, ax1 = plt.subplots()\n\nax2 = ax1.twinx()\nax1.bar(products, quantity_ordered, color='g')\nax2.plot(products, prices, 'b-')\n\nax1.set_xlabel('Product Name')\nax1.set_ylabel('Quantity Ordered', color='g')\nax2.set_ylabel('Price ($)', color='b')\nax1.set_xticklabels(products, rotation=90, size=8)\n\nplt.show()",
   "execution_count": null,
   "outputs": [
    {
     "name": "stderr",
     "text": "/shared-libs/python3.7/py-core/lib/python3.7/site-packages/ipykernel_launcher.py:10: UserWarning: FixedFormatter should only be used together with FixedLocator\n  # Remove the CWD from sys.path while we load stuff.\n",
     "output_type": "stream"
    },
    {
     "data": {
      "text/plain": "<Figure size 432x288 with 2 Axes>",
      "image/png": "[encoded data removed]"
     },
     "metadata": {
      "needs_background": "light",
      "image/png": {
       "width": 448,
       "height": 374
      }
     },
     "output_type": "display_data"
    }
   ]
  },
  {
   "cell_type": "markdown",
   "source": "Indeed, the low price of batteries allows a higher number of sales",
   "metadata": {
    "cell_id": "0633d976ade047359660773edc8977d1",
    "tags": [],
    "deepnote_cell_type": "markdown"
   }
  },
  {
   "cell_type": "markdown",
   "source": "<a style='text-decoration:none;line-height:16px;display:flex;color:#5B5B62;padding:10px;justify-content:end;' href='https://deepnote.com?utm_source=created-in-deepnote-cell&projectId=8735fda7-e84a-4693-bf29-dadf426e611e' target=\"_blank\">\n<img alt='Created in deepnote.com' style='display:inline;max-height:16px;margin:0px;margin-right:7.5px;' src='data:image/svg+xml;base64,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' > </img>\nCreated in <span style='font-weight:600;margin-left:4px;'>Deepnote</span></a>",
   "metadata": {
    "tags": [],
    "created_in_deepnote_cell": true,
    "deepnote_cell_type": "markdown"
   }
  }
 ],
 "nbformat": 4,
 "nbformat_minor": 2,
 "metadata": {
  "orig_nbformat": 2,
  "deepnote": {},
  "deepnote_notebook_id": "ceec9a5a-e5b9-4480-9a84-af2c67962ac5",
  "deepnote_execution_queue": []
 }
}