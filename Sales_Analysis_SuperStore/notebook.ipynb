{
 "cells": [
  {
   "cell_type": "code",
   "metadata": {
    "tags": [],
    "cell_id": "64ee754a-0b8e-4e4d-90cf-b5878240b95e",
    "deepnote_to_be_reexecuted": false,
    "source_hash": "8ad57f32",
    "execution_start": 1651877004210,
    "execution_millis": 43,
    "deepnote_cell_type": "code",
    "deepnote_cell_height": 81
   },
   "source": "# Start writing code here...",
   "outputs": [],
   "execution_count": null
  },
  {
   "cell_type": "markdown",
   "source": "### OBJETIVE",
   "metadata": {
    "cell_id": "48c2766992c54ad190a5651d622dc174",
    "tags": [],
    "is_collapsed": false,
    "deepnote_cell_type": "text-cell-h3"
   }
  },
  {
   "cell_type": "markdown",
   "source": "- What is the overall sales trend?\n- What are the top 10 products by sales?\n- What are the most selling products?\n- Which is the most preferred ship Mode?\n- Which are the most profitable category and sub-category?",
   "metadata": {
    "cell_id": "e123439caeea483eaf7704316bd8a3f0",
    "tags": [],
    "deepnote_cell_type": "markdown",
    "deepnote_cell_height": 170.953125
   }
  },
  {
   "cell_type": "markdown",
   "source": "### Task 1: import libraries and the dataSet ",
   "metadata": {
    "cell_id": "30ebffc3cdcd43dbafdedf2591edac1a",
    "tags": [],
    "is_collapsed": false,
    "deepnote_cell_type": "text-cell-h3"
   }
  },
  {
   "cell_type": "code",
   "metadata": {
    "cell_id": "5b3a6a8d3f8240abbfa7e14141eb2b8f",
    "tags": [],
    "deepnote_to_be_reexecuted": false,
    "source_hash": "43928423",
    "execution_start": 1651877526211,
    "execution_millis": 3,
    "deepnote_cell_type": "code",
    "deepnote_cell_height": 171
   },
   "source": "import pandas as pd\nimport matplotlib.pyplot as plt\nimport seaborn as sns\nimport openpyxl\nplt.style.use('ggplot')\n",
   "outputs": [],
   "execution_count": null
  },
  {
   "cell_type": "code",
   "metadata": {
    "cell_id": "9d56ad9b2ffc412bbb17c4495c9e6d3d",
    "tags": [],
    "deepnote_to_be_reexecuted": false,
    "source_hash": "bcbea6f7",
    "execution_start": 1651877006148,
    "execution_millis": 23993,
    "deepnote_cell_type": "code",
    "deepnote_cell_height": 430
   },
   "source": "df = pd.read_excel('superstore_sales.xlsx', engine='openpyxl')\ndf.head()",
   "outputs": [
    {
     "output_type": "execute_result",
     "execution_count": 3,
     "data": {
      "application/vnd.deepnote.dataframe.v3+json": {
       "column_count": 21,
       "row_count": 5,
       "columns": [
        {
         "name": "order_id",
         "dtype": "object",
         "stats": {
          "unique_count": 4,
          "nan_count": 0,
          "categories": [
           {
            "name": "IN-2011-47883",
            "count": 2
           },
           {
            "name": "AG-2011-2040",
            "count": 1
           },
           {
            "name": "2 others",
            "count": 2
           }
          ]
         }
        },
        {
         "name": "order_date",
         "dtype": "datetime64[ns]",
         "stats": {
          "unique_count": 1,
          "nan_count": 0,
          "min": "2011-01-01 00:00:00",
          "max": "2011-01-01 00:00:00",
          "histogram": null
         }
        },
        {
         "name": "ship_date",
         "dtype": "datetime64[ns]",
         "stats": {
          "unique_count": 3,
          "nan_count": 0,
          "min": "2011-01-05 00:00:00",
          "max": "2011-01-08 00:00:00",
          "histogram": [
           {
            "bin_start": 1294185600000000000,
            "bin_end": 1294211520000000000,
            "count": 2
           },
           {
            "bin_start": 1294211520000000000,
            "bin_end": 1294237440000000000,
            "count": 0
           },
           {
            "bin_start": 1294237440000000000,
            "bin_end": 1294263360000000000,
            "count": 0
           },
           {
            "bin_start": 1294263360000000000,
            "bin_end": 1294289280000000000,
            "count": 1
           },
           {
            "bin_start": 1294289280000000000,
            "bin_end": 1294315200000000000,
            "count": 0
           },
           {
            "bin_start": 1294315200000000000,
            "bin_end": 1294341120000000000,
            "count": 0
           },
           {
            "bin_start": 1294341120000000000,
            "bin_end": 1294367040000000000,
            "count": 0
           },
           {
            "bin_start": 1294367040000000000,
            "bin_end": 1294392960000000000,
            "count": 0
           },
           {
            "bin_start": 1294392960000000000,
            "bin_end": 1294418880000000000,
            "count": 0
           },
           {
            "bin_start": 1294418880000000000,
            "bin_end": 1294444800000000000,
            "count": 2
           }
          ]
         }
        },
        {
         "name": "ship_mode",
         "dtype": "object",
         "stats": {
          "unique_count": 2,
          "nan_count": 0,
          "categories": [
           {
            "name": "Standard Class",
            "count": 3
           },
           {
            "name": "Second Class",
            "count": 2
           }
          ]
         }
        },
        {
         "name": "customer_name",
         "dtype": "object",
         "stats": {
          "unique_count": 4,
          "nan_count": 0,
          "categories": [
           {
            "name": "Joseph Holt",
            "count": 2
           },
           {
            "name": "Toby Braunhardt",
            "count": 1
           },
           {
            "name": "2 others",
            "count": 2
           }
          ]
         }
        },
        {
         "name": "segment",
         "dtype": "object",
         "stats": {
          "unique_count": 2,
          "nan_count": 0,
          "categories": [
           {
            "name": "Consumer",
            "count": 4
           },
           {
            "name": "Home Office",
            "count": 1
           }
          ]
         }
        },
        {
         "name": "state",
         "dtype": "object",
         "stats": {
          "unique_count": 4,
          "nan_count": 0,
          "categories": [
           {
            "name": "New South Wales",
            "count": 2
           },
           {
            "name": "Constantine",
            "count": 1
           },
           {
            "name": "2 others",
            "count": 2
           }
          ]
         }
        },
        {
         "name": "country",
         "dtype": "object",
         "stats": {
          "unique_count": 4,
          "nan_count": 0,
          "categories": [
           {
            "name": "Australia",
            "count": 2
           },
           {
            "name": "Algeria",
            "count": 1
           },
           {
            "name": "2 others",
            "count": 2
           }
          ]
         }
        },
        {
         "name": "market",
         "dtype": "object",
         "stats": {
          "unique_count": 4,
          "nan_count": 0,
          "categories": [
           {
            "name": "APAC",
            "count": 2
           },
           {
            "name": "Africa",
            "count": 1
           },
           {
            "name": "2 others",
            "count": 2
           }
          ]
         }
        },
        {
         "name": "region",
         "dtype": "object",
         "stats": {
          "unique_count": 4,
          "nan_count": 0,
          "categories": [
           {
            "name": "Oceania",
            "count": 2
           },
           {
            "name": "Africa",
            "count": 1
           },
           {
            "name": "2 others",
            "count": 2
           }
          ]
         }
        },
        {
         "name": "product_id",
         "dtype": "object",
         "stats": {
          "unique_count": 5,
          "nan_count": 0,
          "categories": [
           {
            "name": "OFF-TEN-10000025",
            "count": 1
           },
           {
            "name": "OFF-SU-10000618",
            "count": 1
           },
           {
            "name": "3 others",
            "count": 3
           }
          ]
         }
        },
        {
         "name": "category",
         "dtype": "object",
         "stats": {
          "unique_count": 2,
          "nan_count": 0,
          "categories": [
           {
            "name": "Office Supplies",
            "count": 4
           },
           {
            "name": "Furniture",
            "count": 1
           }
          ]
         }
        },
        {
         "name": "sub_category",
         "dtype": "object",
         "stats": {
          "unique_count": 4,
          "nan_count": 0,
          "categories": [
           {
            "name": "Storage",
            "count": 2
           },
           {
            "name": "Supplies",
            "count": 1
           },
           {
            "name": "2 others",
            "count": 2
           }
          ]
         }
        },
        {
         "name": "product_name",
         "dtype": "object",
         "stats": {
          "unique_count": 5,
          "nan_count": 0,
          "categories": [
           {
            "name": "Tenex Lockers, Blue",
            "count": 1
           },
           {
            "name": "Acme Trimmer, High Speed",
            "count": 1
           },
           {
            "name": "3 others",
            "count": 3
           }
          ]
         }
        },
        {
         "name": "sales",
         "dtype": "float64",
         "stats": {
          "unique_count": 5,
          "nan_count": 0,
          "min": "44.86500000000001",
          "max": "408.29999999999995",
          "histogram": [
           {
            "bin_start": 44.86500000000001,
            "bin_end": 81.2085,
            "count": 2
           },
           {
            "bin_start": 81.2085,
            "bin_end": 117.55199999999999,
            "count": 1
           },
           {
            "bin_start": 117.55199999999999,
            "bin_end": 153.89549999999997,
            "count": 1
           },
           {
            "bin_start": 153.89549999999997,
            "bin_end": 190.23899999999998,
            "count": 0
           },
           {
            "bin_start": 190.23899999999998,
            "bin_end": 226.58249999999998,
            "count": 0
           },
           {
            "bin_start": 226.58249999999998,
            "bin_end": 262.92599999999993,
            "count": 0
           },
           {
            "bin_start": 262.92599999999993,
            "bin_end": 299.26949999999994,
            "count": 0
           },
           {
            "bin_start": 299.26949999999994,
            "bin_end": 335.61299999999994,
            "count": 0
           },
           {
            "bin_start": 335.61299999999994,
            "bin_end": 371.95649999999995,
            "count": 0
           },
           {
            "bin_start": 371.95649999999995,
            "bin_end": 408.29999999999995,
            "count": 1
           }
          ]
         }
        },
        {
         "name": "quantity",
         "dtype": "int64",
         "stats": {
          "unique_count": 4,
          "nan_count": 0,
          "min": "2",
          "max": "5",
          "histogram": [
           {
            "bin_start": 2,
            "bin_end": 2.3,
            "count": 1
           },
           {
            "bin_start": 2.3,
            "bin_end": 2.6,
            "count": 0
           },
           {
            "bin_start": 2.6,
            "bin_end": 2.9,
            "count": 0
           },
           {
            "bin_start": 2.9,
            "bin_end": 3.2,
            "count": 2
           },
           {
            "bin_start": 3.2,
            "bin_end": 3.5,
            "count": 0
           },
           {
            "bin_start": 3.5,
            "bin_end": 3.8,
            "count": 0
           },
           {
            "bin_start": 3.8,
            "bin_end": 4.1,
            "count": 1
           },
           {
            "bin_start": 4.1,
            "bin_end": 4.4,
            "count": 0
           },
           {
            "bin_start": 4.4,
            "bin_end": 4.699999999999999,
            "count": 0
           },
           {
            "bin_start": 4.699999999999999,
            "bin_end": 5,
            "count": 1
           }
          ]
         }
        },
        {
         "name": "discount",
         "dtype": "float64",
         "stats": {
          "unique_count": 3,
          "nan_count": 0,
          "min": "0.0",
          "max": "0.5",
          "histogram": [
           {
            "bin_start": 0,
            "bin_end": 0.05,
            "count": 2
           },
           {
            "bin_start": 0.05,
            "bin_end": 0.1,
            "count": 0
           },
           {
            "bin_start": 0.1,
            "bin_end": 0.15000000000000002,
            "count": 2
           },
           {
            "bin_start": 0.15000000000000002,
            "bin_end": 0.2,
            "count": 0
           },
           {
            "bin_start": 0.2,
            "bin_end": 0.25,
            "count": 0
           },
           {
            "bin_start": 0.25,
            "bin_end": 0.30000000000000004,
            "count": 0
           },
           {
            "bin_start": 0.30000000000000004,
            "bin_end": 0.35000000000000003,
            "count": 0
           },
           {
            "bin_start": 0.35000000000000003,
            "bin_end": 0.4,
            "count": 0
           },
           {
            "bin_start": 0.4,
            "bin_end": 0.45,
            "count": 0
           },
           {
            "bin_start": 0.45,
            "bin_end": 0.5,
            "count": 1
           }
          ]
         }
        },
        {
         "name": "profit",
         "dtype": "float64",
         "stats": {
          "unique_count": 5,
          "nan_count": 0,
          "min": "-26.05500000000001",
          "max": "106.14000000000001",
          "histogram": [
           {
            "bin_start": -26.05500000000001,
            "bin_end": -12.835500000000009,
            "count": 1
           },
           {
            "bin_start": -12.835500000000009,
            "bin_end": 0.38399999999999324,
            "count": 0
           },
           {
            "bin_start": 0.38399999999999324,
            "bin_end": 13.603499999999993,
            "count": 0
           },
           {
            "bin_start": 13.603499999999993,
            "bin_end": 26.822999999999997,
            "count": 0
           },
           {
            "bin_start": 26.822999999999997,
            "bin_end": 40.042500000000004,
            "count": 3
           },
           {
            "bin_start": 40.042500000000004,
            "bin_end": 53.262,
            "count": 0
           },
           {
            "bin_start": 53.262,
            "bin_end": 66.48150000000001,
            "count": 0
           },
           {
            "bin_start": 66.48150000000001,
            "bin_end": 79.70100000000001,
            "count": 0
           },
           {
            "bin_start": 79.70100000000001,
            "bin_end": 92.9205,
            "count": 0
           },
           {
            "bin_start": 92.9205,
            "bin_end": 106.14000000000001,
            "count": 1
           }
          ]
         }
        },
        {
         "name": "shipping_cost",
         "dtype": "float64",
         "stats": {
          "unique_count": 5,
          "nan_count": 0,
          "min": "4.7",
          "max": "35.46",
          "histogram": [
           {
            "bin_start": 4.7,
            "bin_end": 7.776,
            "count": 2
           },
           {
            "bin_start": 7.776,
            "bin_end": 10.852,
            "count": 2
           },
           {
            "bin_start": 10.852,
            "bin_end": 13.928,
            "count": 0
           },
           {
            "bin_start": 13.928,
            "bin_end": 17.004,
            "count": 0
           },
           {
            "bin_start": 17.004,
            "bin_end": 20.080000000000002,
            "count": 0
           },
           {
            "bin_start": 20.080000000000002,
            "bin_end": 23.156,
            "count": 0
           },
           {
            "bin_start": 23.156,
            "bin_end": 26.232,
            "count": 0
           },
           {
            "bin_start": 26.232,
            "bin_end": 29.308,
            "count": 0
           },
           {
            "bin_start": 29.308,
            "bin_end": 32.384,
            "count": 0
           },
           {
            "bin_start": 32.384,
            "bin_end": 35.46,
            "count": 1
           }
          ]
         }
        },
        {
         "name": "order_priority",
         "dtype": "object",
         "stats": {
          "unique_count": 2,
          "nan_count": 0,
          "categories": [
           {
            "name": "Medium",
            "count": 3
           },
           {
            "name": "High",
            "count": 2
           }
          ]
         }
        },
        {
         "name": "year",
         "dtype": "int64",
         "stats": {
          "unique_count": 1,
          "nan_count": 0,
          "min": "2011",
          "max": "2011",
          "histogram": [
           {
            "bin_start": 2010.5,
            "bin_end": 2010.6,
            "count": 0
           },
           {
            "bin_start": 2010.6,
            "bin_end": 2010.7,
            "count": 0
           },
           {
            "bin_start": 2010.7,
            "bin_end": 2010.8,
            "count": 0
           },
           {
            "bin_start": 2010.8,
            "bin_end": 2010.9,
            "count": 0
           },
           {
            "bin_start": 2010.9,
            "bin_end": 2011,
            "count": 0
           },
           {
            "bin_start": 2011,
            "bin_end": 2011.1,
            "count": 5
           },
           {
            "bin_start": 2011.1,
            "bin_end": 2011.2,
            "count": 0
           },
           {
            "bin_start": 2011.2,
            "bin_end": 2011.3,
            "count": 0
           },
           {
            "bin_start": 2011.3,
            "bin_end": 2011.4,
            "count": 0
           },
           {
            "bin_start": 2011.4,
            "bin_end": 2011.5,
            "count": 0
           }
          ]
         }
        },
        {
         "name": "_deepnote_index_column",
         "dtype": "int64"
        }
       ],
       "rows": [
        {
         "order_id": "AG-2011-2040",
         "order_date": "2011-01-01T00:00:00.000000",
         "ship_date": "2011-01-06T00:00:00.000000",
         "ship_mode": "Standard Class",
         "customer_name": "Toby Braunhardt",
         "segment": "Consumer",
         "state": "Constantine",
         "country": "Algeria",
         "market": "Africa",
         "region": "Africa",
         "product_id": "OFF-TEN-10000025",
         "category": "Office Supplies",
         "sub_category": "Storage",
         "product_name": "Tenex Lockers, Blue",
         "sales": 408.29999999999995,
         "quantity": 2,
         "discount": 0,
         "profit": 106.14000000000001,
         "shipping_cost": 35.46,
         "order_priority": "Medium",
         "year": 2011,
         "_deepnote_index_column": 0
        },
        {
         "order_id": "IN-2011-47883",
         "order_date": "2011-01-01T00:00:00.000000",
         "ship_date": "2011-01-08T00:00:00.000000",
         "ship_mode": "Standard Class",
         "customer_name": "Joseph Holt",
         "segment": "Consumer",
         "state": "New South Wales",
         "country": "Australia",
         "market": "APAC",
         "region": "Oceania",
         "product_id": "OFF-SU-10000618",
         "category": "Office Supplies",
         "sub_category": "Supplies",
         "product_name": "Acme Trimmer, High Speed",
         "sales": 120.36600000000001,
         "quantity": 3,
         "discount": 0.1,
         "profit": 36.035999999999994,
         "shipping_cost": 9.72,
         "order_priority": "Medium",
         "year": 2011,
         "_deepnote_index_column": 1
        },
        {
         "order_id": "HU-2011-1220",
         "order_date": "2011-01-01T00:00:00.000000",
         "ship_date": "2011-01-05T00:00:00.000000",
         "ship_mode": "Second Class",
         "customer_name": "Annie Thurman",
         "segment": "Consumer",
         "state": "Budapest",
         "country": "Hungary",
         "market": "EMEA",
         "region": "EMEA",
         "product_id": "OFF-TEN-10001585",
         "category": "Office Supplies",
         "sub_category": "Storage",
         "product_name": "Tenex Box, Single Width",
         "sales": 66.12,
         "quantity": 4,
         "discount": 0,
         "profit": 29.64,
         "shipping_cost": 8.17,
         "order_priority": "High",
         "year": 2011,
         "_deepnote_index_column": 2
        },
        {
         "order_id": "IT-2011-3647632",
         "order_date": "2011-01-01T00:00:00.000000",
         "ship_date": "2011-01-05T00:00:00.000000",
         "ship_mode": "Second Class",
         "customer_name": "Eugene Moren",
         "segment": "Home Office",
         "state": "Stockholm",
         "country": "Sweden",
         "market": "EU",
         "region": "North",
         "product_id": "OFF-PA-10001492",
         "category": "Office Supplies",
         "sub_category": "Paper",
         "product_name": "Enermax Note Cards, Premium",
         "sales": 44.86500000000001,
         "quantity": 3,
         "discount": 0.5,
         "profit": -26.05500000000001,
         "shipping_cost": 4.82,
         "order_priority": "High",
         "year": 2011,
         "_deepnote_index_column": 3
        },
        {
         "order_id": "IN-2011-47883",
         "order_date": "2011-01-01T00:00:00.000000",
         "ship_date": "2011-01-08T00:00:00.000000",
         "ship_mode": "Standard Class",
         "customer_name": "Joseph Holt",
         "segment": "Consumer",
         "state": "New South Wales",
         "country": "Australia",
         "market": "APAC",
         "region": "Oceania",
         "product_id": "FUR-FU-10003447",
         "category": "Furniture",
         "sub_category": "Furnishings",
         "product_name": "Eldon Light Bulb, Duo Pack",
         "sales": 113.66999999999999,
         "quantity": 5,
         "discount": 0.1,
         "profit": 37.769999999999996,
         "shipping_cost": 4.7,
         "order_priority": "Medium",
         "year": 2011,
         "_deepnote_index_column": 4
        }
       ]
      },
      "text/plain": "          order_id order_date  ship_date       ship_mode    customer_name  \\\n0     AG-2011-2040 2011-01-01 2011-01-06  Standard Class  Toby Braunhardt   \n1    IN-2011-47883 2011-01-01 2011-01-08  Standard Class      Joseph Holt   \n2     HU-2011-1220 2011-01-01 2011-01-05    Second Class    Annie Thurman   \n3  IT-2011-3647632 2011-01-01 2011-01-05    Second Class     Eugene Moren   \n4    IN-2011-47883 2011-01-01 2011-01-08  Standard Class      Joseph Holt   \n\n       segment            state    country  market   region  ...  \\\n0     Consumer      Constantine    Algeria  Africa   Africa  ...   \n1     Consumer  New South Wales  Australia    APAC  Oceania  ...   \n2     Consumer         Budapest    Hungary    EMEA     EMEA  ...   \n3  Home Office        Stockholm     Sweden      EU    North  ...   \n4     Consumer  New South Wales  Australia    APAC  Oceania  ...   \n\n          category sub_category                 product_name    sales  \\\n0  Office Supplies      Storage          Tenex Lockers, Blue  408.300   \n1  Office Supplies     Supplies     Acme Trimmer, High Speed  120.366   \n2  Office Supplies      Storage      Tenex Box, Single Width   66.120   \n3  Office Supplies        Paper  Enermax Note Cards, Premium   44.865   \n4        Furniture  Furnishings   Eldon Light Bulb, Duo Pack  113.670   \n\n   quantity  discount   profit  shipping_cost  order_priority  year  \n0         2       0.0  106.140          35.46          Medium  2011  \n1         3       0.1   36.036           9.72          Medium  2011  \n2         4       0.0   29.640           8.17            High  2011  \n3         3       0.5  -26.055           4.82            High  2011  \n4         5       0.1   37.770           4.70          Medium  2011  \n\n[5 rows x 21 columns]",
      "text/html": "<div>\n<style scoped>\n    .dataframe tbody tr th:only-of-type {\n        vertical-align: middle;\n    }\n\n    .dataframe tbody tr th {\n        vertical-align: top;\n    }\n\n    .dataframe thead th {\n        text-align: right;\n    }\n</style>\n<table border=\"1\" class=\"dataframe\">\n  <thead>\n    <tr style=\"text-align: right;\">\n      <th></th>\n      <th>order_id</th>\n      <th>order_date</th>\n      <th>ship_date</th>\n      <th>ship_mode</th>\n      <th>customer_name</th>\n      <th>segment</th>\n      <th>state</th>\n      <th>country</th>\n      <th>market</th>\n      <th>region</th>\n      <th>...</th>\n      <th>category</th>\n      <th>sub_category</th>\n      <th>product_name</th>\n      <th>sales</th>\n      <th>quantity</th>\n      <th>discount</th>\n      <th>profit</th>\n      <th>shipping_cost</th>\n      <th>order_priority</th>\n      <th>year</th>\n    </tr>\n  </thead>\n  <tbody>\n    <tr>\n      <th>0</th>\n      <td>AG-2011-2040</td>\n      <td>2011-01-01</td>\n      <td>2011-01-06</td>\n      <td>Standard Class</td>\n      <td>Toby Braunhardt</td>\n      <td>Consumer</td>\n      <td>Constantine</td>\n      <td>Algeria</td>\n      <td>Africa</td>\n      <td>Africa</td>\n      <td>...</td>\n      <td>Office Supplies</td>\n      <td>Storage</td>\n      <td>Tenex Lockers, Blue</td>\n      <td>408.300</td>\n      <td>2</td>\n      <td>0.0</td>\n      <td>106.140</td>\n      <td>35.46</td>\n      <td>Medium</td>\n      <td>2011</td>\n    </tr>\n    <tr>\n      <th>1</th>\n      <td>IN-2011-47883</td>\n      <td>2011-01-01</td>\n      <td>2011-01-08</td>\n      <td>Standard Class</td>\n      <td>Joseph Holt</td>\n      <td>Consumer</td>\n      <td>New South Wales</td>\n      <td>Australia</td>\n      <td>APAC</td>\n      <td>Oceania</td>\n      <td>...</td>\n      <td>Office Supplies</td>\n      <td>Supplies</td>\n      <td>Acme Trimmer, High Speed</td>\n      <td>120.366</td>\n      <td>3</td>\n      <td>0.1</td>\n      <td>36.036</td>\n      <td>9.72</td>\n      <td>Medium</td>\n      <td>2011</td>\n    </tr>\n    <tr>\n      <th>2</th>\n      <td>HU-2011-1220</td>\n      <td>2011-01-01</td>\n      <td>2011-01-05</td>\n      <td>Second Class</td>\n      <td>Annie Thurman</td>\n      <td>Consumer</td>\n      <td>Budapest</td>\n      <td>Hungary</td>\n      <td>EMEA</td>\n      <td>EMEA</td>\n      <td>...</td>\n      <td>Office Supplies</td>\n      <td>Storage</td>\n      <td>Tenex Box, Single Width</td>\n      <td>66.120</td>\n      <td>4</td>\n      <td>0.0</td>\n      <td>29.640</td>\n      <td>8.17</td>\n      <td>High</td>\n      <td>2011</td>\n    </tr>\n    <tr>\n      <th>3</th>\n      <td>IT-2011-3647632</td>\n      <td>2011-01-01</td>\n      <td>2011-01-05</td>\n      <td>Second Class</td>\n      <td>Eugene Moren</td>\n      <td>Home Office</td>\n      <td>Stockholm</td>\n      <td>Sweden</td>\n      <td>EU</td>\n      <td>North</td>\n      <td>...</td>\n      <td>Office Supplies</td>\n      <td>Paper</td>\n      <td>Enermax Note Cards, Premium</td>\n      <td>44.865</td>\n      <td>3</td>\n      <td>0.5</td>\n      <td>-26.055</td>\n      <td>4.82</td>\n      <td>High</td>\n      <td>2011</td>\n    </tr>\n    <tr>\n      <th>4</th>\n      <td>IN-2011-47883</td>\n      <td>2011-01-01</td>\n      <td>2011-01-08</td>\n      <td>Standard Class</td>\n      <td>Joseph Holt</td>\n      <td>Consumer</td>\n      <td>New South Wales</td>\n      <td>Australia</td>\n      <td>APAC</td>\n      <td>Oceania</td>\n      <td>...</td>\n      <td>Furniture</td>\n      <td>Furnishings</td>\n      <td>Eldon Light Bulb, Duo Pack</td>\n      <td>113.670</td>\n      <td>5</td>\n      <td>0.1</td>\n      <td>37.770</td>\n      <td>4.70</td>\n      <td>Medium</td>\n      <td>2011</td>\n    </tr>\n  </tbody>\n</table>\n<p>5 rows × 21 columns</p>\n</div>"
     },
     "metadata": {}
    }
   ],
   "execution_count": null
  },
  {
   "cell_type": "markdown",
   "source": "### Task 2: Data Auditing and Cleaning",
   "metadata": {
    "cell_id": "01c2509aa794458e8d0ebb6b195a7a49",
    "tags": [],
    "is_collapsed": false,
    "deepnote_cell_type": "text-cell-h3"
   }
  },
  {
   "cell_type": "code",
   "metadata": {
    "cell_id": "759c1172ea4d43398c6bea11902af6bb",
    "tags": [],
    "deepnote_to_be_reexecuted": false,
    "source_hash": "523d2ef5",
    "execution_start": 1651877030142,
    "execution_millis": 22,
    "deepnote_cell_type": "code",
    "deepnote_cell_height": 136.1875,
    "deepnote_output_heights": [
     21.1875
    ]
   },
   "source": "#Shape of the dataSet\ndf.shape",
   "outputs": [
    {
     "output_type": "execute_result",
     "execution_count": 4,
     "data": {
      "text/plain": "(51290, 21)"
     },
     "metadata": {}
    }
   ],
   "execution_count": null
  },
  {
   "cell_type": "code",
   "metadata": {
    "cell_id": "562b38ced3fb4ba795cd3f7bb29c6a32",
    "tags": [],
    "deepnote_to_be_reexecuted": false,
    "source_hash": "e080a237",
    "execution_start": 1651877030165,
    "execution_millis": 6,
    "deepnote_cell_type": "code",
    "deepnote_cell_height": 213,
    "deepnote_output_heights": [
     97.9375
    ]
   },
   "source": "#Columns in the dataset\ndf.columns",
   "outputs": [
    {
     "output_type": "execute_result",
     "execution_count": 5,
     "data": {
      "text/plain": "Index(['order_id', 'order_date', 'ship_date', 'ship_mode', 'customer_name',\n       'segment', 'state', 'country', 'market', 'region', 'product_id',\n       'category', 'sub_category', 'product_name', 'sales', 'quantity',\n       'discount', 'profit', 'shipping_cost', 'order_priority', 'year'],\n      dtype='object')"
     },
     "metadata": {}
    }
   ],
   "execution_count": null
  },
  {
   "cell_type": "code",
   "metadata": {
    "cell_id": "a4abcb5ae9ec4093bc6d55cec9a6fa65",
    "tags": [],
    "deepnote_to_be_reexecuted": false,
    "source_hash": "39498d17",
    "execution_start": 1651877030180,
    "execution_millis": 106,
    "deepnote_cell_type": "code",
    "deepnote_cell_height": 675.25
   },
   "source": "#Summary of the dataset\ndf.info()",
   "outputs": [
    {
     "name": "stdout",
     "text": "<class 'pandas.core.frame.DataFrame'>\nRangeIndex: 51290 entries, 0 to 51289\nData columns (total 21 columns):\n #   Column          Non-Null Count  Dtype         \n---  ------          --------------  -----         \n 0   order_id        51290 non-null  object        \n 1   order_date      51290 non-null  datetime64[ns]\n 2   ship_date       51290 non-null  datetime64[ns]\n 3   ship_mode       51290 non-null  object        \n 4   customer_name   51290 non-null  object        \n 5   segment         51290 non-null  object        \n 6   state           51290 non-null  object        \n 7   country         51290 non-null  object        \n 8   market          51290 non-null  object        \n 9   region          51290 non-null  object        \n 10  product_id      51290 non-null  object        \n 11  category        51290 non-null  object        \n 12  sub_category    51290 non-null  object        \n 13  product_name    51290 non-null  object        \n 14  sales           51290 non-null  float64       \n 15  quantity        51290 non-null  int64         \n 16  discount        51290 non-null  float64       \n 17  profit          51290 non-null  float64       \n 18  shipping_cost   51290 non-null  float64       \n 19  order_priority  51290 non-null  object        \n 20  year            51290 non-null  int64         \ndtypes: datetime64[ns](2), float64(4), int64(2), object(13)\nmemory usage: 8.2+ MB\n",
     "output_type": "stream"
    }
   ],
   "execution_count": null
  },
  {
   "cell_type": "code",
   "metadata": {
    "cell_id": "748bc511334b4836a46cfcd6d7046e0c",
    "tags": [],
    "deepnote_to_be_reexecuted": false,
    "source_hash": "f0267df3",
    "execution_start": 1651877030292,
    "execution_millis": 70,
    "deepnote_cell_type": "code",
    "deepnote_cell_height": 539.125,
    "deepnote_output_heights": [
     424.125
    ]
   },
   "source": "#Checking missing values\ndf.isnull().sum()",
   "outputs": [
    {
     "output_type": "execute_result",
     "execution_count": 7,
     "data": {
      "text/plain": "order_id          0\norder_date        0\nship_date         0\nship_mode         0\ncustomer_name     0\nsegment           0\nstate             0\ncountry           0\nmarket            0\nregion            0\nproduct_id        0\ncategory          0\nsub_category      0\nproduct_name      0\nsales             0\nquantity          0\ndiscount          0\nprofit            0\nshipping_cost     0\norder_priority    0\nyear              0\ndtype: int64"
     },
     "metadata": {}
    }
   ],
   "execution_count": null
  },
  {
   "cell_type": "code",
   "metadata": {
    "cell_id": "07425f6b48e34b46a40e267040603675",
    "tags": [],
    "deepnote_to_be_reexecuted": false,
    "source_hash": "58b5db76",
    "execution_start": 1651877030366,
    "execution_millis": 92,
    "deepnote_cell_type": "code",
    "deepnote_cell_height": 553
   },
   "source": "#Getting a statistical summary\ndf.describe()",
   "outputs": [
    {
     "output_type": "execute_result",
     "execution_count": 8,
     "data": {
      "application/vnd.deepnote.dataframe.v3+json": {
       "column_count": 6,
       "row_count": 8,
       "columns": [
        {
         "name": "sales",
         "dtype": "float64",
         "stats": {
          "unique_count": 8,
          "nan_count": 0,
          "min": "0.44399999999999995",
          "max": "51290.0",
          "histogram": [
           {
            "bin_start": 0.44399999999999995,
            "bin_end": 5129.3996,
            "count": 6
           },
           {
            "bin_start": 5129.3996,
            "bin_end": 10258.355199999998,
            "count": 0
           },
           {
            "bin_start": 10258.355199999998,
            "bin_end": 15387.310799999997,
            "count": 0
           },
           {
            "bin_start": 15387.310799999997,
            "bin_end": 20516.266399999997,
            "count": 0
           },
           {
            "bin_start": 20516.266399999997,
            "bin_end": 25645.221999999998,
            "count": 1
           },
           {
            "bin_start": 25645.221999999998,
            "bin_end": 30774.177599999995,
            "count": 0
           },
           {
            "bin_start": 30774.177599999995,
            "bin_end": 35903.1332,
            "count": 0
           },
           {
            "bin_start": 35903.1332,
            "bin_end": 41032.0888,
            "count": 0
           },
           {
            "bin_start": 41032.0888,
            "bin_end": 46161.0444,
            "count": 0
           },
           {
            "bin_start": 46161.0444,
            "bin_end": 51290,
            "count": 1
           }
          ]
         }
        },
        {
         "name": "quantity",
         "dtype": "float64",
         "stats": {
          "unique_count": 8,
          "nan_count": 0,
          "min": "1.0",
          "max": "51290.0",
          "histogram": [
           {
            "bin_start": 1,
            "bin_end": 5129.9,
            "count": 7
           },
           {
            "bin_start": 5129.9,
            "bin_end": 10258.8,
            "count": 0
           },
           {
            "bin_start": 10258.8,
            "bin_end": 15387.699999999999,
            "count": 0
           },
           {
            "bin_start": 15387.699999999999,
            "bin_end": 20516.6,
            "count": 0
           },
           {
            "bin_start": 20516.6,
            "bin_end": 25645.5,
            "count": 0
           },
           {
            "bin_start": 25645.5,
            "bin_end": 30774.399999999998,
            "count": 0
           },
           {
            "bin_start": 30774.399999999998,
            "bin_end": 35903.299999999996,
            "count": 0
           },
           {
            "bin_start": 35903.299999999996,
            "bin_end": 41032.2,
            "count": 0
           },
           {
            "bin_start": 41032.2,
            "bin_end": 46161.1,
            "count": 0
           },
           {
            "bin_start": 46161.1,
            "bin_end": 51290,
            "count": 1
           }
          ]
         }
        },
        {
         "name": "discount",
         "dtype": "float64",
         "stats": {
          "unique_count": 6,
          "nan_count": 0,
          "min": "0.0",
          "max": "51290.0",
          "histogram": [
           {
            "bin_start": 0,
            "bin_end": 5129,
            "count": 7
           },
           {
            "bin_start": 5129,
            "bin_end": 10258,
            "count": 0
           },
           {
            "bin_start": 10258,
            "bin_end": 15387,
            "count": 0
           },
           {
            "bin_start": 15387,
            "bin_end": 20516,
            "count": 0
           },
           {
            "bin_start": 20516,
            "bin_end": 25645,
            "count": 0
           },
           {
            "bin_start": 25645,
            "bin_end": 30774,
            "count": 0
           },
           {
            "bin_start": 30774,
            "bin_end": 35903,
            "count": 0
           },
           {
            "bin_start": 35903,
            "bin_end": 41032,
            "count": 0
           },
           {
            "bin_start": 41032,
            "bin_end": 46161,
            "count": 0
           },
           {
            "bin_start": 46161,
            "bin_end": 51290,
            "count": 1
           }
          ]
         }
        },
        {
         "name": "profit",
         "dtype": "float64",
         "stats": {
          "unique_count": 8,
          "nan_count": 0,
          "min": "-6599.978000000001",
          "max": "51290.0",
          "histogram": [
           {
            "bin_start": -6599.978000000001,
            "bin_end": -810.9802000000009,
            "count": 1
           },
           {
            "bin_start": -810.9802000000009,
            "bin_end": 4978.017599999999,
            "count": 5
           },
           {
            "bin_start": 4978.017599999999,
            "bin_end": 10767.015399999998,
            "count": 1
           },
           {
            "bin_start": 10767.015399999998,
            "bin_end": 16556.0132,
            "count": 0
           },
           {
            "bin_start": 16556.0132,
            "bin_end": 22345.011,
            "count": 0
           },
           {
            "bin_start": 22345.011,
            "bin_end": 28134.008799999996,
            "count": 0
           },
           {
            "bin_start": 28134.008799999996,
            "bin_end": 33923.0066,
            "count": 0
           },
           {
            "bin_start": 33923.0066,
            "bin_end": 39712.0044,
            "count": 0
           },
           {
            "bin_start": 39712.0044,
            "bin_end": 45501.002199999995,
            "count": 0
           },
           {
            "bin_start": 45501.002199999995,
            "bin_end": 51290,
            "count": 1
           }
          ]
         }
        },
        {
         "name": "shipping_cost",
         "dtype": "float64",
         "stats": {
          "unique_count": 8,
          "nan_count": 0,
          "min": "0.002",
          "max": "51290.0",
          "histogram": [
           {
            "bin_start": 0.002,
            "bin_end": 5129.0018,
            "count": 7
           },
           {
            "bin_start": 5129.0018,
            "bin_end": 10258.0016,
            "count": 0
           },
           {
            "bin_start": 10258.0016,
            "bin_end": 15387.0014,
            "count": 0
           },
           {
            "bin_start": 15387.0014,
            "bin_end": 20516.0012,
            "count": 0
           },
           {
            "bin_start": 20516.0012,
            "bin_end": 25645.000999999997,
            "count": 0
           },
           {
            "bin_start": 25645.000999999997,
            "bin_end": 30774.000799999998,
            "count": 0
           },
           {
            "bin_start": 30774.000799999998,
            "bin_end": 35903.0006,
            "count": 0
           },
           {
            "bin_start": 35903.0006,
            "bin_end": 41032.0004,
            "count": 0
           },
           {
            "bin_start": 41032.0004,
            "bin_end": 46161.000199999995,
            "count": 0
           },
           {
            "bin_start": 46161.000199999995,
            "bin_end": 51290,
            "count": 1
           }
          ]
         }
        },
        {
         "name": "year",
         "dtype": "float64",
         "stats": {
          "unique_count": 7,
          "nan_count": 0,
          "min": "1.0989312576990315",
          "max": "51290.0",
          "histogram": [
           {
            "bin_start": 1.0989312576990315,
            "bin_end": 5129.989038131929,
            "count": 7
           },
           {
            "bin_start": 5129.989038131929,
            "bin_end": 10258.879145006158,
            "count": 0
           },
           {
            "bin_start": 10258.879145006158,
            "bin_end": 15387.769251880387,
            "count": 0
           },
           {
            "bin_start": 15387.769251880387,
            "bin_end": 20516.65935875462,
            "count": 0
           },
           {
            "bin_start": 20516.65935875462,
            "bin_end": 25645.54946562885,
            "count": 0
           },
           {
            "bin_start": 25645.54946562885,
            "bin_end": 30774.439572503077,
            "count": 0
           },
           {
            "bin_start": 30774.439572503077,
            "bin_end": 35903.32967937731,
            "count": 0
           },
           {
            "bin_start": 35903.32967937731,
            "bin_end": 41032.21978625154,
            "count": 0
           },
           {
            "bin_start": 41032.21978625154,
            "bin_end": 46161.109893125766,
            "count": 0
           },
           {
            "bin_start": 46161.109893125766,
            "bin_end": 51290,
            "count": 1
           }
          ]
         }
        },
        {
         "name": "_deepnote_index_column",
         "dtype": "object"
        }
       ],
       "rows": [
        {
         "sales": 51290,
         "quantity": 51290,
         "discount": 51290,
         "profit": 51290,
         "shipping_cost": 51290,
         "year": 51290,
         "_deepnote_index_column": "count"
        },
        {
         "sales": 246.49058120257362,
         "quantity": 3.4765451355039967,
         "discount": 0.14290754533047378,
         "profit": 28.64173954533047,
         "shipping_cost": 26.3758179645155,
         "year": 2012.777208032755,
         "_deepnote_index_column": "mean"
        },
        {
         "sales": 487.5653605385643,
         "quantity": 2.2787663138033745,
         "discount": 0.21227993168586598,
         "profit": 174.42411298385912,
         "shipping_cost": 57.29680954115876,
         "year": 1.0989312576990315,
         "_deepnote_index_column": "std"
        },
        {
         "sales": 0.44399999999999995,
         "quantity": 1,
         "discount": 0,
         "profit": -6599.978000000001,
         "shipping_cost": 0.002,
         "year": 2011,
         "_deepnote_index_column": "min"
        },
        {
         "sales": 30.758625000000002,
         "quantity": 2,
         "discount": 0,
         "profit": 0,
         "shipping_cost": 2.61,
         "year": 2012,
         "_deepnote_index_column": "25%"
        },
        {
         "sales": 85.053,
         "quantity": 3,
         "discount": 0,
         "profit": 9.24,
         "shipping_cost": 7.79,
         "year": 2013,
         "_deepnote_index_column": "50%"
        },
        {
         "sales": 251.0532,
         "quantity": 5,
         "discount": 0.2,
         "profit": 36.81,
         "shipping_cost": 24.45,
         "year": 2014,
         "_deepnote_index_column": "75%"
        },
        {
         "sales": 22638.48,
         "quantity": 14,
         "discount": 0.85,
         "profit": 8399.975999999999,
         "shipping_cost": 933.57,
         "year": 2014,
         "_deepnote_index_column": "max"
        }
       ]
      },
      "text/plain": "              sales      quantity      discount        profit  shipping_cost  \\\ncount  51290.000000  51290.000000  51290.000000  51290.000000   51290.000000   \nmean     246.490581      3.476545      0.142908     28.641740      26.375818   \nstd      487.565361      2.278766      0.212280    174.424113      57.296810   \nmin        0.444000      1.000000      0.000000  -6599.978000       0.002000   \n25%       30.758625      2.000000      0.000000      0.000000       2.610000   \n50%       85.053000      3.000000      0.000000      9.240000       7.790000   \n75%      251.053200      5.000000      0.200000     36.810000      24.450000   \nmax    22638.480000     14.000000      0.850000   8399.976000     933.570000   \n\n               year  \ncount  51290.000000  \nmean    2012.777208  \nstd        1.098931  \nmin     2011.000000  \n25%     2012.000000  \n50%     2013.000000  \n75%     2014.000000  \nmax     2014.000000  ",
      "text/html": "<div>\n<style scoped>\n    .dataframe tbody tr th:only-of-type {\n        vertical-align: middle;\n    }\n\n    .dataframe tbody tr th {\n        vertical-align: top;\n    }\n\n    .dataframe thead th {\n        text-align: right;\n    }\n</style>\n<table border=\"1\" class=\"dataframe\">\n  <thead>\n    <tr style=\"text-align: right;\">\n      <th></th>\n      <th>sales</th>\n      <th>quantity</th>\n      <th>discount</th>\n      <th>profit</th>\n      <th>shipping_cost</th>\n      <th>year</th>\n    </tr>\n  </thead>\n  <tbody>\n    <tr>\n      <th>count</th>\n      <td>51290.000000</td>\n      <td>51290.000000</td>\n      <td>51290.000000</td>\n      <td>51290.000000</td>\n      <td>51290.000000</td>\n      <td>51290.000000</td>\n    </tr>\n    <tr>\n      <th>mean</th>\n      <td>246.490581</td>\n      <td>3.476545</td>\n      <td>0.142908</td>\n      <td>28.641740</td>\n      <td>26.375818</td>\n      <td>2012.777208</td>\n    </tr>\n    <tr>\n      <th>std</th>\n      <td>487.565361</td>\n      <td>2.278766</td>\n      <td>0.212280</td>\n      <td>174.424113</td>\n      <td>57.296810</td>\n      <td>1.098931</td>\n    </tr>\n    <tr>\n      <th>min</th>\n      <td>0.444000</td>\n      <td>1.000000</td>\n      <td>0.000000</td>\n      <td>-6599.978000</td>\n      <td>0.002000</td>\n      <td>2011.000000</td>\n    </tr>\n    <tr>\n      <th>25%</th>\n      <td>30.758625</td>\n      <td>2.000000</td>\n      <td>0.000000</td>\n      <td>0.000000</td>\n      <td>2.610000</td>\n      <td>2012.000000</td>\n    </tr>\n    <tr>\n      <th>50%</th>\n      <td>85.053000</td>\n      <td>3.000000</td>\n      <td>0.000000</td>\n      <td>9.240000</td>\n      <td>7.790000</td>\n      <td>2013.000000</td>\n    </tr>\n    <tr>\n      <th>75%</th>\n      <td>251.053200</td>\n      <td>5.000000</td>\n      <td>0.200000</td>\n      <td>36.810000</td>\n      <td>24.450000</td>\n      <td>2014.000000</td>\n    </tr>\n    <tr>\n      <th>max</th>\n      <td>22638.480000</td>\n      <td>14.000000</td>\n      <td>0.850000</td>\n      <td>8399.976000</td>\n      <td>933.570000</td>\n      <td>2014.000000</td>\n    </tr>\n  </tbody>\n</table>\n</div>"
     },
     "metadata": {}
    }
   ],
   "execution_count": null
  },
  {
   "cell_type": "markdown",
   "source": "### Question 1: What is the overall sales trend?",
   "metadata": {
    "cell_id": "eb55f1b827df44c78656df082b4472c9",
    "tags": [],
    "is_collapsed": false,
    "deepnote_cell_type": "text-cell-h3"
   }
  },
  {
   "cell_type": "code",
   "metadata": {
    "cell_id": "22f54b344b6640b59c3d1d2f9713b303",
    "tags": [],
    "deepnote_to_be_reexecuted": false,
    "source_hash": "eca3c965",
    "execution_start": 1651877030462,
    "execution_millis": 2,
    "deepnote_cell_type": "code",
    "deepnote_cell_height": 136.1875,
    "deepnote_output_heights": [
     21.1875
    ]
   },
   "source": "#Get the minimun date\ndf['order_date'].min()",
   "outputs": [
    {
     "output_type": "execute_result",
     "execution_count": 9,
     "data": {
      "text/plain": "Timestamp('2011-01-01 00:00:00')"
     },
     "metadata": {}
    }
   ],
   "execution_count": null
  },
  {
   "cell_type": "code",
   "metadata": {
    "cell_id": "93ee4458769244d2ae3a657981503dcf",
    "tags": [],
    "deepnote_to_be_reexecuted": false,
    "source_hash": "d1b60341",
    "execution_start": 1651877030466,
    "execution_millis": 5,
    "deepnote_cell_type": "code",
    "deepnote_cell_height": 136.1875,
    "deepnote_output_heights": [
     21.1875
    ]
   },
   "source": "#Get the maximun date\ndf['order_date'].max()",
   "outputs": [
    {
     "output_type": "execute_result",
     "execution_count": 10,
     "data": {
      "text/plain": "Timestamp('2014-12-31 00:00:00')"
     },
     "metadata": {}
    }
   ],
   "execution_count": null
  },
  {
   "cell_type": "code",
   "metadata": {
    "cell_id": "592828d560134cfb89609f417f626092",
    "tags": [],
    "deepnote_to_be_reexecuted": false,
    "source_hash": "ef1dd7e1",
    "execution_start": 1651877030473,
    "execution_millis": 883,
    "deepnote_cell_type": "code",
    "deepnote_cell_height": 365.25,
    "deepnote_output_heights": [
     232.25
    ]
   },
   "source": "#Get the month and year from order_date column\ndf['month_year'] = df['order_date'].apply(lambda x: x.strftime('%Y-%m'))\ndf['month_year']",
   "outputs": [
    {
     "output_type": "execute_result",
     "execution_count": 11,
     "data": {
      "text/plain": "0        2011-01\n1        2011-01\n2        2011-01\n3        2011-01\n4        2011-01\n          ...   \n51285    2014-12\n51286    2014-12\n51287    2014-12\n51288    2014-12\n51289    2014-12\nName: month_year, Length: 51290, dtype: object"
     },
     "metadata": {}
    }
   ],
   "execution_count": null
  },
  {
   "cell_type": "code",
   "metadata": {
    "cell_id": "515030a2413b478e8c78882327463eb0",
    "tags": [],
    "deepnote_to_be_reexecuted": false,
    "source_hash": "65e6c7cb",
    "execution_start": 1651877031161,
    "execution_millis": 44,
    "deepnote_cell_type": "code",
    "deepnote_cell_height": 99
   },
   "source": "#Grouping month and year\ndf_trend = df.groupby('month_year').sum()['sales'].reset_index()",
   "outputs": [],
   "execution_count": null
  },
  {
   "cell_type": "code",
   "metadata": {
    "cell_id": "dfc19a056b834e82aa879677b76b37ec",
    "tags": [],
    "deepnote_to_be_reexecuted": false,
    "source_hash": "e648d1f",
    "execution_start": 1651878151823,
    "execution_millis": 1347,
    "deepnote_cell_type": "code",
    "deepnote_cell_height": 548.03125,
    "deepnote_output_heights": [
     379.03125
    ]
   },
   "source": "#Setting the figure size\nplt.figure(figsize=(16,8))\nplt.bar(df_trend['month_year'], df_trend['sales'])\nplt.xticks(rotation='65')\nplt.show()",
   "outputs": [
    {
     "data": {
      "text/plain": "<Figure size 1152x576 with 1 Axes>",
      "image/png": "[encoded data removed]"
     },
     "metadata": {
      "image/png": {
       "width": 951,
       "height": 498
      }
     },
     "output_type": "display_data"
    }
   ],
   "execution_count": null
  },
  {
   "cell_type": "markdown",
   "source": "### Question 2: Which are the top 10 products by sales?",
   "metadata": {
    "cell_id": "764b5277f4b74db2a0e524e3b18f37c4",
    "tags": [],
    "is_collapsed": false,
    "deepnote_cell_type": "text-cell-h3"
   }
  },
  {
   "cell_type": "code",
   "source": "#Grouping product name column\nprod_sales = pd.DataFrame(df.groupby('product_name').sum()['sales'])",
   "metadata": {
    "cell_id": "984e4420aa054ad7983a917d7c1759b4",
    "tags": [],
    "deepnote_to_be_reexecuted": false,
    "source_hash": "dc03cf9b",
    "execution_start": 1651877032001,
    "execution_millis": 9,
    "deepnote_cell_type": "code",
    "deepnote_cell_height": 99,
    "deepnote_output_heights": [
     251.4375
    ]
   },
   "outputs": [],
   "execution_count": null
  },
  {
   "cell_type": "code",
   "source": "#Order from highhest to lowest according to sales\nprod_sales = prod_sales.sort_values('sales', ascending=False)",
   "metadata": {
    "cell_id": "508f359f036043ff9658d827940ee99e",
    "tags": [],
    "deepnote_to_be_reexecuted": false,
    "source_hash": "69185512",
    "execution_start": 1651877032016,
    "execution_millis": 5,
    "deepnote_cell_type": "code",
    "deepnote_cell_height": 99
   },
   "outputs": [],
   "execution_count": null
  },
  {
   "cell_type": "code",
   "source": "#Top 10 by product by sales\nprod_sales = prod_sales[:10].reset_index()\nprod_sales",
   "metadata": {
    "cell_id": "ce846948ac57423f8d165283155aeb15",
    "tags": [],
    "deepnote_to_be_reexecuted": false,
    "source_hash": "cea14e7",
    "execution_start": 1651877159744,
    "execution_millis": 8,
    "deepnote_cell_type": "code",
    "deepnote_cell_height": 636
   },
   "outputs": [
    {
     "output_type": "execute_result",
     "execution_count": 19,
     "data": {
      "application/vnd.deepnote.dataframe.v3+json": {
       "column_count": 2,
       "row_count": 10,
       "columns": [
        {
         "name": "product_name",
         "dtype": "object",
         "stats": {
          "unique_count": 10,
          "nan_count": 0,
          "categories": [
           {
            "name": "Apple Smart Phone, Full Size",
            "count": 1
           },
           {
            "name": "Cisco Smart Phone, Full Size",
            "count": 1
           },
           {
            "name": "8 others",
            "count": 8
           }
          ]
         }
        },
        {
         "name": "sales",
         "dtype": "float64",
         "stats": {
          "unique_count": 10,
          "nan_count": 0,
          "min": "47877.785700000015",
          "max": "86935.77859999999",
          "histogram": [
           {
            "bin_start": 47877.785700000015,
            "bin_end": 51783.58499000001,
            "count": 4
           },
           {
            "bin_start": 51783.58499000001,
            "bin_end": 55689.38428000001,
            "count": 0
           },
           {
            "bin_start": 55689.38428000001,
            "bin_end": 59595.18357000001,
            "count": 1
           },
           {
            "bin_start": 59595.18357000001,
            "bin_end": 63500.982860000004,
            "count": 1
           },
           {
            "bin_start": 63500.982860000004,
            "bin_end": 67406.78215,
            "count": 0
           },
           {
            "bin_start": 67406.78215,
            "bin_end": 71312.58144000001,
            "count": 0
           },
           {
            "bin_start": 71312.58144000001,
            "bin_end": 75218.38073,
            "count": 2
           },
           {
            "bin_start": 75218.38073,
            "bin_end": 79124.18002,
            "count": 1
           },
           {
            "bin_start": 79124.18002,
            "bin_end": 83029.97931,
            "count": 0
           },
           {
            "bin_start": 83029.97931,
            "bin_end": 86935.77859999999,
            "count": 1
           }
          ]
         }
        },
        {
         "name": "_deepnote_index_column",
         "dtype": "int64"
        }
       ],
       "rows": [
        {
         "product_name": "Apple Smart Phone, Full Size",
         "sales": 86935.77859999999,
         "_deepnote_index_column": 0
        },
        {
         "product_name": "Cisco Smart Phone, Full Size",
         "sales": 76441.53059999998,
         "_deepnote_index_column": 1
        },
        {
         "product_name": "Motorola Smart Phone, Full Size",
         "sales": 73156.303,
         "_deepnote_index_column": 2
        },
        {
         "product_name": "Nokia Smart Phone, Full Size",
         "sales": 71904.55549999999,
         "_deepnote_index_column": 3
        },
        {
         "product_name": "Canon imageCLASS 2200 Advanced Copier",
         "sales": 61599.824,
         "_deepnote_index_column": 4
        },
        {
         "product_name": "Hon Executive Leather Armchair, Adjustable",
         "sales": 58193.48409999997,
         "_deepnote_index_column": 5
        },
        {
         "product_name": "Office Star Executive Leather Armchair, Adjustable",
         "sales": 50661.684,
         "_deepnote_index_column": 6
        },
        {
         "product_name": "Harbour Creations Executive Leather Armchair, Adjustable",
         "sales": 50121.51600000001,
         "_deepnote_index_column": 7
        },
        {
         "product_name": "Samsung Smart Phone, Cordless",
         "sales": 48653.46000000001,
         "_deepnote_index_column": 8
        },
        {
         "product_name": "Nokia Smart Phone, with Caller ID",
         "sales": 47877.785700000015,
         "_deepnote_index_column": 9
        }
       ]
      },
      "text/plain": "                                        product_name       sales\n0                       Apple Smart Phone, Full Size  86935.7786\n1                       Cisco Smart Phone, Full Size  76441.5306\n2                    Motorola Smart Phone, Full Size  73156.3030\n3                       Nokia Smart Phone, Full Size  71904.5555\n4              Canon imageCLASS 2200 Advanced Copier  61599.8240\n5         Hon Executive Leather Armchair, Adjustable  58193.4841\n6  Office Star Executive Leather Armchair, Adjust...  50661.6840\n7  Harbour Creations Executive Leather Armchair, ...  50121.5160\n8                      Samsung Smart Phone, Cordless  48653.4600\n9                  Nokia Smart Phone, with Caller ID  47877.7857",
      "text/html": "<div>\n<style scoped>\n    .dataframe tbody tr th:only-of-type {\n        vertical-align: middle;\n    }\n\n    .dataframe tbody tr th {\n        vertical-align: top;\n    }\n\n    .dataframe thead th {\n        text-align: right;\n    }\n</style>\n<table border=\"1\" class=\"dataframe\">\n  <thead>\n    <tr style=\"text-align: right;\">\n      <th></th>\n      <th>product_name</th>\n      <th>sales</th>\n    </tr>\n  </thead>\n  <tbody>\n    <tr>\n      <th>0</th>\n      <td>Apple Smart Phone, Full Size</td>\n      <td>86935.7786</td>\n    </tr>\n    <tr>\n      <th>1</th>\n      <td>Cisco Smart Phone, Full Size</td>\n      <td>76441.5306</td>\n    </tr>\n    <tr>\n      <th>2</th>\n      <td>Motorola Smart Phone, Full Size</td>\n      <td>73156.3030</td>\n    </tr>\n    <tr>\n      <th>3</th>\n      <td>Nokia Smart Phone, Full Size</td>\n      <td>71904.5555</td>\n    </tr>\n    <tr>\n      <th>4</th>\n      <td>Canon imageCLASS 2200 Advanced Copier</td>\n      <td>61599.8240</td>\n    </tr>\n    <tr>\n      <th>5</th>\n      <td>Hon Executive Leather Armchair, Adjustable</td>\n      <td>58193.4841</td>\n    </tr>\n    <tr>\n      <th>6</th>\n      <td>Office Star Executive Leather Armchair, Adjust...</td>\n      <td>50661.6840</td>\n    </tr>\n    <tr>\n      <th>7</th>\n      <td>Harbour Creations Executive Leather Armchair, ...</td>\n      <td>50121.5160</td>\n    </tr>\n    <tr>\n      <th>8</th>\n      <td>Samsung Smart Phone, Cordless</td>\n      <td>48653.4600</td>\n    </tr>\n    <tr>\n      <th>9</th>\n      <td>Nokia Smart Phone, with Caller ID</td>\n      <td>47877.7857</td>\n    </tr>\n  </tbody>\n</table>\n</div>"
     },
     "metadata": {}
    }
   ],
   "execution_count": null
  },
  {
   "cell_type": "code",
   "source": "#Visualization of data by means of a histogram\ny = prod_sales['sales']\nx = prod_sales['product_name']\nplt.barh(x,y)\nplt.xticks(rotation='45')\nplt.title('Product vs Sales')\nplt.xlabel('Sales')\nplt.ylabel('Products')\nplt.show()",
   "metadata": {
    "cell_id": "874ea675ac2f4bb4a09a2f1ff4f8e164",
    "tags": [],
    "deepnote_to_be_reexecuted": false,
    "source_hash": "1f16f683",
    "execution_start": 1651877594194,
    "execution_millis": 356,
    "deepnote_cell_type": "code",
    "deepnote_cell_height": 729,
    "deepnote_output_heights": [
     304,
     286
    ]
   },
   "outputs": [
    {
     "data": {
      "text/plain": "<Figure size 432x288 with 1 Axes>",
      "image/png": "[encoded data removed]"
     },
     "metadata": {
      "image/png": {
       "width": 664,
       "height": 302
      }
     },
     "output_type": "display_data"
    }
   ],
   "execution_count": null
  },
  {
   "cell_type": "markdown",
   "source": "### Question 3: Which are the most selling products?",
   "metadata": {
    "cell_id": "ee74c7d46cc94c5896695f8639b7053b",
    "tags": [],
    "is_collapsed": false,
    "deepnote_cell_type": "text-cell-h3"
   }
  },
  {
   "cell_type": "code",
   "source": "#Grouping product name\nsell_pro = pd.DataFrame(df.groupby('product_name').sum()['quantity'])",
   "metadata": {
    "cell_id": "59738bd5db2145d19cf85888e1f7938e",
    "tags": [],
    "deepnote_to_be_reexecuted": false,
    "source_hash": "d3149c4e",
    "execution_start": 1651877831656,
    "execution_millis": 18,
    "deepnote_cell_type": "code",
    "deepnote_cell_height": 99
   },
   "outputs": [],
   "execution_count": null
  },
  {
   "cell_type": "code",
   "source": "#Sorting sell_prod\nsell_pro = sell_pro.sort_values('quantity', ascending=False).reset_index()\nsell_pro",
   "metadata": {
    "cell_id": "122ae47dced34659a0fdf99418f618c7",
    "tags": [],
    "deepnote_to_be_reexecuted": false,
    "source_hash": "44d2a9fc",
    "execution_start": 1651877847618,
    "execution_millis": 4,
    "deepnote_cell_type": "code",
    "deepnote_cell_height": 636
   },
   "outputs": [
    {
     "output_type": "execute_result",
     "execution_count": 43,
     "data": {
      "application/vnd.deepnote.dataframe.v3+json": {
       "column_count": 2,
       "row_count": 3788,
       "columns": [
        {
         "name": "product_name",
         "dtype": "object",
         "stats": {
          "unique_count": 3788,
          "nan_count": 0,
          "categories": [
           {
            "name": "Staples",
            "count": 1
           },
           {
            "name": "Cardinal Index Tab, Clear",
            "count": 1
           },
           {
            "name": "3786 others",
            "count": 3786
           }
          ]
         }
        },
        {
         "name": "quantity",
         "dtype": "int64",
         "stats": {
          "unique_count": 189,
          "nan_count": 0,
          "min": "1",
          "max": "876",
          "histogram": [
           {
            "bin_start": 1,
            "bin_end": 88.5,
            "count": 3275
           },
           {
            "bin_start": 88.5,
            "bin_end": 176,
            "count": 493
           },
           {
            "bin_start": 176,
            "bin_end": 263.5,
            "count": 17
           },
           {
            "bin_start": 263.5,
            "bin_end": 351,
            "count": 2
           },
           {
            "bin_start": 351,
            "bin_end": 438.5,
            "count": 0
           },
           {
            "bin_start": 438.5,
            "bin_end": 526,
            "count": 0
           },
           {
            "bin_start": 526,
            "bin_end": 613.5,
            "count": 0
           },
           {
            "bin_start": 613.5,
            "bin_end": 701,
            "count": 0
           },
           {
            "bin_start": 701,
            "bin_end": 788.5,
            "count": 0
           },
           {
            "bin_start": 788.5,
            "bin_end": 876,
            "count": 1
           }
          ]
         }
        },
        {
         "name": "_deepnote_index_column",
         "dtype": "int64"
        }
       ],
       "rows": [
        {
         "product_name": "Staples",
         "quantity": 876,
         "_deepnote_index_column": 0
        },
        {
         "product_name": "Cardinal Index Tab, Clear",
         "quantity": 337,
         "_deepnote_index_column": 1
        },
        {
         "product_name": "Eldon File Cart, Single Width",
         "quantity": 321,
         "_deepnote_index_column": 2
        },
        {
         "product_name": "Rogers File Cart, Single Width",
         "quantity": 262,
         "_deepnote_index_column": 3
        },
        {
         "product_name": "Sanford Pencil Sharpener, Water Color",
         "quantity": 259,
         "_deepnote_index_column": 4
        },
        {
         "product_name": "Stockwell Paper Clips, Assorted Sizes",
         "quantity": 253,
         "_deepnote_index_column": 5
        },
        {
         "product_name": "Avery Index Tab, Clear",
         "quantity": 252,
         "_deepnote_index_column": 6
        },
        {
         "product_name": "Ibico Index Tab, Clear",
         "quantity": 251,
         "_deepnote_index_column": 7
        },
        {
         "product_name": "Smead File Cart, Single Width",
         "quantity": 250,
         "_deepnote_index_column": 8
        },
        {
         "product_name": "Stanley Pencil Sharpener, Water Color",
         "quantity": 242,
         "_deepnote_index_column": 9
        }
       ]
      },
      "text/plain": "                                           product_name  quantity\n0                                               Staples       876\n1                             Cardinal Index Tab, Clear       337\n2                         Eldon File Cart, Single Width       321\n3                        Rogers File Cart, Single Width       262\n4                 Sanford Pencil Sharpener, Water Color       259\n...                                                 ...       ...\n3783                Penpower WorldCard Pro Card Scanner         1\n3784  Bush Saratoga Collection 5-Shelf Bookcase, Han...         1\n3785              Boston 1900 Electric Pencil Sharpener         1\n3786                                           Xerox 20         1\n3787  Global Enterprise Series Seating Low-Back Swiv...         1\n\n[3788 rows x 2 columns]",
      "text/html": "<div>\n<style scoped>\n    .dataframe tbody tr th:only-of-type {\n        vertical-align: middle;\n    }\n\n    .dataframe tbody tr th {\n        vertical-align: top;\n    }\n\n    .dataframe thead th {\n        text-align: right;\n    }\n</style>\n<table border=\"1\" class=\"dataframe\">\n  <thead>\n    <tr style=\"text-align: right;\">\n      <th></th>\n      <th>product_name</th>\n      <th>quantity</th>\n    </tr>\n  </thead>\n  <tbody>\n    <tr>\n      <th>0</th>\n      <td>Staples</td>\n      <td>876</td>\n    </tr>\n    <tr>\n      <th>1</th>\n      <td>Cardinal Index Tab, Clear</td>\n      <td>337</td>\n    </tr>\n    <tr>\n      <th>2</th>\n      <td>Eldon File Cart, Single Width</td>\n      <td>321</td>\n    </tr>\n    <tr>\n      <th>3</th>\n      <td>Rogers File Cart, Single Width</td>\n      <td>262</td>\n    </tr>\n    <tr>\n      <th>4</th>\n      <td>Sanford Pencil Sharpener, Water Color</td>\n      <td>259</td>\n    </tr>\n    <tr>\n      <th>...</th>\n      <td>...</td>\n      <td>...</td>\n    </tr>\n    <tr>\n      <th>3783</th>\n      <td>Penpower WorldCard Pro Card Scanner</td>\n      <td>1</td>\n    </tr>\n    <tr>\n      <th>3784</th>\n      <td>Bush Saratoga Collection 5-Shelf Bookcase, Han...</td>\n      <td>1</td>\n    </tr>\n    <tr>\n      <th>3785</th>\n      <td>Boston 1900 Electric Pencil Sharpener</td>\n      <td>1</td>\n    </tr>\n    <tr>\n      <th>3786</th>\n      <td>Xerox 20</td>\n      <td>1</td>\n    </tr>\n    <tr>\n      <th>3787</th>\n      <td>Global Enterprise Series Seating Low-Back Swiv...</td>\n      <td>1</td>\n    </tr>\n  </tbody>\n</table>\n<p>3788 rows × 2 columns</p>\n</div>"
     },
     "metadata": {}
    }
   ],
   "execution_count": null
  },
  {
   "cell_type": "code",
   "source": "#Visualization of data by means of a histogram\nx = sell_pro['product_name'][:10]\ny = sell_pro['quantity'][:10]\n\nplt.barh(x,y)\nplt.title('Product vs Quantity')\nplt.xlabel('Quantity')\nplt.ylabel('Products')\nplt.show()",
   "metadata": {
    "cell_id": "f80c324bf24949838831f4b599459a83",
    "tags": [],
    "deepnote_to_be_reexecuted": false,
    "source_hash": "4847b00a",
    "execution_start": 1651878086177,
    "execution_millis": 435,
    "deepnote_cell_type": "code",
    "deepnote_cell_height": 525,
    "deepnote_output_heights": [
     284
    ]
   },
   "outputs": [
    {
     "data": {
      "text/plain": "<Figure size 432x288 with 1 Axes>",
      "image/png": "[encoded data removed]"
     },
     "metadata": {
      "image/png": {
       "width": 564,
       "height": 282
      }
     },
     "output_type": "display_data"
    }
   ],
   "execution_count": null
  },
  {
   "cell_type": "markdown",
   "source": "### Question 4: What is the most preferred ship mode?",
   "metadata": {
    "cell_id": "163fe36168214cafbae2594baafea260",
    "tags": [],
    "is_collapsed": false,
    "deepnote_cell_type": "text-cell-h3"
   }
  },
  {
   "cell_type": "code",
   "source": "#Setting figure size\nplt.figure(figsize=(10,7.5))\n\n#Plotting ship mode\nsns.countplot(df['ship_mode'])\nplt.show()",
   "metadata": {
    "cell_id": "6415d4c4e5bf4440aaae1ee8c418c541",
    "tags": [],
    "deepnote_to_be_reexecuted": false,
    "source_hash": "87f5adfe",
    "execution_start": 1651878527692,
    "execution_millis": 536,
    "deepnote_cell_type": "code",
    "deepnote_cell_height": 715.375,
    "deepnote_output_heights": [
     null,
     458,
     458
    ]
   },
   "outputs": [
    {
     "name": "stderr",
     "text": "/shared-libs/python3.7/py/lib/python3.7/site-packages/seaborn/_decorators.py:43: FutureWarning: Pass the following variable as a keyword arg: x. From version 0.12, the only valid positional argument will be `data`, and passing other arguments without an explicit keyword will result in an error or misinterpretation.\n  FutureWarning\n",
     "output_type": "stream"
    },
    {
     "data": {
      "text/plain": "<Figure size 720x540 with 1 Axes>",
      "image/png": "[encoded data removed]"
     },
     "metadata": {
      "image/png": {
       "width": 627,
       "height": 456
      }
     },
     "output_type": "display_data"
    }
   ],
   "execution_count": null
  },
  {
   "cell_type": "markdown",
   "source": "### Question 5: Which are the most profitable category and sub-category?",
   "metadata": {
    "cell_id": "af43dd38ce664061b67c299849130548",
    "tags": [],
    "is_collapsed": false,
    "deepnote_cell_type": "text-cell-h3"
   }
  },
  {
   "cell_type": "code",
   "source": "#Groupby category and sub category\ncat_subcat_profit = pd.DataFrame(df.groupby(['category', 'sub_category']).sum()['profit']).reset_index()\ncat_subcat_profit.head()",
   "metadata": {
    "cell_id": "549e7126f25349839681e3c9c50dec81",
    "tags": [],
    "deepnote_to_be_reexecuted": false,
    "source_hash": "535db4cd",
    "execution_start": 1651879057558,
    "execution_millis": 114,
    "deepnote_cell_type": "code",
    "deepnote_cell_height": 431
   },
   "outputs": [
    {
     "output_type": "execute_result",
     "execution_count": 66,
     "data": {
      "application/vnd.deepnote.dataframe.v3+json": {
       "column_count": 3,
       "row_count": 5,
       "columns": [
        {
         "name": "category",
         "dtype": "object",
         "stats": {
          "unique_count": 2,
          "nan_count": 0,
          "categories": [
           {
            "name": "Furniture",
            "count": 4
           },
           {
            "name": "Office Supplies",
            "count": 1
           }
          ]
         }
        },
        {
         "name": "sub_category",
         "dtype": "object",
         "stats": {
          "unique_count": 5,
          "nan_count": 0,
          "categories": [
           {
            "name": "Bookcases",
            "count": 1
           },
           {
            "name": "Chairs",
            "count": 1
           },
           {
            "name": "3 others",
            "count": 3
           }
          ]
         }
        },
        {
         "name": "profit",
         "dtype": "float64",
         "stats": {
          "unique_count": 5,
          "nan_count": 0,
          "min": "-64083.38869999999",
          "max": "161924.41950000016",
          "histogram": [
           {
            "bin_start": -64083.38869999999,
            "bin_end": -41482.607879999974,
            "count": 1
           },
           {
            "bin_start": -41482.607879999974,
            "bin_end": -18881.82705999996,
            "count": 0
           },
           {
            "bin_start": -18881.82705999996,
            "bin_end": 3718.953760000055,
            "count": 0
           },
           {
            "bin_start": 3718.953760000055,
            "bin_end": 26319.73458000007,
            "count": 0
           },
           {
            "bin_start": 26319.73458000007,
            "bin_end": 48920.515400000084,
            "count": 1
           },
           {
            "bin_start": 48920.515400000084,
            "bin_end": 71521.2962200001,
            "count": 0
           },
           {
            "bin_start": 71521.2962200001,
            "bin_end": 94122.07704000012,
            "count": 0
           },
           {
            "bin_start": 94122.07704000012,
            "bin_end": 116722.85786000013,
            "count": 0
           },
           {
            "bin_start": 116722.85786000013,
            "bin_end": 139323.63868000015,
            "count": 0
           },
           {
            "bin_start": 139323.63868000015,
            "bin_end": 161924.41950000016,
            "count": 3
           }
          ]
         }
        },
        {
         "name": "_deepnote_index_column",
         "dtype": "int64"
        }
       ],
       "rows": [
        {
         "category": "Furniture",
         "sub_category": "Bookcases",
         "profit": 161924.41950000016,
         "_deepnote_index_column": 0
        },
        {
         "category": "Furniture",
         "sub_category": "Chairs",
         "profit": 141973.79749999967,
         "_deepnote_index_column": 1
        },
        {
         "category": "Furniture",
         "sub_category": "Furnishings",
         "profit": 46967.425499999925,
         "_deepnote_index_column": 2
        },
        {
         "category": "Furniture",
         "sub_category": "Tables",
         "profit": -64083.38869999999,
         "_deepnote_index_column": 3
        },
        {
         "category": "Office Supplies",
         "sub_category": "Appliances",
         "profit": 141680.58940000017,
         "_deepnote_index_column": 4
        }
       ]
      },
      "text/plain": "          category sub_category       profit\n0        Furniture    Bookcases  161924.4195\n1        Furniture       Chairs  141973.7975\n2        Furniture  Furnishings   46967.4255\n3        Furniture       Tables  -64083.3887\n4  Office Supplies   Appliances  141680.5894",
      "text/html": "<div>\n<style scoped>\n    .dataframe tbody tr th:only-of-type {\n        vertical-align: middle;\n    }\n\n    .dataframe tbody tr th {\n        vertical-align: top;\n    }\n\n    .dataframe thead th {\n        text-align: right;\n    }\n</style>\n<table border=\"1\" class=\"dataframe\">\n  <thead>\n    <tr style=\"text-align: right;\">\n      <th></th>\n      <th>category</th>\n      <th>sub_category</th>\n      <th>profit</th>\n    </tr>\n  </thead>\n  <tbody>\n    <tr>\n      <th>0</th>\n      <td>Furniture</td>\n      <td>Bookcases</td>\n      <td>161924.4195</td>\n    </tr>\n    <tr>\n      <th>1</th>\n      <td>Furniture</td>\n      <td>Chairs</td>\n      <td>141973.7975</td>\n    </tr>\n    <tr>\n      <th>2</th>\n      <td>Furniture</td>\n      <td>Furnishings</td>\n      <td>46967.4255</td>\n    </tr>\n    <tr>\n      <th>3</th>\n      <td>Furniture</td>\n      <td>Tables</td>\n      <td>-64083.3887</td>\n    </tr>\n    <tr>\n      <th>4</th>\n      <td>Office Supplies</td>\n      <td>Appliances</td>\n      <td>141680.5894</td>\n    </tr>\n  </tbody>\n</table>\n</div>"
     },
     "metadata": {}
    }
   ],
   "execution_count": null
  },
  {
   "cell_type": "code",
   "source": "#shorting\ncat_subcat_profit = cat_subcat_profit.sort_values(['category', 'profit'], ascending=False)\ncat_subcat_profit.head(10)",
   "metadata": {
    "cell_id": "fbb8293593ab4ea09ecd63991ccd8bba",
    "tags": [],
    "deepnote_to_be_reexecuted": false,
    "source_hash": "c2bbded3",
    "execution_start": 1651879355676,
    "execution_millis": 59,
    "deepnote_cell_type": "code",
    "deepnote_cell_height": 636
   },
   "outputs": [
    {
     "output_type": "execute_result",
     "execution_count": 67,
     "data": {
      "application/vnd.deepnote.dataframe.v3+json": {
       "column_count": 3,
       "row_count": 10,
       "columns": [
        {
         "name": "category",
         "dtype": "object",
         "stats": {
          "unique_count": 2,
          "nan_count": 0,
          "categories": [
           {
            "name": "Office Supplies",
            "count": 6
           },
           {
            "name": "Technology",
            "count": 4
           }
          ]
         }
        },
        {
         "name": "sub_category",
         "dtype": "object",
         "stats": {
          "unique_count": 10,
          "nan_count": 0,
          "categories": [
           {
            "name": "Copiers",
            "count": 1
           },
           {
            "name": "Phones",
            "count": 1
           },
           {
            "name": "8 others",
            "count": 8
           }
          ]
         }
        },
        {
         "name": "profit",
         "dtype": "float64",
         "stats": {
          "unique_count": 10,
          "nan_count": 0,
          "min": "29601.116299999998",
          "max": "258567.5481799999",
          "histogram": [
           {
            "bin_start": 29601.116299999998,
            "bin_end": 52497.75948799999,
            "count": 1
           },
           {
            "bin_start": 52497.75948799999,
            "bin_end": 75394.40267599998,
            "count": 4
           },
           {
            "bin_start": 75394.40267599998,
            "bin_end": 98291.04586399997,
            "count": 0
           },
           {
            "bin_start": 98291.04586399997,
            "bin_end": 121187.68905199996,
            "count": 1
           },
           {
            "bin_start": 121187.68905199996,
            "bin_end": 144084.33223999996,
            "count": 2
           },
           {
            "bin_start": 144084.33223999996,
            "bin_end": 166980.97542799995,
            "count": 0
           },
           {
            "bin_start": 166980.97542799995,
            "bin_end": 189877.61861599993,
            "count": 0
           },
           {
            "bin_start": 189877.61861599993,
            "bin_end": 212774.26180399992,
            "count": 0
           },
           {
            "bin_start": 212774.26180399992,
            "bin_end": 235670.9049919999,
            "count": 1
           },
           {
            "bin_start": 235670.9049919999,
            "bin_end": 258567.5481799999,
            "count": 1
           }
          ]
         }
        },
        {
         "name": "_deepnote_index_column",
         "dtype": "int64"
        }
       ],
       "rows": [
        {
         "category": "Technology",
         "sub_category": "Copiers",
         "profit": 258567.5481799999,
         "_deepnote_index_column": 14
        },
        {
         "category": "Technology",
         "sub_category": "Phones",
         "profit": 216717.00579999998,
         "_deepnote_index_column": 16
        },
        {
         "category": "Technology",
         "sub_category": "Accessories",
         "profit": 129626.30619999964,
         "_deepnote_index_column": 13
        },
        {
         "category": "Technology",
         "sub_category": "Machines",
         "profit": 58867.872999999956,
         "_deepnote_index_column": 15
        },
        {
         "category": "Office Supplies",
         "sub_category": "Appliances",
         "profit": 141680.58940000017,
         "_deepnote_index_column": 4
        },
        {
         "category": "Office Supplies",
         "sub_category": "Storage",
         "profit": 108461.48979999997,
         "_deepnote_index_column": 11
        },
        {
         "category": "Office Supplies",
         "sub_category": "Binders",
         "profit": 72449.84600000024,
         "_deepnote_index_column": 6
        },
        {
         "category": "Office Supplies",
         "sub_category": "Paper",
         "profit": 59207.682699999874,
         "_deepnote_index_column": 10
        },
        {
         "category": "Office Supplies",
         "sub_category": "Art",
         "profit": 57953.91089999988,
         "_deepnote_index_column": 5
        },
        {
         "category": "Office Supplies",
         "sub_category": "Envelopes",
         "profit": 29601.116299999998,
         "_deepnote_index_column": 7
        }
       ]
      },
      "text/plain": "           category sub_category        profit\n14       Technology      Copiers  258567.54818\n16       Technology       Phones  216717.00580\n13       Technology  Accessories  129626.30620\n15       Technology     Machines   58867.87300\n4   Office Supplies   Appliances  141680.58940\n11  Office Supplies      Storage  108461.48980\n6   Office Supplies      Binders   72449.84600\n10  Office Supplies        Paper   59207.68270\n5   Office Supplies          Art   57953.91090\n7   Office Supplies    Envelopes   29601.11630",
      "text/html": "<div>\n<style scoped>\n    .dataframe tbody tr th:only-of-type {\n        vertical-align: middle;\n    }\n\n    .dataframe tbody tr th {\n        vertical-align: top;\n    }\n\n    .dataframe thead th {\n        text-align: right;\n    }\n</style>\n<table border=\"1\" class=\"dataframe\">\n  <thead>\n    <tr style=\"text-align: right;\">\n      <th></th>\n      <th>category</th>\n      <th>sub_category</th>\n      <th>profit</th>\n    </tr>\n  </thead>\n  <tbody>\n    <tr>\n      <th>14</th>\n      <td>Technology</td>\n      <td>Copiers</td>\n      <td>258567.54818</td>\n    </tr>\n    <tr>\n      <th>16</th>\n      <td>Technology</td>\n      <td>Phones</td>\n      <td>216717.00580</td>\n    </tr>\n    <tr>\n      <th>13</th>\n      <td>Technology</td>\n      <td>Accessories</td>\n      <td>129626.30620</td>\n    </tr>\n    <tr>\n      <th>15</th>\n      <td>Technology</td>\n      <td>Machines</td>\n      <td>58867.87300</td>\n    </tr>\n    <tr>\n      <th>4</th>\n      <td>Office Supplies</td>\n      <td>Appliances</td>\n      <td>141680.58940</td>\n    </tr>\n    <tr>\n      <th>11</th>\n      <td>Office Supplies</td>\n      <td>Storage</td>\n      <td>108461.48980</td>\n    </tr>\n    <tr>\n      <th>6</th>\n      <td>Office Supplies</td>\n      <td>Binders</td>\n      <td>72449.84600</td>\n    </tr>\n    <tr>\n      <th>10</th>\n      <td>Office Supplies</td>\n      <td>Paper</td>\n      <td>59207.68270</td>\n    </tr>\n    <tr>\n      <th>5</th>\n      <td>Office Supplies</td>\n      <td>Art</td>\n      <td>57953.91090</td>\n    </tr>\n    <tr>\n      <th>7</th>\n      <td>Office Supplies</td>\n      <td>Envelopes</td>\n      <td>29601.11630</td>\n    </tr>\n  </tbody>\n</table>\n</div>"
     },
     "metadata": {}
    }
   ],
   "execution_count": null
  },
  {
   "cell_type": "code",
   "source": "x = cat_subcat_profit['category']\ny = cat_subcat_profit['profit']\n\nplt.bar(x,y)\nplt.show()",
   "metadata": {
    "cell_id": "8ed6e793e4c6441281bf3c8f52a84c2c",
    "tags": [],
    "deepnote_to_be_reexecuted": false,
    "source_hash": "6fe3b2ab",
    "execution_start": 1651879547398,
    "execution_millis": 635,
    "deepnote_cell_type": "code",
    "deepnote_cell_height": 419,
    "deepnote_output_heights": [
     250
    ]
   },
   "outputs": [
    {
     "data": {
      "text/plain": "<Figure size 432x288 with 1 Axes>",
      "image/png": "[encoded data removed]"
     },
     "metadata": {
      "image/png": {
       "width": 395,
       "height": 248
      }
     },
     "output_type": "display_data"
    }
   ],
   "execution_count": null
  },
  {
   "cell_type": "code",
   "source": "x = cat_subcat_profit['sub_category']\ny = cat_subcat_profit['profit']\n\nplt.barh(x,y)\nplt.xticks(rotation='90')\nplt.show()",
   "metadata": {
    "cell_id": "57a05df4839541beaf1bd7bd5f3c2b57",
    "tags": [],
    "owner_user_id": "8e88df7c-7cea-4680-92f0-02a2333750b8",
    "deepnote_to_be_reexecuted": false,
    "source_hash": "69885e28",
    "execution_start": 1651879664437,
    "execution_millis": 494,
    "deepnote_cell_type": "code",
    "deepnote_cell_height": 467,
    "deepnote_output_heights": [
     280
    ]
   },
   "outputs": [
    {
     "data": {
      "text/plain": "<Figure size 432x288 with 1 Axes>",
      "image/png": "[encoded data removed]"
     },
     "metadata": {
      "image/png": {
       "width": 414,
       "height": 278
      }
     },
     "output_type": "display_data"
    }
   ],
   "execution_count": null
  },
  {
   "cell_type": "markdown",
   "source": "<a style='text-decoration:none;line-height:16px;display:flex;color:#5B5B62;padding:10px;justify-content:end;' href='https://deepnote.com?utm_source=created-in-deepnote-cell&projectId=8735fda7-e84a-4693-bf29-dadf426e611e' target=\"_blank\">\n<img alt='Created in deepnote.com' style='display:inline;max-height:16px;margin:0px;margin-right:7.5px;' src='data:image/svg+xml;base64,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' > </img>\nCreated in <span style='font-weight:600;margin-left:4px;'>Deepnote</span></a>",
   "metadata": {
    "tags": [],
    "created_in_deepnote_cell": true,
    "deepnote_cell_type": "markdown"
   }
  }
 ],
 "nbformat": 4,
 "nbformat_minor": 2,
 "metadata": {
  "orig_nbformat": 2,
  "deepnote": {},
  "deepnote_notebook_id": "eb806b94-23e0-4359-a8e0-4c24a454edd5",
  "deepnote_execution_queue": []
 }
}